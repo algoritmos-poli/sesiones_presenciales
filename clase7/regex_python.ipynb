{
  "cells": [
    {
      "cell_type": "markdown",
      "id": "93cca8ba",
      "metadata": {
        "id": "93cca8ba"
      },
      "source": [
        "# Introducción a las Expresiones Regulares en Python con el Módulo `re`"
      ]
    },
    {
      "cell_type": "markdown",
      "id": "5a64ea02",
      "metadata": {
        "id": "5a64ea02"
      },
      "source": [
        "## 1. Conceptos teoricos"
      ]
    },
    {
      "cell_type": "markdown",
      "id": "6d52ebc4",
      "metadata": {
        "id": "6d52ebc4"
      },
      "source": [
        "### 1.1. ¿Qué son las Expresiones Regulares?\n",
        "\n",
        "Una **expresión regular** (del inglés *Regular Expression*, comúnmente abreviada como **\"regex\"**) es una secuencia de caracteres que conforma un patrón de búsqueda. Constituyen un lenguaje formal utilizado para la identificación, extracción y manipulación de cadenas de texto basadas en patrones definidos.\n",
        "\n",
        "Su aplicación es fundamental en campos como la bioinformática, el procesamiento de lenguaje natural y el desarrollo de software, para tareas como:\n",
        "* **Validación de datos**: Asegurar que la entrada del usuario cumpla con un formato específico (p. ej., correos electrónicos, contraseñas, números de teléfono).\n",
        "* **Extracción de información (Parsing)**: Analizar grandes volúmenes de texto para extraer datos estructurados, como fechas o identificadores únicos.\n",
        "* **Búsqueda y reemplazo avanzado**: Realizar sustituciones complejas en editores de código y procesadores de texto.\n",
        "\n"
      ]
    },
    {
      "cell_type": "markdown",
      "id": "EC7XK1s33dbM",
      "metadata": {
        "id": "EC7XK1s33dbM"
      },
      "source": [
        "### 1.2. Componentes Fundamentales de una Expresión Regular\n",
        "\n",
        "Un patrón de regex se construye mediante la combinación de **caracteres literales** (p. ej., `a`, `b`, `1`) y **metacaracteres**, que son caracteres con una interpretación especial. A continuación, se clasifican los metacaracteres esenciales según su función.\n",
        "\n",
        "#### 1.2.1. Clases de Caracteres\n",
        "\n",
        "Representan un conjunto de caracteres que pueden coincidir en una posición determinada.\n",
        "\n",
        "| Símbolo | Descripción | Ejemplo de Coincidencia | Caso de Uso Práctico |\n",
        "|:---|:---|:---|:---|\n",
        "| `.` | Coincide con cualquier carácter, excepto el salto de línea. | `c.t` coincide con \"cat\", \"cot\", \"c&t\". | Buscar archivos con una extensión de 3 letras (ej: `reporte.log`, `reporte.txt`). |\n",
        "| `\\d` | Coincide con cualquier dígito decimal (equivalente a `[0-9]`). | `ID-\\d\\d` coincide con \"ID-25\", \"ID-99\". | Extraer el número de un identificador de producto. |\n",
        "| `\\D` | Coincide con cualquier carácter que **no** sea un dígito. | `\\D+` coincide con \"Texto\", \"!@#\". | Detectar caracteres inválidos en un campo de teléfono. |\n",
        "| `\\w` | Coincide con un carácter de palabra (alfanumérico y guion bajo). | `\\w{3}` coincide con \"usr\", \"num\", \"id_\". | Validar que un nombre de usuario contenga solo caracteres permitidos. |\n",
        "| `\\W` | Coincide con cualquier carácter que **no** sea de palabra. | `\\W` coincide con \" \", \"*\", \"-\". | Dividir una frase en palabras usando símbolos (`-`, ` `) como separadores. |\n",
        "| `\\s` | Coincide con cualquier carácter de espacio en blanco (espacio, tabulador). | `valor\\sfinal` coincide con \"valor final\". | Eliminar o normalizar espacios duplicados en un texto. |\n",
        "| `\\S` | Coincide con cualquier carácter que **no** sea un espacio en blanco. | `\\S+` coincide con una cadena sin espacios. | Contar el número de palabras en un texto (buscando secuencias de no-espacios). |\n",
        "| `[xyz]` | Conjunto definido. Coincide con un solo carácter del conjunto. | `v[ae]l` coincide con \"vel\" y \"val\". | Verificar que el estado de un pedido sea 'A' (Aprobado) o 'P' (Pendiente). |\n",
        "| `[^xyz]`| Conjunto negado. Coincide con cualquier carácter **excepto** los del conjunto. | `[^A-Z]` coincide con cualquier carácter no mayúsculo. | Prohibir caracteres especiales (`/`, `\\`, `:`) en un nombre de archivo. |\n",
        "| `[a-z]` | Rango. Coincide con cualquier carácter dentro del rango especificado. | `[0-9]` coincide con cualquier dígito. | Requerir que una contraseña contenga al menos una letra minúscula. |\n",
        "\n",
        "#### 1.2.2. Anclas (Anchors)\n",
        "\n",
        "Las anclas no coinciden con caracteres, sino con una posición específica dentro de la cadena de texto.\n",
        "\n",
        "| Símbolo | Descripción | Caso de Uso Práctico |\n",
        "|:---|:---|:---|\n",
        "| `^` | Representa el inicio de la cadena de texto. | Asegurar que un texto de entrada comience con un prefijo obligatorio, como `INV-` para facturas. |\n",
        "| `$` | Representa el final de la cadena de texto. | Validar que una URL de imagen termine en `.jpg` o `.png`. |\n",
        "| `\\b` | Representa un límite de palabra. | Buscar la palabra \"red\" sin que coincida con \"reducción\" o \"pared\". |\n",
        "\n",
        "#### 1.2.3. Cuantificadores (Quantifiers)\n",
        "\n",
        "Especifican el número de veces que el elemento precedente (carácter o grupo) debe aparecer para que haya una coincidencia.\n",
        "\n",
        "| Símbolo | Descripción | Caso de Uso Práctico |\n",
        "|:---|:---|:---|\n",
        "| `*` | Cero o más ocurrencias del elemento precedente. | Permitir un campo opcional, como un segundo apellido (`apellido1 \\w*`). |\n",
        "| `+` | Una o más ocurrencias del elemento precedente. | Asegurar que un campo obligatorio (como el nombre de usuario) no esté vacío. |\n",
        "| `?` | Cero o una ocurrencia del elemento precedente. | Aceptar el formato internacional de teléfono, con un `+` opcional al inicio. |\n",
        "| `{n}` | Exactamente `n` ocurrencias. | Validar un código postal de 5 dígitos o un año de 4 dígitos. |\n",
        "| `{n,m}` | Un mínimo de `n` y un máximo de `m` ocurrencias. | Establecer un requisito de longitud para una contraseña (entre 8 y 16 caracteres). |\n",
        "| `{n,}` | Como mínimo `n` ocurrencias. | Verificar que una reseña de producto tenga un mínimo de 20 caracteres. |\n",
        "\n",
        "\n",
        "#### 1.2.4. Agrupación y Alternancia\n",
        "\n",
        "Permiten definir sub-expresiones y especificar alternativas.\n",
        "\n",
        "| Símbolo | Descripción | Caso de Uso Práctico |\n",
        "|:---|:---|:---|\n",
        "| `( ... )` | Agrupa una serie de elementos para que funcionen como una sola unidad. | Repetir una secuencia, como `(ha)+` para buscar \"ha\", \"haha\", \"hahaha\", etc. |\n",
        "| `A\\|B` | Operador de alternancia (OR). Coincide con la expresión `A` o con la `B`. | Aceptar múltiples formas de un término, como `(USA\\|EEUU\\|Estados Unidos)`. |"
      ]
    },
    {
      "cell_type": "markdown",
      "id": "d8036ea9",
      "metadata": {
        "id": "d8036ea9"
      },
      "source": [
        "### 1.3. Implementación de Expresiones Regulares en Python: El Módulo `re`\n",
        "\n",
        "Python incluye una potente biblioteca estándar para aplicar la teoría de regex: el módulo `re`. Este módulo proporciona funciones para compilar y utilizar los patrones en cadenas de texto.\n",
        "\n",
        "**Es una buena práctica usar cadenas crudas (raw strings)**, prefijando la cadena con una `r` (ej: `r\"\\d+\"`), para evitar que Python interprete los caracteres de escape (`\\`) de forma inesperada.\n",
        "\n",
        "#### 1.3.1. Funciones Principales\n",
        "\n",
        "| Función | Descripción | Ejemplo de Uso (Python) |\n",
        "|:---|:---|:---|\n",
        "| `re.search(p, s)` | Busca la **primera** coincidencia del patrón `p` en la cadena `s`. | ``re.search(r'o', 'hola mundo').span() # (1, 2)`` |\n",
        "| `re.match(p, s)` | Busca una coincidencia del patrón `p` **solo al principio** de la cadena `s`. | ``re.match(r'hola', 'hola mundo') # Coincide`` |\n",
        "| `re.findall(p, s)`| Encuentra **todas** las coincidencias del patrón `p` en `s`. | ``re.findall(r'\\d', 'item-1, item-2') # ['1', '2']`` |\n",
        "| `re.sub(p, r, s)` | **Sustituye** las coincidencias del patrón `p` por el reemplazo `r` en `s`.| ``re.sub(r'-', ' ', 'hola-mundo') # 'hola mundo'`` |\n",
        "| `re.split(p, s)` | **Divide** la cadena `s` en una lista, usando el patrón `p` como separador. | ``re.split(r'[,;]', 'a,b;c') # ['a', 'b', 'c']`` |\n",
        "\n",
        "\n",
        "#### 1.3.2. El Objeto `Match`\n",
        "\n",
        "Las funciones como `search` y `match` retornan un **objeto `Match`** que contiene información sobre la coincidencia.\n",
        "\n",
        "*Para los siguientes ejemplos, considere este código de preparación:*\n",
        "`match = re.search(r'#(\\d+)', 'Pedido #101 recibido')`\n",
        "\n",
        "| Método del `Match` | Descripción | Ejemplo de Uso (Python) |\n",
        "|:---|:---|:---|\n",
        "| `match.group(0)` | Retorna la subcadena completa que coincidió. | ``match.group(0) # Retorna '#101'`` |\n",
        "| `match.group(1)` | Retorna el texto capturado por el primer grupo `(...)`. | ``match.group(1) # Retorna '101'`` |\n",
        "| `match.start()` | Retorna el índice de inicio de la coincidencia. | ``match.start() # Retorna 8`` |\n",
        "| `match.end()` | Retorna el índice de fin de la coincidencia. | ``match.end() # Retorna 12`` |\n",
        "| `match.span()` | Retorna una tupla `(inicio, fin)`. | ``match.span() # Retorna (8, 12)`` |"
      ]
    },
    {
      "cell_type": "code",
      "execution_count": 2,
      "id": "b69ab65a",
      "metadata": {
        "id": "b69ab65a"
      },
      "outputs": [],
      "source": [
        "import re"
      ]
    },
    {
      "cell_type": "markdown",
      "id": "6b6d3a53",
      "metadata": {
        "id": "6b6d3a53"
      },
      "source": [
        "## 2. Ejemplos\n",
        "\n",
        "A continuación se muestran varios ejemplos de aplicación empleando expresiones regulares. El obtetivo consiste en analizar cada uno de los ejemplos en [regex101.com](https://regex101.com/) y su implementación en python y comparar los resultados."
      ]
    },
    {
      "cell_type": "markdown",
      "id": "32590f79",
      "metadata": {
        "id": "32590f79"
      },
      "source": [
        "### 2.1. Ejemplo 1: Coincidencia de Caracteres Exactos y Clases Predefinidas (`.`, `\\d`, `\\w`)\n",
        "\n",
        "Este ejemplo demuestra cómo buscar coincidencias de caracteres literales y utilizar clases de caracteres predefinidas como `.` (cualquier carácter excepto salto de línea), `\\d` (dígito) y `\\w` (carácter de palabra).\n",
        "\n",
        "*   **Patrón de Regex:** `r'a.\\d\\w'`\n",
        "    *   `a`: Coincide con el carácter literal 'a'.\n",
        "    *   `.`: Coincide con cualquier carácter (excepto nueva línea) después de 'a'.\n",
        "    *   `\\d`: Coincide con un dígito después del carácter anterior.\n",
        "    *   `\\w`: Coincide con un carácter de palabra (letra, número o guion bajo) después del dígito.\n",
        "*   **Texto de Ejemplo:** `El código es aX1b y la clave es aY2c.`\n",
        "\n",
        "**Prueba en regex101**\n",
        "\n",
        "Introduzca el patrón `a.\\d\\w` y el texto de ejemplo `El código es aX1b y la clave es aY2c.` para ver las coincidencias. La siguiente figura muestra lo que se espera visualizar:\n",
        "\n",
        "![ejemplo](regex_101_example.png)\n",
        "\n",
        "**Implementación en Python**\n",
        "\n",
        "En la siguiente figura se muestra un resultado similar usando la función `re.findall()` para encontrar e imprimir todos los patrones del texto que coinciden con el patron de Regex empleado."
      ]
    },
    {
      "cell_type": "code",
      "execution_count": 3,
      "id": "3376ac09",
      "metadata": {
        "colab": {
          "base_uri": "https://localhost:8080/"
        },
        "id": "3376ac09",
        "outputId": "ab1c18a1-c6c9-481b-f50a-ea4ee30646fc"
      },
      "outputs": [
        {
          "name": "stdout",
          "output_type": "stream",
          "text": [
            "['aX1b', 'aY2c']\n"
          ]
        }
      ],
      "source": [
        "text = \"El código es aX1b y la clave es aY2c.\"\n",
        "pattern = r'a.\\d\\w'\n",
        "\n",
        "matches = re.findall(pattern, text)\n",
        "print(matches)"
      ]
    },
    {
      "cell_type": "markdown",
      "id": "SVCqlJJT8viH",
      "metadata": {
        "id": "SVCqlJJT8viH"
      },
      "source": [
        "> **Conclusión**: El primer ejemplo demostró con éxito la coincidencia de caracteres literales y clases de caracteres básicas (`.`, `\\d`, `\\w`),encontrando \"aX1b\" y \"aY2c\" en el texto de ejemplo."
      ]
    },
    {
      "cell_type": "markdown",
      "id": "wqNq8IUV7hqN",
      "metadata": {
        "id": "wqNq8IUV7hqN"
      },
      "source": [
        "### 2.2. Ejemplo 2: Uso de Cuantificadores: `*`, `+`, `?`, `{}`\n",
        "\n",
        "Este ejemplo ilustra cómo utilizar cuantificadores en expresiones regulares para especificar cuántas veces un carácter o grupo debe aparecer para que haya una coincidencia.\n",
        "\n",
        "*   **Texto de Ejemplo:** `ac, abc, abbc, abbbc, abbbbc, abbbbbc`\n",
        "\n",
        "*   **Patrones de Regex y Explicaciones:**\n",
        "    *   `r'ab*c'`: Coincide con 'a', seguido de **cero o más** 'b's, y terminado en 'c'. (`*`)\n",
        "    *   `r'ab+c'`: Coincide con 'a', seguido de **una o más** 'b's, y terminado en 'c'. (`+`)\n",
        "    *   `r'ab?c'`: Coincide con 'a', seguido de **cero o una** 'b', y terminado en 'c'. (`?`)\n",
        "    *   `r'ab{2,4}c'`: Coincide con 'a', seguido de **entre 2 y 4** 'b's (inclusive), y terminado en 'c'. (`{n,m}`)\n",
        "\n",
        "**Prueba en regex101.com**\n",
        "\n",
        "Introduzca cada patrón (`ab*c`, `ab+c`, `ab?c`, `ab{2,4}c`) por separado y el texto de ejemplo `ac, abc, abbc, abbbc, abbbbc, abbbbbc` para ver las coincidencias de cada uno.\n",
        "\n",
        "**Implementación en python**"
      ]
    },
    {
      "cell_type": "code",
      "execution_count": 4,
      "id": "b60fb9cd",
      "metadata": {
        "colab": {
          "base_uri": "https://localhost:8080/"
        },
        "id": "b60fb9cd",
        "outputId": "cda5f6eb-2a47-42fb-d7ab-c2f1598946b9"
      },
      "outputs": [
        {
          "name": "stdout",
          "output_type": "stream",
          "text": [
            "Patrón: 'ab*c' (Cero o más 'b's (*)) -> Coincidencias: ['ac', 'abc', 'abbc', 'abbbc', 'abbbbc', 'abbbbbc']\n",
            "Patrón: 'ab+c' (Una o más 'b's (+)) -> Coincidencias: ['abc', 'abbc', 'abbbc', 'abbbbc', 'abbbbbc']\n",
            "Patrón: 'ab?c' (Cero o una 'b' (?)) -> Coincidencias: ['ac', 'abc']\n",
            "Patrón: 'ab{2,4}c' (Entre 2 y 4 'b's ({2,4})) -> Coincidencias: ['abbc', 'abbbc', 'abbbbc']\n"
          ]
        }
      ],
      "source": [
        "text = \"ac, abc, abbc, abbbc, abbbbc, abbbbbc\"\n",
        "\n",
        "patterns = {\n",
        "    r'ab*c': \"Cero o más 'b's (*)\",\n",
        "    r'ab+c': \"Una o más 'b's (+)\",\n",
        "    r'ab?c': \"Cero o una 'b' (?)\",\n",
        "    r'ab{2,4}c': \"Entre 2 y 4 'b's ({2,4})\"\n",
        "}\n",
        "\n",
        "for pattern, description in patterns.items():\n",
        "    matches = re.findall(pattern, text)\n",
        "    print(f\"Patrón: '{pattern}' ({description}) -> Coincidencias: {matches}\")"
      ]
    },
    {
      "cell_type": "markdown",
      "id": "bee89dbc",
      "metadata": {},
      "source": [
        "> **Conclusión**: El segundo ejemplo ilustró el uso de cuantificadores (`*`, `+`, `?`, `{}`), haciendo coincidir correctamente patrones con un número variable de caracteres repetidos según el cuantificador utilizado (por ejemplo, `ab*c` coincidió con \"ac\", \"abc\", \"abbc\", etc., mientras que `ab{2,4}c` solo coincidió con \"abbc\", \"abbbc\", \"abbbbc\")."
      ]
    },
    {
      "cell_type": "markdown",
      "id": "A0SDpcdj7v65",
      "metadata": {
        "id": "A0SDpcdj7v65"
      },
      "source": [
        "### 2.3. Ejemplo 3: Anclas (`^`, `$`, y `\\b`)\n",
        "\n",
        "Las anclas en expresiones regulares no coinciden con caracteres, sino con posiciones específicas dentro de la cadena de texto. Son útiles para asegurar que un patrón aparezca solo al principio, al final, o en los límites de una palabra.\n",
        "\n",
        "*   `^`: Coincide con el inicio de la cadena.\n",
        "*   `$`: Coincide con el final de la cadena.\n",
        "*   `\\b`: Coincide con un límite de palabra. Un límite de palabra se define como la posición entre un carácter de palabra (`\\w`) y un carácter que no es de palabra (`\\W`), o el inicio/fin de la cadena si el primer/último carácter es un carácter de palabra.\n",
        "\n",
        "A continuación se va a proceder a analizar su efecto en el siguiente ejemplo:\n",
        "*   **Texto de Ejemplo:** `Empieza con hola. hola mundo. El fin es hola`\n",
        "*   **Patrones de Regex y Explicaciones:**\n",
        "    *   `r'^hola'`: Coincide con la palabra \"hola\" solo si está al **inicio** de la cadena.\n",
        "    *   `r'hola$'`: Coincide con la palabra \"hola\" solo si está al **final** de la cadena.\n",
        "    *   `r'\\bhola\\b'`: Coincide con la palabra \"hola\" solo si aparece como una **palabra completa** (rodeada de límites de palabra).\n",
        "\n",
        "\n",
        "**Prueba en regex101.com** \n",
        "\n",
        "Introduzca cada patrón (`^hola`, `hola$`, `\\bhola\\b`) por separado y el texto de ejemplo `Empieza con hola. hola mundo. El fin es hola` para ver las coincidencias de cada uno.\n",
        "\n",
        "**Implementación en python**"
      ]
    },
    {
      "cell_type": "code",
      "execution_count": 5,
      "id": "339ed4d0",
      "metadata": {
        "colab": {
          "base_uri": "https://localhost:8080/"
        },
        "id": "339ed4d0",
        "outputId": "ab3401d4-d0c0-47a0-daa5-d44cd305be9f"
      },
      "outputs": [
        {
          "name": "stdout",
          "output_type": "stream",
          "text": [
            "Patrón: '^hola' (Coincide 'hola' al inicio (^)) -> Coincidencias: []\n",
            "Patrón: 'hola$' (Coincide 'hola' al final ($)) -> Coincidencias: ['hola']\n",
            "Patrón: '\\bhola\\b' (Coincide 'hola' como palabra completa (\\b)) -> Coincidencias: ['hola', 'hola', 'hola']\n"
          ]
        }
      ],
      "source": [
        "text = \"Empieza con hola. hola mundo. El fin es hola\"\n",
        "\n",
        "anchor_patterns = {\n",
        "    r'^hola': \"Coincide 'hola' al inicio (^)\",\n",
        "    r'hola$': \"Coincide 'hola' al final ($)\",\n",
        "    r'\\bhola\\b': \"Coincide 'hola' como palabra completa (\\\\b)\"\n",
        "}\n",
        "\n",
        "for pattern, description in anchor_patterns.items():\n",
        "    matches = re.findall(pattern, text)\n",
        "    print(f\"Patrón: '{pattern}' ({description}) -> Coincidencias: {matches}\")"
      ]
    },
    {
      "cell_type": "markdown",
      "id": "5ce3f623",
      "metadata": {},
      "source": [
        "> **Conclusión**: El tercer ejemplo mostró el uso de anclas (`^`, `$`, `\\b`), evidenciando que `^hola` no encontró coincidencias, `hola$` coincidió con \"hola\" al final de la cadena, y `\\bhola\\b` coincidió con \"hola\" solo cuando apareció como una palabra completa."
      ]
    },
    {
      "cell_type": "markdown",
      "id": "1GqMmPyI75eQ",
      "metadata": {
        "id": "1GqMmPyI75eQ"
      },
      "source": [
        "### 2.4. Ejemplo 4: Conjuntos de Caracteres (`[]`, `[^]`, y `-`)\n",
        "\n",
        "Los conjuntos de caracteres permiten definir un grupo de caracteres que pueden coincidir en una posición.\n",
        "* `[xyz]`: Coincide con cualquier carácter dentro de los corchetes.\n",
        "* `[^xyz]`: Coincide con cualquier carácter **excepto** los que están dentro de los corchetes (conjunto negado).\n",
        "* `[a-z]`: Dentro de corchetes, el guion (`-`) define un rango de caracteres (por ejemplo, todas las letras minúsculas de 'a' a 'z').\n",
        "\n",
        "Para comprender lo que hacen los caracteres previamente vistos vamos analizar el siguiente ejemplo:\n",
        "* **Texto de Ejemplo:** `El documento es DOC-123, la version es v4.5, y hay un error en ABC-999.`\n",
        "* **Patrones de Regex y Explicaciones:**\n",
        "  * `r'[aeiouAEIOU]'`: Coincide con cualquier vocal, tanto minúscula como mayúscula.\n",
        "  * `r'[^0-9\\s]'`: Coincide con cualquier carácter que **no** sea un dígito (`0-9`) ni un espacio en blanco (`\\s`).\n",
        "  * `r'[a-zA-Z0-9]'`: Coincide con cualquier carácter alfanumérico (letras minúsculas `a-z`, letras mayúsculas `A-Z`, o dígitos `0-9`).\n",
        "\n",
        "**Prueba en regex101.com**\n",
        "\n",
        "Introduzca el texto de ejemplo `El documento es DOC-123, la version es v4.5, y hay un error en ABC-999.` y pruebe cada patrón (`[aeiouAEIOU]`, `[^0-9\\s]`, `[a-zA-Z0-9]`) por separado para ver las coincidencias."
      ]
    },
    {
      "cell_type": "code",
      "execution_count": 7,
      "id": "40a7acbb",
      "metadata": {
        "colab": {
          "base_uri": "https://localhost:8080/"
        },
        "id": "40a7acbb",
        "outputId": "362d882f-1aa8-41d9-90f9-a89daaca2325"
      },
      "outputs": [
        {
          "name": "stdout",
          "output_type": "stream",
          "text": [
            "Patrón: '[aeiouAEIOU]' (Coincide con cualquier vocal) -> Coincidencias: ['E', 'o', 'u', 'e', 'o', 'e', 'O', 'a', 'e', 'i', 'o', 'e', 'a', 'u', 'e', 'o', 'e', 'A']\n",
            "Patrón: '[^0-9\\s]' (Coincide con cualquier carácter que NO sea un dígito o espacio en blanco) -> Coincidencias: ['E', 'l', 'd', 'o', 'c', 'u', 'm', 'e', 'n', 't', 'o', 'e', 's', 'D', 'O', 'C', '-', ',', 'l', 'a', 'v', 'e', 'r', 's', 'i', 'o', 'n', 'e', 's', 'v', '.', ',', 'y', 'h', 'a', 'y', 'u', 'n', 'e', 'r', 'r', 'o', 'r', 'e', 'n', 'A', 'B', 'C', '-', '.']\n",
            "Patrón: '[a-zA-Z0-9]' (Coincide con cualquier carácter alfanumérico) -> Coincidencias: ['E', 'l', 'd', 'o', 'c', 'u', 'm', 'e', 'n', 't', 'o', 'e', 's', 'D', 'O', 'C', '1', '2', '3', 'l', 'a', 'v', 'e', 'r', 's', 'i', 'o', 'n', 'e', 's', 'v', '4', '5', 'y', 'h', 'a', 'y', 'u', 'n', 'e', 'r', 'r', 'o', 'r', 'e', 'n', 'A', 'B', 'C', '9', '9', '9']\n"
          ]
        }
      ],
      "source": [
        "text = \"El documento es DOC-123, la version es v4.5, y hay un error en ABC-999.\"\n",
        "\n",
        "char_set_patterns = {\n",
        "    r'[aeiouAEIOU]': \"Coincide con cualquier vocal\",\n",
        "    r'[^0-9\\s]': \"Coincide con cualquier carácter que NO sea un dígito o espacio en blanco\",\n",
        "    r'[a-zA-Z0-9]': \"Coincide con cualquier carácter alfanumérico\"\n",
        "}\n",
        "\n",
        "for pattern, description in char_set_patterns.items():\n",
        "    matches = re.findall(pattern, text)\n",
        "    print(f\"Patrón: '{pattern}' ({description}) -> Coincidencias: {matches}\")"
      ]
    },
    {
      "cell_type": "markdown",
      "id": "11980cdf",
      "metadata": {},
      "source": [
        "> **Conclusión**: El cuarto ejemplo demostró los conjuntos de caracteres (`[]`, `[^]`, `-`), coincidiendo exitosamente con vocales, caracteres no dígitos/no espacios en blanco, y caracteres alfanuméricos según los conjuntos definidos."
      ]
    },
    {
      "cell_type": "markdown",
      "id": "GIxCPQcg7_Th",
      "metadata": {
        "id": "GIxCPQcg7_Th"
      },
      "source": [
        "### 2.5. Ejemplo 5: Agrupación (`()`) y Alternancia (`|`)\n",
        "\n",
        "La agrupación con paréntesis `()` permite tratar múltiples caracteres o metacaracteres como una única unidad a la que se le pueden aplicar cuantificadores. La alternancia con `|` actúa como un operador lógico OR, permitiendo que la expresión coincida si cualquiera de las subexpresiones separadas por `|` es encontrada.\n",
        "\n",
        "*   **Texto de Ejemplo:** `hahaha, hohoho, hihihi. Color favorito: rojo o azul? Elige verde o amarillo.`\n",
        "*   **Patrones de Regex y Explicaciones:**\n",
        "    *   `r'(ha)+`': Este patrón busca una o más repeticiones del grupo `ha`.\n",
        "    *   `r'(rojo|azul|verde|amarillo)'`: Este patrón busca una coincidencia exacta con cualquiera de las palabras \"rojo\", \"azul\", \"verde\" o \"amarillo\".\n",
        "\n",
        "\n",
        "**Prueba en regex101.com** \n",
        "\n",
        "Introduzca el texto de ejemplo `hahaha, hohoho, hihihi. Color favorito: rojo o azul? Elige verde o amarillo.` y pruebe cada patrón (`(ha)+`, `(rojo|azul|verde|amarillo)`) por separado para ver las coincidencias.\n",
        "\n",
        "**Implementación en python**"
      ]
    },
    {
      "cell_type": "code",
      "execution_count": 8,
      "id": "ca2fb5b5",
      "metadata": {
        "colab": {
          "base_uri": "https://localhost:8080/"
        },
        "id": "ca2fb5b5",
        "outputId": "82e5ac89-dddb-4695-a406-54f7dcbc4d54"
      },
      "outputs": [
        {
          "name": "stdout",
          "output_type": "stream",
          "text": [
            "Patrón: '(ha)+' (Agrupación y cuantificador (+)) -> Coincidencias: ['ha']\n",
            "Patrón: '(rojo|azul|verde|amarillo)' (Alternancia (OR)) -> Coincidencias: ['rojo', 'azul', 'verde', 'amarillo']\n"
          ]
        }
      ],
      "source": [
        "text = \"hahaha, hohoho, hihihi. Color favorito: rojo o azul? Elige verde o amarillo.\"\n",
        "\n",
        "group_alternation_patterns = {\n",
        "    r'(ha)+': \"Agrupación y cuantificador (+)\",\n",
        "    r'(rojo|azul|verde|amarillo)': \"Alternancia (OR)\"\n",
        "}\n",
        "\n",
        "for pattern, description in group_alternation_patterns.items():\n",
        "    matches = re.findall(pattern, text)\n",
        "    print(f\"Patrón: '{pattern}' ({description}) -> Coincidencias: {matches}\")"
      ]
    },
    {
      "cell_type": "markdown",
      "id": "43463b3b",
      "metadata": {},
      "source": [
        "> **Conclusión**: * El quinto ejemplo explicó y demostró la agrupación (`()`) y la alternancia (`|`), con `(ha)+` coincidiendo con secuencias repetidas de \"ha\" y `(rojo|azul|verde|amarillo)` coincidiendo con cualquiera de los colores especificados."
      ]
    },
    {
      "cell_type": "markdown",
      "id": "-NGkfMO18JOJ",
      "metadata": {
        "id": "-NGkfMO18JOJ"
      },
      "source": [
        "### 2.6. Ejemmplo 6 - Combinando Conceptos: Extracción de Correos Electrónicos\n",
        "\n",
        "En escenarios reales, las expresiones regulares se vuelven muy potentes cuando se combinan varios metacaracteres, cuantificadores y anclas para crear patrones complejos que coincidan con estructuras específicas, como direcciones de correo electrónico, números de teléfono, URLs, etc.\n",
        "\n",
        "Este ejemplo demuestra cómo construir un patrón de regex para encontrar direcciones de correo electrónico en un texto, combinando clases de caracteres, cuantificadores y el carácter literal '@'.\n",
        "\n",
        "*   **Texto de Ejemplo:**\n",
        "    ```\n",
        "    Contacto: usuario123@dominio.com para soporte y admin@sub.dominio.net para consultas. También puedes escribir a test.user+alias@example.org. Correo inválido: @dominio.com o usuario@dominio.\n",
        "    ```\n",
        "\n",
        "*   **Patrón de Regex:** `r'\\b[A-Za-z0-9._%+-]+@[A-Za-z0-9.-]+\\.[A-Za-z]{2,}\\b'`\n",
        "\n",
        "*   **Explicación del Patrón:**\n",
        "    *   `\\b`: Coincide con un **límite de palabra**. Esto asegura que no coincida con partes de palabras.\n",
        "    *   `[A-Za-z0-9._%+-]+`: Coincide con la **parte del usuario** del correo.\n",
        "        *   `[A-Za-z0-9._%+-]`: Un conjunto de caracteres que incluye letras (mayúsculas y minúsculas), dígitos, puntos, guiones bajos, porcentajes, signos más y guiones. Estos son caracteres comunes permitidos en la parte del usuario.\n",
        "        *   `+`: Indica que debe haber **una o más** de las coincidencias del conjunto anterior.\n",
        "    *   `@`: Coincide con el carácter literal '@', que separa el usuario del dominio.\n",
        "    *   `[A-Za-z0-9.-]+`: Coincide con la **parte del subdominio y dominio**.\n",
        "        *   `[A-Za-z0-9.-]`: Un conjunto de caracteres que incluye letras (mayúsculas y minúsculas), dígitos, puntos y guiones.\n",
        "        *   `+`: Indica que debe haber **una o más** de las coincidencias del conjunto anterior.\n",
        "    *   `\\.`: Coincide con un **punto literal** que separa el dominio de nivel superior (TLD). Se necesita escapar con `\\` porque `.` tiene un significado especial en regex.\n",
        "    *   `[A-Za-z]{2,}`: Coincide con el **dominio de nivel superior (TLD)**.\n",
        "        *   `[A-Za-z]`: Un conjunto que incluye letras (mayúsculas y minúsculas).\n",
        "        *   `{2,}`: Indica que debe haber **dos o más** letras para el TLD (ej. `.com`, `.org`, `.net`, etc.).\n",
        "    *   `\\b`: Coincide con otro **límite de palabra** al final, para asegurar que el correo termine correctamente.\n",
        "\n",
        "**Prueba en regex101.com** \n",
        "\n",
        "Introduzca el patrón `\\b[A-Za-z0-9._%+-]+@[A-Za-z0-9.-]+\\.[A-Za-z]{2,}\\b` y el texto de ejemplo en la sección de texto de prueba para ver las coincidencias. Selecciona el \"Flavor\" Python.\n",
        "\n",
        "**Implementación en Python**"
      ]
    },
    {
      "cell_type": "code",
      "execution_count": 9,
      "id": "c1c8fb74",
      "metadata": {
        "colab": {
          "base_uri": "https://localhost:8080/"
        },
        "id": "c1c8fb74",
        "outputId": "756b9801-9bb9-439e-f71f-a0db94af8deb"
      },
      "outputs": [
        {
          "name": "stdout",
          "output_type": "stream",
          "text": [
            "Correos encontrados: ['usuario123@dominio.com', 'admin@sub.dominio.net', 'test.user+alias@example.org']\n"
          ]
        }
      ],
      "source": [
        "text = \"\"\"\n",
        "Contacto: usuario123@dominio.com para soporte y admin@sub.dominio.net para consultas. También puedes escribir a test.user+alias@example.org. Correo inválido: @dominio.com o usuario@dominio.\n",
        "\"\"\"\n",
        "\n",
        "email_pattern = r'\\b[A-Za-z0-9._%+-]+@[A-Za-z0-9.-]+\\.[A-Za-z]{2,}\\b'\n",
        "\n",
        "found_emails = re.findall(email_pattern, text)\n",
        "print(f\"Correos encontrados: {found_emails}\")"
      ]
    },
    {
      "cell_type": "markdown",
      "id": "1b300275",
      "metadata": {},
      "source": [
        "> **Conclusión**: * El sexto ejemplo combinó varios conceptos para extraer direcciones de correo electrónico, identificando exitosamente 'usuario123@dominio.com', 'admin@sub.dominio.net' y 'test.user+alias@example.org', mientras ignoraba formatos inválidos."
      ]
    }
  ],
  "metadata": {
    "colab": {
      "provenance": []
    },
    "kernelspec": {
      "display_name": "base",
      "language": "python",
      "name": "python3"
    },
    "language_info": {
      "codemirror_mode": {
        "name": "ipython",
        "version": 3
      },
      "file_extension": ".py",
      "mimetype": "text/x-python",
      "name": "python",
      "nbconvert_exporter": "python",
      "pygments_lexer": "ipython3",
      "version": "3.12.7"
    }
  },
  "nbformat": 4,
  "nbformat_minor": 5
}
