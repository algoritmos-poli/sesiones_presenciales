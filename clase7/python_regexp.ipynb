{
 "cells": [
  {
   "cell_type": "markdown",
   "id": "2a716bec",
   "metadata": {},
   "source": [
    "# Regexp"
   ]
  },
  {
   "cell_type": "markdown",
   "id": "48e5ef34",
   "metadata": {},
   "source": [
    "## Review: Why use regular expressions?\n",
    "\n",
    "### Introduction\n",
    "\n",
    "This follow-along reading is organized to match the content in the video that follows. It contains the same code shown in the next video. These code blocks will provide you with the opportunity to see how the code is written, allow you to practice running it, and can be used as a reference to refer back to. \n",
    "\n",
    "You can follow along in the reading as the instructor discusses the code or review the code after watching the video."
   ]
  },
  {
   "cell_type": "code",
   "execution_count": 3,
   "id": "6a08a2e2",
   "metadata": {},
   "outputs": [
    {
     "data": {
      "text/plain": [
       "'July 31 07:51:48 mycomputer bad_process[12345]: ERROR Performing package upgrade'"
      ]
     },
     "execution_count": 3,
     "metadata": {},
     "output_type": "execute_result"
    }
   ],
   "source": [
    "log = \"July 31 07:51:48 mycomputer bad_process[12345]: ERROR Performing package upgrade\"\n",
    "log"
   ]
  },
  {
   "cell_type": "code",
   "execution_count": 4,
   "id": "668125f3",
   "metadata": {},
   "outputs": [
    {
     "name": "stdout",
     "output_type": "stream",
     "text": [
      "12345\n"
     ]
    }
   ],
   "source": [
    "log = \"July 31 07:51:48 mycomputer bad_process[12345]: ERROR Performing package upgrade\"\n",
    "index = log.index(\"[\")\n",
    "print(log[index+1:index+6])"
   ]
  },
  {
   "cell_type": "code",
   "execution_count": 5,
   "id": "4e70e5e2",
   "metadata": {},
   "outputs": [
    {
     "name": "stdout",
     "output_type": "stream",
     "text": [
      "12345\n"
     ]
    }
   ],
   "source": [
    "import re\n",
    "log = \"July 31 07:51:48 mycomputer bad_process[12345]: ERROR Performing package upgrade\"\n",
    "regex = r\"\\[(\\d+)\\]\"\n",
    "result = re.search(regex, log)\n",
    "print(result[1])"
   ]
  },
  {
   "cell_type": "markdown",
   "id": "f0fff0fc",
   "metadata": {},
   "source": [
    "### About this code\n",
    "\n",
    "Here the re module is used which lets us use the search function to find regular expressions inside strings. Then, a regular expression is defined as \n",
    "\n",
    "```python\n",
    "r\"\\[(\\d+)\\]\"\n",
    "```\n",
    "\n",
    "This regular expression matches a string enclosed in square brackets followed by one or more digits. Then, it uses the re.search() function to search the string log for a match to the regular expression. The `re.search()` function returns a `Match` object if a match is found, or `None` if no match is found. the `re.search()` function returns a `Match` object because the string `log` contains a match to the regular expression. The `Match` object has a `group()` method that returns the captured groups from the match. In this case, the only captured group is the number, which is returned by the `result[1]` expression."
   ]
  },
  {
   "cell_type": "markdown",
   "id": "a374b304",
   "metadata": {},
   "source": [
    "## Review: Simple matching in Python\n",
    "\n",
    "### Introduction\n",
    "\n",
    "This follow-along reading is organized to match the content in the video that follows. It contains the same code shown in the next video. These code blocks will provide you with the opportunity to see how the code is written, allow you to practice running it, and can be used as a reference to refer back to. \n",
    "\n",
    "You can follow along in the reading as the instructor discusses the code or review the code after watching the video."
   ]
  },
  {
   "cell_type": "code",
   "execution_count": 6,
   "id": "7e37dec3",
   "metadata": {},
   "outputs": [
    {
     "name": "stdout",
     "output_type": "stream",
     "text": [
      "<re.Match object; span=(2, 5), match='aza'>\n"
     ]
    }
   ],
   "source": [
    "import re\n",
    "result = re.search(r\"aza\", \"plaza\")\n",
    "print(result)"
   ]
  },
  {
   "cell_type": "code",
   "execution_count": 7,
   "id": "e559e8c7",
   "metadata": {},
   "outputs": [
    {
     "name": "stdout",
     "output_type": "stream",
     "text": [
      "<re.Match object; span=(1, 4), match='aza'>\n"
     ]
    }
   ],
   "source": [
    "import re\n",
    "result = re.search(r\"aza\", \"bazaar\")\n",
    "print(result)"
   ]
  },
  {
   "cell_type": "code",
   "execution_count": 8,
   "id": "db7533ce",
   "metadata": {},
   "outputs": [
    {
     "name": "stdout",
     "output_type": "stream",
     "text": [
      "None\n",
      "<re.Match object; span=(0, 1), match='x'>\n"
     ]
    }
   ],
   "source": [
    "import re\n",
    "result = re.search(r\"aza\", \"maze\")\n",
    "print(result)\n",
    "\n",
    "print(re.search(r\"^x\", \"xenon\"))"
   ]
  },
  {
   "cell_type": "code",
   "execution_count": 9,
   "id": "b1582a65",
   "metadata": {},
   "outputs": [
    {
     "name": "stdout",
     "output_type": "stream",
     "text": [
      "<re.Match object; span=(0, 4), match='peng'>\n"
     ]
    }
   ],
   "source": [
    "import re\n",
    "print(re.search(r\"p.ng\", \"penguin\"))"
   ]
  },
  {
   "cell_type": "code",
   "execution_count": 10,
   "id": "97000279",
   "metadata": {},
   "outputs": [
    {
     "name": "stdout",
     "output_type": "stream",
     "text": [
      "<re.Match object; span=(4, 8), match='ping'>\n",
      "<re.Match object; span=(1, 5), match='pong'>\n"
     ]
    }
   ],
   "source": [
    "import re\n",
    "print(re.search(r\"p.ng\", \"clapping\"))\n",
    "print(re.search(r\"p.ng\", \"sponge\"))"
   ]
  },
  {
   "cell_type": "code",
   "execution_count": 11,
   "id": "55f0a70a",
   "metadata": {},
   "outputs": [
    {
     "name": "stdout",
     "output_type": "stream",
     "text": [
      "<re.Match object; span=(0, 4), match='Pang'>\n"
     ]
    }
   ],
   "source": [
    "import re\n",
    "print(re.search(r\"p.ng\", \"Pangaea\", re.IGNORECASE))"
   ]
  },
  {
   "cell_type": "markdown",
   "id": "711836b3",
   "metadata": {},
   "source": [
    "### Reflect\n",
    "\n",
    "Fill in the code to check if the text passed contains the vowels a, e, and i and meet the following criteria: \n",
    "* the vowels appear in the order a, e, and i \n",
    "* the vowels have exactly one occurrence of any other character between them\n",
    "\n",
    "```python\n",
    "import re\n",
    "def check_aei (text):\n",
    "  result = re.search(r\"___\", text)\n",
    "  return result != None\n",
    "\n",
    "print(check_aei(\"academia\")) # True\n",
    "print(check_aei(\"aerial\")) # False\n",
    "print(check_aei(\"paramedic\")) # True\n",
    "```"
   ]
  },
  {
   "cell_type": "code",
   "execution_count": 13,
   "id": "285f4f85",
   "metadata": {},
   "outputs": [
    {
     "name": "stdout",
     "output_type": "stream",
     "text": [
      "True\n",
      "False\n",
      "True\n"
     ]
    }
   ],
   "source": [
    "import re\n",
    "def check_aei (text):\n",
    "  result = re.search(r\"a.a\", text)\n",
    "  return result != None\n",
    "\n",
    "print(check_aei(\"academia\")) # True\n",
    "print(check_aei(\"aerial\")) # False\n",
    "print(check_aei(\"paramedic\")) # True"
   ]
  },
  {
   "cell_type": "markdown",
   "id": "19e967f2",
   "metadata": {},
   "source": [
    "## Review: Wildcards and Character Classes\n",
    "\n",
    "### Introduction\n",
    "\n",
    "This follow-along reading is organized to match the content in the video that follows. It contains the same code shown in the next video. These code blocks will provide you with the opportunity to see how the code is written, allow you to practice running it, and can be used as a reference to refer back to. \n",
    "\n",
    "You can follow along in the reading as the instructor discusses the code or review the code after watching the video."
   ]
  },
  {
   "cell_type": "code",
   "execution_count": 14,
   "id": "31348ef4",
   "metadata": {},
   "outputs": [
    {
     "name": "stdout",
     "output_type": "stream",
     "text": [
      "<re.Match object; span=(0, 6), match='Python'>\n"
     ]
    }
   ],
   "source": [
    "import re\n",
    "print(re.search(r\"[Pp]ython\", \"Python\"))"
   ]
  },
  {
   "cell_type": "code",
   "execution_count": 15,
   "id": "9fb1145d",
   "metadata": {},
   "outputs": [
    {
     "name": "stdout",
     "output_type": "stream",
     "text": [
      "<re.Match object; span=(18, 22), match='hway'>\n",
      "None\n",
      "<re.Match object; span=(0, 6), match='cloudy'>\n",
      "<re.Match object; span=(0, 6), match='cloud9'>\n"
     ]
    }
   ],
   "source": [
    "import re\n",
    "print(re.search(r\"[a-z]way\", \"The end of the highway\"))\n",
    "print(re.search(r\"[a-z]way\", \"What a way to go\"))\n",
    "print(re.search(\"cloud[a-zA-Z0-9]\", \"cloudy\"))\n",
    "print(re.search(\"cloud[a-zA-Z0-9]\", \"cloud9\"))"
   ]
  },
  {
   "cell_type": "code",
   "execution_count": null,
   "id": "68d87285",
   "metadata": {},
   "outputs": [
    {
     "name": "stdout",
     "output_type": "stream",
     "text": [
      "<re.Match object; span=(4, 5), match=' '>\n",
      "<re.Match object; span=(30, 31), match='.'>\n",
      "<re.Match object; span=(7, 10), match='cat'>\n",
      "<re.Match object; span=(7, 10), match='dog'>\n",
      "<re.Match object; span=(12, 15), match='dog'>\n",
      "<re.Match object; span=(7, 10), match='cat'>\n",
      "<re.Match object; span=(7, 10), match='dog'>\n",
      "<re.Match object; span=(12, 15), match='dog'>\n",
      "['dog', 'cat']\n"
     ]
    }
   ],
   "source": [
    "import re\n",
    "print(re.search(r\"[^a-zA-Z]\", \"This is a sentence with spaces.\"))\n",
    "print(re.search(r\"[^a-zA-Z ]\", \"This is a sentence with spaces.\"))\n",
    "\n",
    "print(re.search(r\"cat|dog\", \"I like cats.\"))\n",
    "print(re.search(r\"cat|dog\", \"I love dogs!\"))\n",
    "print(re.search(r\"cat|dog\", \"I like both dogs and cats.\"))\n",
    "\n",
    "print(re.search(r\"cat|dog\", \"I like cats.\"))\n",
    "print(re.search(r\"cat|dog\", \"I love dogs!\"))\n",
    "print(re.search(r\"cat|dog\", \"I like both dogs and cats.\"))\n",
    "print(re.findall(r\"cat|dog\", \"I like both dogs and cats.\"))"
   ]
  },
  {
   "cell_type": "markdown",
   "id": "83305efb",
   "metadata": {},
   "source": [
    "### Reflect\n",
    "\n",
    "Fill in the code to check if the text passed contains punctuation symbols: commas, periods, colons, semicolons, question marks, and exclamation points.\n",
    "\n",
    "```python\n",
    "import re\n",
    "def check_punctuation (text):\n",
    "  result = re.search(r\"___\", text)\n",
    "  return result != None\n",
    "\n",
    "print(check_punctuation(\"This is a sentence that ends with a period.\")) # True\n",
    "print(check_punctuation(\"This is a sentence fragment without a period\")) # False\n",
    "print(check_punctuation(\"Aren't regular expressions awesome?\")) # True\n",
    "print(check_punctuation(\"Wow! We're really picking up some steam now!\")) # True\n",
    "print(check_punctuation(\"End of the line\")) # False\n",
    "```"
   ]
  },
  {
   "cell_type": "code",
   "execution_count": 17,
   "id": "9ebb35b3",
   "metadata": {},
   "outputs": [
    {
     "name": "stdout",
     "output_type": "stream",
     "text": [
      "True\n",
      "False\n",
      "True\n",
      "True\n",
      "False\n"
     ]
    }
   ],
   "source": [
    "import re\n",
    "def check_punctuation (text):\n",
    "  result = re.search(r\"[.?!]\", text)\n",
    "  return result != None\n",
    "\n",
    "print(check_punctuation(\"This is a sentence that ends with a period.\")) # True\n",
    "print(check_punctuation(\"This is a sentence fragment without a period\")) # False\n",
    "print(check_punctuation(\"Aren't regular expressions awesome?\")) # True\n",
    "print(check_punctuation(\"Wow! We're really picking up some steam now!\")) # True\n",
    "print(check_punctuation(\"End of the line\")) # False"
   ]
  },
  {
   "cell_type": "markdown",
   "id": "bc8cab11",
   "metadata": {},
   "source": [
    "## Review: Repetition Qualifiers\n",
    "\n",
    "### Introduction\n",
    "\n",
    "This follow-along reading is organized to match the content in the video that follows. It contains the same code shown in the next video. These code blocks will provide you with the opportunity to see how the code is written, allow you to practice running it, and can be used as a reference to refer back to. \n",
    "\n",
    "You can follow along in the reading as the instructor discusses the code or review the code after watching the video."
   ]
  },
  {
   "cell_type": "code",
   "execution_count": 18,
   "id": "3cca51fa",
   "metadata": {},
   "outputs": [
    {
     "name": "stdout",
     "output_type": "stream",
     "text": [
      "<re.Match object; span=(0, 9), match='Pygmalion'>\n",
      "<re.Match object; span=(0, 17), match='Python Programmin'>\n",
      "<re.Match object; span=(0, 6), match='Python'>\n",
      "<re.Match object; span=(0, 3), match='Pyn'>\n"
     ]
    }
   ],
   "source": [
    "import re\n",
    "print(re.search(r\"Py.*n\", \"Pygmalion\"))\n",
    "print(re.search(r\"Py.*n\", \"Python Programming\"))\n",
    "print(re.search(r\"Py[a-z]*n\", \"Python Programming\"))\n",
    "print(re.search(r\"Py[a-z]*n\", \"Pyn\"))"
   ]
  },
  {
   "cell_type": "code",
   "execution_count": 19,
   "id": "c2f7a8ef",
   "metadata": {},
   "outputs": [
    {
     "name": "stdout",
     "output_type": "stream",
     "text": [
      "<re.Match object; span=(1, 3), match='ol'>\n",
      "<re.Match object; span=(1, 5), match='ooll'>\n",
      "None\n"
     ]
    }
   ],
   "source": [
    "import re\n",
    "print(re.search(r\"o+l+\", \"goldfish\"))\n",
    "print(re.search(r\"o+l+\", \"woolly\"))\n",
    "print(re.search(r\"o+l+\", \"boil\"))"
   ]
  },
  {
   "cell_type": "code",
   "execution_count": 20,
   "id": "3c0bb710",
   "metadata": {},
   "outputs": [
    {
     "name": "stdout",
     "output_type": "stream",
     "text": [
      "<re.Match object; span=(3, 7), match='each'>\n",
      "<re.Match object; span=(7, 12), match='peach'>\n"
     ]
    }
   ],
   "source": [
    "import re\n",
    "print(re.search(r\"p?each\", \"To each their own\"))\n",
    "print(re.search(r\"p?each\", \"I like peaches\"))"
   ]
  },
  {
   "cell_type": "markdown",
   "id": "14e13969",
   "metadata": {},
   "source": [
    "### Reflect\n",
    "\n",
    "..."
   ]
  },
  {
   "cell_type": "markdown",
   "id": "1a86201a",
   "metadata": {},
   "source": [
    "## Review: Escaping Characters\n",
    "\n",
    "### Introduction\n",
    "This follow-along reading is organized to match the content in the video that follows. It contains the same code shown in the next video. These code blocks will provide you with the opportunity to see how the code is written, allow you to practice running it, and can be used as a reference to refer back to. \n",
    "\n",
    "You can follow along in the reading as the instructor discusses the code or review the code after watching the video."
   ]
  },
  {
   "cell_type": "code",
   "execution_count": 21,
   "id": "57c27b55",
   "metadata": {},
   "outputs": [
    {
     "name": "stdout",
     "output_type": "stream",
     "text": [
      "<re.Match object; span=(2, 6), match='lcom'>\n",
      "None\n",
      "<re.Match object; span=(8, 12), match='.com'>\n"
     ]
    }
   ],
   "source": [
    "import re\n",
    "print(re.search(r\".com\", \"welcome\"))\n",
    "print(re.search(r\"\\.com\", \"welcome\"))\n",
    "print(re.search(r\"\\.com\", \"mydomain.com\"))"
   ]
  },
  {
   "cell_type": "code",
   "execution_count": 22,
   "id": "593da913",
   "metadata": {},
   "outputs": [
    {
     "name": "stdout",
     "output_type": "stream",
     "text": [
      "<re.Match object; span=(0, 4), match='This'>\n",
      "<re.Match object; span=(0, 19), match='And_this_is_another'>\n"
     ]
    }
   ],
   "source": [
    "import re\n",
    "print(re.search(r\"\\w*\", \"This is an example\"))\n",
    "print(re.search(r\"\\w*\", \"And_this_is_another\"))"
   ]
  },
  {
   "cell_type": "markdown",
   "id": "97bd7885",
   "metadata": {},
   "source": [
    "### Reflect\n",
    "\n",
    "..."
   ]
  },
  {
   "cell_type": "markdown",
   "id": "720cfb74",
   "metadata": {},
   "source": [
    "## Review: Regular Expressions in Action\n",
    "\n",
    "### Introduction\n",
    "\n",
    "This follow-along reading is organized to match the content in the video that follows. It contains the same code shown in the next video. These code blocks will provide you with the opportunity to see how the code is written, allow you to practice running it, and can be used as a reference to refer back to. \n",
    "\n",
    "You can follow along in the reading as the instructor discusses the code or review the code after watching the video. "
   ]
  },
  {
   "cell_type": "code",
   "execution_count": 23,
   "id": "44f9db8b",
   "metadata": {},
   "outputs": [
    {
     "name": "stdout",
     "output_type": "stream",
     "text": [
      "<re.Match object; span=(0, 9), match='Argentina'>\n",
      "<re.Match object; span=(0, 9), match='Azerbaija'>\n",
      "<re.Match object; span=(0, 9), match='Australia'>\n"
     ]
    }
   ],
   "source": [
    "import re\n",
    "print(re.search(r\"A.*a\", \"Argentina\"))\n",
    "print(re.search(r\"A.*a\", \"Azerbaijan\"))\n",
    "print(re.search(r\"^A.*a$\", \"Australia\"))"
   ]
  },
  {
   "cell_type": "code",
   "execution_count": 24,
   "id": "68357ad3",
   "metadata": {},
   "outputs": [
    {
     "name": "stdout",
     "output_type": "stream",
     "text": [
      "<re.Match object; span=(0, 30), match='_this_is_a_valid_variable_name'>\n",
      "None\n",
      "<re.Match object; span=(0, 12), match='my_variable1'>\n",
      "None\n"
     ]
    }
   ],
   "source": [
    "import re\n",
    "pattern = r\"^[a-zA-Z_][a-zA-Z0-9_]*$\"\n",
    "print(re.search(pattern, \"_this_is_a_valid_variable_name\"))\n",
    "print(re.search(pattern, \"this isn't a valid variable\"))\n",
    "print(re.search(pattern, \"my_variable1\"))\n",
    "print(re.search(pattern, \"2my_variable1\"))"
   ]
  },
  {
   "cell_type": "markdown",
   "id": "123bcc19",
   "metadata": {},
   "source": [
    "### Reflect\n",
    "\n",
    "..."
   ]
  },
  {
   "cell_type": "markdown",
   "id": "d302fbbd",
   "metadata": {},
   "source": [
    "## Study guide: Regular expressions\n",
    "\n",
    "A regular expression—sometimes called regex—is a string of characters that specifies a pattern to match against some text. In addition to matching patterns, they can search to extract specific parts of text, validate input data, and are supported by code editors and integrated development environments (IDEs). In this reading, you will look at some examples of common regexes used in coding. \n",
    "\n",
    "### Regex examples\n",
    "\n",
    "`r\"\\d{3}-\\d{3}-\\d{4}\"`  This line of code matches U.S. phone numbers in the format 111-222-3333.\n",
    "\n",
    "\n",
    "`r\"^-?\\d*(\\.\\d+)?$\"`  This line of code matches any positive or negative number, with or without decimal places.\n",
    "\n",
    "\n",
    "`r\"^/(.+)/([^/]+)/$\"` This line of code is often used to extract specific parts of URLs or file paths, such as the directory names or filenames.\n",
    "\n",
    "### Helpful tool\n",
    "\n",
    "Sometimes regexes can be complex and difficult to read and understand—even for experienced programmers! There are tools available to help break down the regex and explain what each part of the expression does. A common tool that you can use to help with understanding each stage of a regular expression is:\n",
    "\n",
    "https://regex101.com/\n",
    "\n",
    "## Key takeaways\n",
    "\n",
    "Regular expressions offer powerful capabilities to programmers but, at times, can be complex and difficult to understand. The more you code with regular expressions, the more comfortable you will be using and understanding them. For more information on regex, check out the following links:\n",
    "\n",
    "* https://docs.python.org/3/howto/regex.html\n",
    "* https://docs.python.org/3/library/re.html\n",
    "* https://docs.python.org/3/howto/regex.html#greedy-versus-non-greedy"
   ]
  },
  {
   "cell_type": "markdown",
   "id": "e2ac8f78",
   "metadata": {},
   "source": [
    "### Reflect\n",
    "\n",
    "..."
   ]
  },
  {
   "cell_type": "markdown",
   "id": "3e75c11a",
   "metadata": {},
   "source": [
    "## Review: Capturing Groups\n",
    "\n",
    "### Introduction\n",
    "\n",
    "This follow-along reading is organized to match the content in the video that follows. It contains the same code shown in the next video. These code blocks will provide you with the opportunity to see how the code is written, allow you to practice running it, and can be used as a reference to refer back to. \n",
    "\n",
    "You can follow along in the reading as the instructor discusses the code or review the code after watching the video."
   ]
  },
  {
   "cell_type": "code",
   "execution_count": 25,
   "id": "90e345d4",
   "metadata": {},
   "outputs": [
    {
     "name": "stdout",
     "output_type": "stream",
     "text": [
      "<re.Match object; span=(0, 13), match='Lovelace, Ada'>\n",
      "('Lovelace', 'Ada')\n",
      "Lovelace, Ada\n",
      "Lovelace\n",
      "Ada\n"
     ]
    },
    {
     "data": {
      "text/plain": [
       "'Ada Lovelace'"
      ]
     },
     "execution_count": 25,
     "metadata": {},
     "output_type": "execute_result"
    }
   ],
   "source": [
    "import re\n",
    "result = re.search(r\"^(\\w*), (\\w*)$\", \"Lovelace, Ada\")\n",
    "print(result)\n",
    "print(result.groups())\n",
    "print(result[0])\n",
    "print(result[1])\n",
    "print(result[2])\n",
    "\"{} {}\".format(result[2], result[1])"
   ]
  },
  {
   "cell_type": "code",
   "execution_count": 26,
   "id": "a04385c1",
   "metadata": {},
   "outputs": [
    {
     "data": {
      "text/plain": [
       "'Ada Lovelace'"
      ]
     },
     "execution_count": 26,
     "metadata": {},
     "output_type": "execute_result"
    }
   ],
   "source": [
    "import re\n",
    "def rearrange_name(name):\n",
    "    result = re.search(r\"^(\\w*), (\\w*)$\", name)\n",
    "    if result is None:\n",
    "        return name\n",
    "    return \"{} {}\".format(result[2], result[1])\n",
    "rearrange_name(\"Lovelace, Ada\")"
   ]
  },
  {
   "cell_type": "code",
   "execution_count": 27,
   "id": "6ec2e100",
   "metadata": {},
   "outputs": [
    {
     "data": {
      "text/plain": [
       "'Dennis Ritchie'"
      ]
     },
     "execution_count": 27,
     "metadata": {},
     "output_type": "execute_result"
    }
   ],
   "source": [
    "import re\n",
    "def rearrange_name(name):\n",
    "    result = re.search(r\"^(\\w*), (\\w*)$\", name)\n",
    "    if result is None:\n",
    "        return name\n",
    "    return \"{} {}\".format(result[2], result[1])\n",
    "rearrange_name(\"Ritchie, Dennis\")"
   ]
  },
  {
   "cell_type": "code",
   "execution_count": 28,
   "id": "5cbf8c9b",
   "metadata": {},
   "outputs": [
    {
     "data": {
      "text/plain": [
       "'Grace M. Hopper'"
      ]
     },
     "execution_count": 28,
     "metadata": {},
     "output_type": "execute_result"
    }
   ],
   "source": [
    "import re\n",
    "def rearrange_name(name):\n",
    "    result = re.search(r\"^([\\w \\.-]*), ([\\w \\.-]*)$\", name)\n",
    "    if result == None:\n",
    "        return name\n",
    "    return \"{} {}\".format(result[2], result[1])\n",
    "rearrange_name(\"Hopper, Grace M.\")"
   ]
  },
  {
   "cell_type": "markdown",
   "id": "8d4c355a",
   "metadata": {},
   "source": [
    "### Reflect\n",
    "\n",
    "..."
   ]
  },
  {
   "cell_type": "markdown",
   "id": "97b97d52",
   "metadata": {},
   "source": [
    "## Review: More on repetition qualifiers\n",
    "\n",
    "### Introduction\n",
    "\n",
    "This follow-along reading is organized to match the content in the video that follows. It contains the same code shown in the next video. These code blocks will provide you with the opportunity to see how the code is written, allow you to practice running it, and can be used as a reference to refer back to. \n",
    "\n",
    "You can follow along in the reading as the instructor discusses the code or review the code after watching the video."
   ]
  },
  {
   "cell_type": "code",
   "execution_count": 29,
   "id": "ca5e67e6",
   "metadata": {},
   "outputs": [
    {
     "name": "stdout",
     "output_type": "stream",
     "text": [
      "<re.Match object; span=(2, 7), match='ghost'>\n"
     ]
    }
   ],
   "source": [
    "import re\n",
    "print(re.search(r\"[a-zA-Z]{5}\", \"a ghost\"))"
   ]
  },
  {
   "cell_type": "code",
   "execution_count": 30,
   "id": "4e6c6bba",
   "metadata": {},
   "outputs": [
    {
     "name": "stdout",
     "output_type": "stream",
     "text": [
      "<re.Match object; span=(2, 7), match='scary'>\n"
     ]
    }
   ],
   "source": [
    "import re\n",
    "print(re.search(r\"[a-zA-Z]{5}\", \"a scary ghost appeared\"))"
   ]
  },
  {
   "cell_type": "code",
   "execution_count": 31,
   "id": "bebfbd96",
   "metadata": {},
   "outputs": [
    {
     "name": "stdout",
     "output_type": "stream",
     "text": [
      "['scary', 'ghost', 'appea']\n"
     ]
    }
   ],
   "source": [
    "import re\n",
    "print(re.findall(r\"[a-zA-Z]{5}\", \"a scary ghost appeared\"))"
   ]
  },
  {
   "cell_type": "code",
   "execution_count": 32,
   "id": "e26a0399",
   "metadata": {},
   "outputs": [
    {
     "data": {
      "text/plain": [
       "['scary', 'ghost']"
      ]
     },
     "execution_count": 32,
     "metadata": {},
     "output_type": "execute_result"
    }
   ],
   "source": [
    "import re\n",
    "re.findall(r\"\\b[a-zA-Z]{5}\\b\", \"A scary ghost appeared\")"
   ]
  },
  {
   "cell_type": "code",
   "execution_count": 33,
   "id": "b341eff5",
   "metadata": {},
   "outputs": [
    {
     "name": "stdout",
     "output_type": "stream",
     "text": [
      "['really', 'strawberri']\n"
     ]
    }
   ],
   "source": [
    "import re\n",
    "print(re.findall(r\"\\w{5,10}\", \"I really like strawberries\"))"
   ]
  },
  {
   "cell_type": "code",
   "execution_count": 34,
   "id": "24531678",
   "metadata": {},
   "outputs": [
    {
     "name": "stdout",
     "output_type": "stream",
     "text": [
      "['really', 'strawberries']\n"
     ]
    }
   ],
   "source": [
    "import re\n",
    "print(re.findall(r\"\\w{5,}\", \"I really like strawberries\"))"
   ]
  },
  {
   "cell_type": "code",
   "execution_count": 35,
   "id": "e8887ef9",
   "metadata": {},
   "outputs": [
    {
     "name": "stdout",
     "output_type": "stream",
     "text": [
      "<re.Match object; span=(14, 26), match='strawberries'>\n"
     ]
    }
   ],
   "source": [
    "import re\n",
    "print(re.search(r\"s\\w{,20}\", \"I really like strawberries\"))"
   ]
  },
  {
   "cell_type": "markdown",
   "id": "2321a6d3",
   "metadata": {},
   "source": [
    "### Reflect\n",
    "\n",
    "..."
   ]
  },
  {
   "cell_type": "markdown",
   "id": "437a80b5",
   "metadata": {},
   "source": [
    "## Review: Extracting a PID using regexes in Python\n",
    "\n",
    "## Introduction\n",
    "\n",
    "This follow-along reading is organized to match the content in the video that follows. It contains the same code shown in the next video. These code blocks will provide you with the opportunity to see how the code is written, allow you to practice running it, and can be used as a reference to refer back to. \n",
    "\n",
    "You can follow along in the reading as the instructor discusses the code or review the code after watching the video."
   ]
  },
  {
   "cell_type": "code",
   "execution_count": 36,
   "id": "fc55590b",
   "metadata": {},
   "outputs": [
    {
     "name": "stdout",
     "output_type": "stream",
     "text": [
      "12345\n"
     ]
    }
   ],
   "source": [
    "import re\n",
    "log = \"July 31 07:51:48 mycomputer bad_process[12345]: ERROR Performing package upgrade\"\n",
    "regex = r\"\\[(\\d+)\\]\"\n",
    "result = re.search(regex, log)\n",
    "print(result[1])"
   ]
  },
  {
   "cell_type": "code",
   "execution_count": 37,
   "id": "0bbbe53e",
   "metadata": {},
   "outputs": [
    {
     "name": "stdout",
     "output_type": "stream",
     "text": [
      "34567\n"
     ]
    }
   ],
   "source": [
    "import re\n",
    "log = \"July 31 07:51:48 mycomputer bad_process[12345]: ERROR Performing package upgrade\"\n",
    "regex = r\"\\[(\\d+)\\]\"\n",
    "result = re.search(regex, log)\n",
    "result = re.search(regex, \"A completely different string that also has numbers [34567]\")\n",
    "print(result[1])"
   ]
  },
  {
   "cell_type": "code",
   "execution_count": 38,
   "id": "61776cd6",
   "metadata": {},
   "outputs": [
    {
     "ename": "TypeError",
     "evalue": "'NoneType' object is not subscriptable",
     "output_type": "error",
     "traceback": [
      "\u001b[1;31m---------------------------------------------------------------------------\u001b[0m",
      "\u001b[1;31mTypeError\u001b[0m                                 Traceback (most recent call last)",
      "Cell \u001b[1;32mIn[38], line 7\u001b[0m\n\u001b[0;32m      5\u001b[0m result \u001b[38;5;241m=\u001b[39m re\u001b[38;5;241m.\u001b[39msearch(regex, \u001b[38;5;124m\"\u001b[39m\u001b[38;5;124mA completely different string that also has numbers [34567]\u001b[39m\u001b[38;5;124m\"\u001b[39m)\n\u001b[0;32m      6\u001b[0m result \u001b[38;5;241m=\u001b[39m re\u001b[38;5;241m.\u001b[39msearch(regex, \u001b[38;5;124m\"\u001b[39m\u001b[38;5;124m99 elephants in a [cage]\u001b[39m\u001b[38;5;124m\"\u001b[39m)\n\u001b[1;32m----> 7\u001b[0m \u001b[38;5;28mprint\u001b[39m(result[\u001b[38;5;241m1\u001b[39m])\n",
      "\u001b[1;31mTypeError\u001b[0m: 'NoneType' object is not subscriptable"
     ]
    }
   ],
   "source": [
    "import re\n",
    "log = \"July 31 07:51:48 mycomputer bad_process[12345]: ERROR Performing package upgrade\"\n",
    "regex = r\"\\[(\\d+)\\]\"\n",
    "result = re.search(regex, log)\n",
    "result = re.search(regex, \"A completely different string that also has numbers [34567]\")\n",
    "result = re.search(regex, \"99 elephants in a [cage]\")\n",
    "print(result[1])\n",
    "#Note that this print command results in an error as shown in the video. "
   ]
  },
  {
   "cell_type": "code",
   "execution_count": 39,
   "id": "f299c5ce",
   "metadata": {},
   "outputs": [
    {
     "name": "stdout",
     "output_type": "stream",
     "text": [
      "12345\n"
     ]
    }
   ],
   "source": [
    "import re\n",
    "log = \"July 31 07:51:48 mycomputer bad_process[12345]: ERROR Performing package upgrade\"\n",
    "regex = r\"\\[(\\d+)\\]\"\n",
    "result = re.search(regex, log)\n",
    "result = re.search(regex, \"A completely different string that also has numbers [34567]\")\n",
    "result = re.search(regex, \"99 elephants in a [cage]\")\n",
    "def extract_pid(log_line):\n",
    "    regex = r\"\\[(\\d+)\\]\"\n",
    "    result = re.search(regex, log_line)\n",
    "    if result is None:\n",
    "        return \"\"\n",
    "    return result[1]\n",
    "print(extract_pid(log))"
   ]
  },
  {
   "cell_type": "code",
   "execution_count": 40,
   "id": "425adf0f",
   "metadata": {},
   "outputs": [
    {
     "name": "stdout",
     "output_type": "stream",
     "text": [
      "12345\n",
      "\n"
     ]
    }
   ],
   "source": [
    "import re\n",
    "log = \"July 31 07:51:48 mycomputer bad_process[12345]: ERROR Performing package upgrade\"\n",
    "regex = r\"\\[(\\d+)\\]\"\n",
    "result = re.search(regex, log)\n",
    "result = re.search(regex, \"A completely different string that also has numbers [34567]\")\n",
    "result = re.search(regex, \"99 elephants in a [cage]\")\n",
    "def extract_pid(log_line):\n",
    "    regex = r\"\\[(\\d+)\\]\"\n",
    "    result = re.search(regex, log_line)\n",
    "    if result is None:\n",
    "        return \"\"\n",
    "    return result[1]\n",
    "print(extract_pid(log))\n",
    "print(extract_pid(\"99 elephants in a [cage]\"))"
   ]
  },
  {
   "cell_type": "markdown",
   "id": "0c2b1293",
   "metadata": {},
   "source": [
    "### Reflect\n",
    "\n",
    "..."
   ]
  },
  {
   "cell_type": "markdown",
   "id": "42959376",
   "metadata": {},
   "source": [
    "## Review: Splitting and Replacing\n",
    "\n",
    "### Introduction\n",
    "\n",
    "This follow-along reading is organized to match the content in the video that follows. It contains the same code shown in the next video. These code blocks will provide you with the opportunity to see how the code is written, allow you to practice running it, and can be used as a reference to refer back to. \n",
    "\n",
    "You can follow along in the reading as the instructor discusses the code or review the code after watching the video."
   ]
  },
  {
   "cell_type": "code",
   "execution_count": 43,
   "id": "6369870e",
   "metadata": {},
   "outputs": [
    {
     "data": {
      "text/plain": [
       "['One sentence', ' Another one', ' And the last one', '']"
      ]
     },
     "execution_count": 43,
     "metadata": {},
     "output_type": "execute_result"
    }
   ],
   "source": [
    "import re\n",
    "re.split(r\"[.?!]\", \"One sentence. Another one? And the last one!\")"
   ]
  },
  {
   "cell_type": "code",
   "execution_count": 42,
   "id": "7e4757e7",
   "metadata": {},
   "outputs": [
    {
     "data": {
      "text/plain": [
       "['One sentence', '.', ' Another one', '?', ' And the last one', '!', '']"
      ]
     },
     "execution_count": 42,
     "metadata": {},
     "output_type": "execute_result"
    }
   ],
   "source": [
    "import re\n",
    "re.split(r\"([.?!])\", \"One sentence. Another one? And the last one!\")"
   ]
  },
  {
   "cell_type": "code",
   "execution_count": 44,
   "id": "3ff969eb",
   "metadata": {},
   "outputs": [
    {
     "data": {
      "text/plain": [
       "'Received an email for [REDACTED]'"
      ]
     },
     "execution_count": 44,
     "metadata": {},
     "output_type": "execute_result"
    }
   ],
   "source": [
    "import re\n",
    "re.sub(r\"[\\w.%+-]+@[\\w.-]+\", \"[REDACTED]\", \"Received an email for go_nuts95@my.example.com\")"
   ]
  },
  {
   "cell_type": "code",
   "execution_count": 45,
   "id": "36a6da01",
   "metadata": {},
   "outputs": [
    {
     "data": {
      "text/plain": [
       "'Ada Lovelace'"
      ]
     },
     "execution_count": 45,
     "metadata": {},
     "output_type": "execute_result"
    }
   ],
   "source": [
    "import re\n",
    "re.sub(r\"^([\\w .-]*), ([\\w .-]*)$\", r\"\\2 \\1\", \"Lovelace, Ada\")"
   ]
  },
  {
   "cell_type": "markdown",
   "id": "cb1b7538",
   "metadata": {},
   "source": [
    "### Reflect\n",
    "\n",
    "..."
   ]
  },
  {
   "cell_type": "markdown",
   "id": "709c0cf3",
   "metadata": {},
   "source": [
    "## Study guide: Advanced regular expressions\n",
    "\n",
    "Advanced regular expressions—commonly referred to as advanced regexes—are used by developers to execute complicated pattern matching against strings. In this reading, you will learn about some of the common examples of advanced regular expressions.\n",
    "\n",
    "### Alterations\n",
    "\n",
    "An alteration matches any one of the alternatives separated by the pipe `|` symbol. Let’s look at an example:\n",
    "\n",
    "`r\"location.*(London|Berlin|Madrid)\"` \n",
    "\n",
    "This line of code will match the text string `location is London`, `location is Berlin`, or `location is Madrid`.\n",
    "\n",
    "Matching only at the beginning or end\n",
    "If you use the circumflex symbol (also known as a caret symbol) ^ as the first character of your regex, it will match only if the pattern occurs at the start of the string. Alternatively, if you use the dollar sign symbol $ at the end of a regex, it will match only if the pattern occurs at the end. Let’s look at an example:\n",
    "\n",
    "`r\"^My name is (\\w+)\"`\n",
    "\n",
    "This line of code will match `My name is Asha` but not `Hello. My name is Asha.`\n",
    "\n",
    "Character ranges\n",
    "Character ranges can be used to match a single character against a set of possibilities. Let’s look at a couple of examples:\n",
    "\n",
    "`r\"[A-Z]` This will match a single uppercase letter.\n",
    "\n",
    "`r\"[0-9$-,.]` This will match any of the digits zero through nine, or the dollar sign, hyphen, comma, or period.\n",
    "\n",
    "The two examples above are often combined with the repetition qualifiers. Let’s look at one more example:\n",
    "\n",
    "`r\"([0-9]{3}-[0-9]{3}-[0-9]{4})\"`\n",
    "\n",
    "This line of code will match a U.S. phone number such as `888-123-7612`.\n",
    "\n",
    "### Backreferences\n",
    "\n",
    "A backreference is used when using `re.sub()` to substitute the value of a capture group into the output. Let’s look at an example:\n",
    "\n",
    "`>>> re.sub(r\"([A-Z])\\.\\s+(\\w+)\", r\"Ms. \\2\", \"A. Weber and B. Bellmas have joined the team.\")`\n",
    "\n",
    "This line of code will produce `Ms. Weber and Ms. Bellmas have joined the team`.\n",
    "\n",
    "### Lookahead\n",
    "\n",
    "A lookahead matches a pattern only if it’s followed by another pattern. Let’s look at an example:\n",
    "\n",
    "If the regex was `r\"(Test\\d)-(?=Passed)\"` and the string was `\"Test1-Passed, Test2-Passed, Test3-Failed, Test4-Passed, Test5-Failed\"` the output would be:\n",
    "\n",
    "`Test1, Test2, Test4`\n",
    "\n",
    "### Key takeaways\n",
    "\n",
    "The types of advanced regular expressions explained in this reading are just some of the more commonly used ones by developers. They are beneficial in pattern matching, text manipulation, and data validation. For more information, check out the following link:\n",
    "\n",
    "https://regexcrossword.com/"
   ]
  },
  {
   "cell_type": "markdown",
   "id": "cdfd0e65",
   "metadata": {},
   "source": [
    "## Glossary terms from course 2, module 3\n",
    "\n",
    "### Terms and definitions from course 2, module 3\n",
    "\n",
    "**Alteration**: RegEx that matches any one of the alternatives separated by the pipe symbol\n",
    "\n",
    "**Backreference**: This is applied when using re.sub( ) to substitute the value of a capture group into the output\n",
    "\n",
    "**Character classes**: These are written inside square brackets and let us list the characters we want to match inside of those brackets\n",
    "\n",
    "**Character ranges**: Ranges used to match a single character against a set of possibilities\n",
    "\n",
    "**grep**: An especially easy to use yet extremely powerful tool for applying RegExes\n",
    "\n",
    "**Lookahead**: RegEx that matches a pattern only if it’s followed by another pattern\n",
    "\n",
    "**Regular expression**: A search query for text that's expressed by string pattern, also known as RegEx or RegExp\n",
    "\n",
    "**Wildcard**: A character that can match more than one character"
   ]
  },
  {
   "cell_type": "markdown",
   "id": "7e5a6e24",
   "metadata": {},
   "source": [
    "## Exemplar: Work with regular expressions\n",
    "\n",
    "### Introduction\n",
    "In this lab, you found users using an old email domain in a big list using regular expressions. You wrote a script that included replacing the old domain name ([abc.edu](https://abc.edu/)) with a new domain name ([xyz.edu](http://xyz.edu/)), and you stored all domain names, including the updated ones, in a new file.\n",
    "\n",
    "This exemplar is a walkthrough of the previous Qwiklab activity, including detailed instructions and solutions. You may use this exemplar if you were unable to complete the lab and/or you need extra guidance in competing lab tasks. You may also refer to this exemplar to prepare for the graded quiz in this module.\n",
    "\n",
    "### Prerequisites\n",
    "\n",
    "We've created a list containing user names and their email addresses. Navigate to the data directory using the following command:\n",
    "\n",
    "```\n",
    "cd data\n",
    "```\n",
    "\n",
    "To find the data, list the files using the following command:\n",
    "\n",
    "```\n",
    "ls\n",
    "```\n",
    "\n",
    "**Output**:\n",
    "\n",
    "![cd_ls](cd_ls.png)\n",
    "\n",
    "Here, you will find a file named **script.py**. The aim of this script is to use regex to find all instances of the old domain (\"abc.edu\") in the **user_emails.csv** file and then replace them with the new domain (\"xyz.edu\").\n",
    "\n",
    "This file already has the functions defined for you. You have to now complete the function's body to make it work as intended.\n",
    "\n",
    "Let's update the file's permissions.\n",
    "\n",
    "```\n",
    "sudo chmod 777 script.py\n",
    "```\n",
    "![chmod](chmod.png)\n",
    "\n",
    "We will use nano editor to edit script.py file.\n",
    "\n",
    "```\n",
    "nano script.py\n",
    "```\n",
    "\n",
    "Now, we will write the script. We will import the CSV library in order to deal with CSV file operations. We will also import the regex Python module for regular expressions. \n",
    "\n",
    "This script takes a CSV file containing user emails, identifies email addresses with a specific old domain, and replaces that domain with a new domain. It then saves the updated user data with the modified email addresses to a new CSV report file.\n",
    "\n",
    "```python\n",
    "import re\n",
    "import csv\n",
    "\n",
    "def contains_domain(address, domain):\n",
    "  \"\"\"Returns True if the email address contains the given,domain,in the domain position, false if not.\"\"\"\n",
    "  domain = r'[\\w\\.-]+@'+domain+'$'\n",
    "  if re.match(domain,address):\n",
    "    return True\n",
    "  return False\n",
    "\n",
    "def replace_domain(address, old_domain, new_domain):\n",
    "  \"\"\"Replaces the old domain with the new domain in the received address.\"\"\"\n",
    "  old_domain_pattern = r'' + old_domain + '$'\n",
    "  address = re.sub(old_domain_pattern, new_domain, address)\n",
    "  return address\n",
    "\n",
    "def main():\n",
    "  \"\"\"Processes the list of emails, replacing any instances of the old domain with the new domain.\"\"\"\n",
    "  old_domain, new_domain = 'abc.edu', 'xyz.edu'\n",
    "  csv_file_location = '/home/[virtual_machine_username]/data/user_emails.csv'\n",
    "  report_file = '/home/[virtual_machine_username]/data' + '/updated_user_emails.csv'\n",
    "  user_email_list = []\n",
    "  old_domain_email_list = []\n",
    "  new_domain_email_list = []\n",
    "  with open(csv_file_location, 'r') as f:\n",
    "    user_data_list = list(csv.reader(f))\n",
    "    user_email_list = [data[1].strip() for data in user_data_list[1:]]\n",
    "    for email_address in user_email_list:\n",
    "      if contains_domain(email_address, old_domain):\n",
    "        old_domain_email_list.append(email_address)\n",
    "        replaced_email = replace_domain(email_address,old_domain,new_domain)\n",
    "        new_domain_email_list.append(replaced_email)\n",
    "    email_key = ' ' + 'Email Address'\n",
    "    email_index = user_data_list[0].index(email_key)\n",
    "    for user in user_data_list[1:]:\n",
    "      for old_domain, new_domain in zip(old_domain_email_list, new_domain_email_list):\n",
    "        if user[email_index] == ' ' + old_domain:\n",
    "          user[email_index] = ' ' + new_domain\n",
    "  f.close()\n",
    "  with open(report_file, 'w+') as output_file:\n",
    "    writer = csv.writer(output_file)\n",
    "    writer.writerows(user_data_list)\n",
    "    output_file.close()\n",
    "main()\n",
    "```\n",
    "\n",
    "Save the file by clicking **Ctrl-o**, **Enter** key, and **Ctrl-x**.\n",
    "\n",
    "Now run the file.\n",
    "\n",
    "```\n",
    "./script.py\n",
    "```\n",
    "On a successful run, this should generate a new file named **updated_user_emails** within the data directory. To view the newly generated file, enter the following command:\n",
    "\n",
    "```\n",
    "ls ~/data\n",
    "```\n",
    "\n",
    "You should now be able to see a new file named updated_user_emails.csv. To view the contents of this file, enter the following command:\n",
    "\n",
    "```\n",
    "cat ~/data/updated_user_emails.csv\n",
    "```\n",
    "\n",
    "We have successfully replaced the old domain names with the new ones and generated a new file containing all the user names with their respective email addresses.\n",
    "\n",
    "The report file should be similar to the one below:\n",
    "\n",
    "```\n",
    "Full Name, Email Address\n",
    "Blossom Gill, blossom@xyz.edu\n",
    "Hayes Delgado, nonummy@utnisia.com\n",
    "Petra Jones, ac@xyz.edu\n",
    "Oleg Noel, noel@liberomauris.ca\n",
    "Ahmed Miller, ahmed.miller@nequenonquam.co.uk\n",
    "Macaulay Douglas, mdouglas@xyz.edu\n",
    "Aurora Grant, enim.non@xyz.edu\n",
    "Madison Mcintosh, mcintosh@nisiaenean.net\n",
    "Montana Powell, montanap@semmagna.org\n",
    "Rogan Robinson, rr.robinson@xyz.edu\n",
    "Simon Rivera, sri@xyz.edu\n",
    "Benedict Pacheco, bpacheco@xyz.edu\n",
    "Maisie Hendrix, mai.hendrix@xyz.edu\n",
    "Xaviera Gould, xlg@utnisia.net\n",
    "Oren Rollins, oren@semmagna.com\n",
    "Flavia Santiago, flavia@utnisia.net\n",
    "Jackson Owens, jackowens@xyz.edu\n",
    "Britanni Humphrey, britanni@ut.net\n",
    "Kirk Nixon, kirknixon@xyz.edu\n",
    "Bree Campbell, breee@utnisia.net\n",
    "```\n",
    "\n",
    "### Congratulations!\n",
    "\n",
    "You successfully wrote a Python script that achieves two tasks. First, it changed the domain name to the new domain name. Second, it stored all the updated domain names in a new file.\n",
    "\n",
    "Creating reports using Python with CSV and using regular expressions to find a pattern in a string are very useful tools in IT support. You'll likely complete similar tasks regularly throughout your career, so feel free to go through this lab as many times as you need. Remember, practice makes perfect."
   ]
  },
  {
   "cell_type": "markdown",
   "id": "38209b83",
   "metadata": {},
   "source": [
    "* https://alvinntnu.github.io/python-notes/python-basics/regex.html\n",
    "* https://www.activestate.com/wp-content/uploads/2020/03/Python-RegEx-Cheatsheet.pdf\n",
    "* https://www.datacamp.com/cheat-sheet/regular-expresso\n",
    "* https://www.dataquest.io/wp-content/uploads/2019/03/python-regular-expressions-cheat-sheet.pdf\n",
    "* https://adprice.fedorapeople.org/regular-expressions-cheat-sheet-v1.pdf\n",
    "* https://web.mit.edu/hackl/www/lab/turkshop/slides/regex-cheatsheet.pdf\n",
    "* https://code4libtoronto.github.io/2018-10-12-access/GoogleRefineCheatSheets.pdf\n",
    "* https://aukera.es/blog/imagenes/cheat-sheet-expresiones-regulares-aukera-ga-gtm.pdf\n",
    "* https://www.codecademy.com/learn/introduction-to-regular-expressions/modules/intro-to-regex/cheatsheet\n",
    "* https://web.mit.edu/hackl/www/lab/turkshop/slides/week2-regex.pdf\n",
    "* https://www.kaggle.com/discussions/getting-started/169526"
   ]
  }
 ],
 "metadata": {
  "kernelspec": {
   "display_name": "base",
   "language": "python",
   "name": "python3"
  },
  "language_info": {
   "codemirror_mode": {
    "name": "ipython",
    "version": 3
   },
   "file_extension": ".py",
   "mimetype": "text/x-python",
   "name": "python",
   "nbconvert_exporter": "python",
   "pygments_lexer": "ipython3",
   "version": "3.12.7"
  }
 },
 "nbformat": 4,
 "nbformat_minor": 5
}
