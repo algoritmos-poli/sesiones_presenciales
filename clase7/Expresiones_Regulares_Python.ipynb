{
 "cells": [
  {
   "cell_type": "markdown",
   "id": "bda62697",
   "metadata": {},
   "source": [
    "# Expresiones Regulares en Python\n",
    "\n",
    "\n",
    "Este cuaderno explica qué son las **expresiones regulares** (regex) y cómo utilizarlas en Python con el módulo estándar `re`. Incluye ejemplos prácticos y ejercicios.\n",
    "\n",
    "## ¿Qué son las expresiones regulares?\n",
    "Son patrones que describen conjuntos de cadenas. Permiten **buscar**, **validar**, **extraer** y **transformar** texto de manera muy flexible. Se usan ampliamente para:\n",
    "- Validar formatos (correos, teléfonos, fechas).\n",
    "- Extraer información estructurada de texto libre (logs, HTML, CSV problemático).\n",
    "- Buscar y reemplazar de forma avanzada.\n",
    "\n",
    "## Módulo `re` básico\n",
    "- `re.search(patron, texto)`: devuelve la primera coincidencia en cualquier parte del texto.\n",
    "- `re.match(patron, texto)`: coincide solo desde el **inicio**.\n",
    "- `re.findall(patron, texto)`: lista con **todas** las coincidencias no superpuestas.\n",
    "- `re.sub(patron, reemplazo, texto)`: reemplaza coincidencias.\n",
    "- `re.split(patron, texto)`: divide por patrón.\n",
    "\n",
    "### Metacaracteres y conceptos clave\n",
    "`.` (cualquiera), `^` (inicio), `$` (fin), `*` (0+), `+` (1+), `?` (0/1), `{m,n}` (rango), `[]` (clase), `|` (alternativa), `()` (grupo/captura), `\\b` (límite de palabra).\n",
    "\n",
    "### Flags comunes\n",
    "- `re.IGNORECASE` o `re.I`: ignora mayúsculas/minúsculas.\n",
    "- `re.MULTILINE` o `re.M`: `^` y `$` funcionan por **línea**.\n",
    "- `re.DOTALL` o `re.S`: `.` también coincide con salto de línea.\n"
   ]
  },
  {
   "cell_type": "code",
   "execution_count": 1,
   "id": "19d6cc14",
   "metadata": {},
   "outputs": [],
   "source": [
    "import re\n",
    "from pprint import pprint\n"
   ]
  },
  {
   "cell_type": "markdown",
   "id": "0f80ad36",
   "metadata": {},
   "source": [
    "## Ejemplo 1: `search` vs `match`"
   ]
  },
  {
   "cell_type": "code",
   "execution_count": 2,
   "id": "9938d363",
   "metadata": {},
   "outputs": [
    {
     "name": "stdout",
     "output_type": "stream",
     "text": [
      "search: <re.Match object; span=(4, 10), match='ABC123'>\n",
      "match : None\n"
     ]
    }
   ],
   "source": [
    "texto = 'ID: ABC123 está aprobado'\n",
    "print('search:', re.search(r'ABC\\d+', texto))  # busca en cualquier parte\n",
    "print('match :', re.match(r'ABC\\d+', texto))   # solo desde el inicio\n"
   ]
  },
  {
   "cell_type": "markdown",
   "id": "3dc0124a",
   "metadata": {},
   "source": [
    "## Ejemplo 2: Clases de caracteres y rangos `[]`"
   ]
  },
  {
   "cell_type": "code",
   "execution_count": 3,
   "id": "2a753e6a",
   "metadata": {},
   "outputs": [
    {
     "name": "stdout",
     "output_type": "stream",
     "text": [
      "['XZ-19']\n"
     ]
    }
   ],
   "source": [
    "texto = 'Producto XZ-19 versión 3.2'\n",
    "print(re.findall(r'[A-Z]{2}-\\d+', texto))  # Dos mayúsculas, guion y dígitos\n"
   ]
  },
  {
   "cell_type": "markdown",
   "id": "1f87791a",
   "metadata": {},
   "source": []
  },
  {
   "cell_type": "markdown",
   "id": "1dc83bd1",
   "metadata": {},
   "source": [
    "## Ejemplo 3: Cuantificadores `{m,n}`"
   ]
  },
  {
   "cell_type": "code",
   "execution_count": 4,
   "id": "e4fbdd6e",
   "metadata": {},
   "outputs": [
    {
     "name": "stdout",
     "output_type": "stream",
     "text": [
      "['A12', 'A1234', 'A1234']\n"
     ]
    }
   ],
   "source": [
    "texto = 'Códigos: A1, A12, A1234, A123456'\n",
    "print(re.findall(r'A\\d{2,4}', texto))  # A seguido de 2 a 4 dígitos\n"
   ]
  },
  {
   "cell_type": "markdown",
   "id": "85370fbf",
   "metadata": {},
   "source": [
    "## Ejemplo 4: Anclas `^` y `$`"
   ]
  },
  {
   "cell_type": "code",
   "execution_count": 5,
   "id": "5483b4b6",
   "metadata": {},
   "outputs": [
    {
     "name": "stdout",
     "output_type": "stream",
     "text": [
      "True\n",
      "False\n"
     ]
    }
   ],
   "source": [
    "print(bool(re.match(r'^[A-Za-z]+$', 'SoloLetras')))   # Solo letras de inicio a fin\n",
    "print(bool(re.match(r'^[A-Za-z]+$', 'Con espacios'))) # Falso por el espacio\n"
   ]
  },
  {
   "cell_type": "markdown",
   "id": "9f4cf7fb",
   "metadata": {},
   "source": [
    "## Ejemplo 5: Límite de palabra `\\b`"
   ]
  },
  {
   "cell_type": "code",
   "execution_count": 6,
   "id": "1c86a1b1",
   "metadata": {},
   "outputs": [
    {
     "name": "stdout",
     "output_type": "stream",
     "text": [
      "['cat']\n"
     ]
    }
   ],
   "source": [
    "texto = 'Concatenar y gato (cat)'\n",
    "print(re.findall(r'\\bcat\\b', texto))  # solo 'cat' como palabra completa\n"
   ]
  },
  {
   "cell_type": "markdown",
   "id": "37a1e61e",
   "metadata": {},
   "source": [
    "## Ejemplo 6: Grupos y alternación `(|)`"
   ]
  },
  {
   "cell_type": "code",
   "execution_count": 7,
   "id": "002cffa7",
   "metadata": {},
   "outputs": [
    {
     "name": "stdout",
     "output_type": "stream",
     "text": [
      "['perro', 'gato']\n"
     ]
    }
   ],
   "source": [
    "texto = 'Prefiero perros y gatos'\n",
    "print(re.findall(r'(perro|gato)s?', texto))"
   ]
  },
  {
   "cell_type": "markdown",
   "id": "e5c2cb35",
   "metadata": {},
   "source": [
    "## Ejemplo 7: Grupos con nombre"
   ]
  },
  {
   "cell_type": "code",
   "execution_count": 8,
   "id": "8c3a53d1",
   "metadata": {},
   "outputs": [
    {
     "name": "stdout",
     "output_type": "stream",
     "text": [
      "604 555 1234\n"
     ]
    }
   ],
   "source": [
    "telefono = 'Tel: 604-555-1234'\n",
    "m = re.search(r'(?P<area>\\d{3})-(?P<pre>\\d{3})-(?P<num>\\d{4})', telefono)\n",
    "print(m.group('area'), m.group('pre'), m.group('num'))"
   ]
  },
  {
   "cell_type": "markdown",
   "id": "537f18f9",
   "metadata": {},
   "source": [
    "## Ejemplo 8: `findall` vs `finditer`"
   ]
  },
  {
   "cell_type": "code",
   "execution_count": 9,
   "id": "5cc2395d",
   "metadata": {},
   "outputs": [
    {
     "name": "stdout",
     "output_type": "stream",
     "text": [
      "findall: ['X1', 'X22', 'X333']\n",
      "finditer:\n",
      "X1 en (5, 7)\n",
      "X22 en (9, 12)\n",
      "X333 en (14, 18)\n"
     ]
    }
   ],
   "source": [
    "texto = 'IDs: X1, X22, X333'\n",
    "print('findall:', re.findall(r'X\\d+', texto))\n",
    "print('finditer:')\n",
    "for m in re.finditer(r'X\\d+', texto):\n",
    "    print(m.group(), 'en', m.span())"
   ]
  },
  {
   "cell_type": "markdown",
   "id": "d254d44c",
   "metadata": {},
   "source": [
    "## Ejemplo 9: `re.sub` (enmascarar correos)"
   ]
  },
  {
   "cell_type": "code",
   "execution_count": 10,
   "id": "d52cda3d",
   "metadata": {},
   "outputs": [
    {
     "name": "stdout",
     "output_type": "stream",
     "text": [
      "Contactos: [email oculto], [email oculto]\n"
     ]
    }
   ],
   "source": [
    "texto = 'Contactos: ana.perez@example.com, juan@empresa.co'\n",
    "patron = r'[\\w.-]+@[\\w.-]+'  # simple (no perfecto)\n",
    "print(re.sub(patron, '[email oculto]', texto))"
   ]
  },
  {
   "cell_type": "markdown",
   "id": "53882954",
   "metadata": {},
   "source": [
    "## Ejemplo 10: `re.split` por múltiples separadores"
   ]
  },
  {
   "cell_type": "code",
   "execution_count": 11,
   "id": "7e29e0e8",
   "metadata": {},
   "outputs": [
    {
     "name": "stdout",
     "output_type": "stream",
     "text": [
      "['uno', 'dos', 'tres', 'cuatro', 'cinco']\n"
     ]
    }
   ],
   "source": [
    "texto = 'uno,dos; tres|cuatro  cinco'\n",
    "print(re.split(r'[;,|\\s]+', texto))"
   ]
  },
  {
   "cell_type": "code",
   "execution_count": 13,
   "id": "902699f1",
   "metadata": {},
   "outputs": [
    {
     "name": "stdout",
     "output_type": "stream",
     "text": [
      "juan.perez@mail.com True\n",
      "maria@mail False\n",
      "test@dominio.co True\n"
     ]
    }
   ],
   "source": [
    "import re\n",
    "\n",
    "correo_regex = r'^[\\w\\.-]+@[\\w\\.-]+\\.\\w{2,}$'\n",
    "\n",
    "# Ejemplo de uso\n",
    "mails = [\"juan.perez@mail.com\", \"maria@mail\", \"test@dominio.co\"]\n",
    "for c in mails:\n",
    "    print(c, bool(re.match(correo_regex, c)))\n"
   ]
  },
  {
   "cell_type": "markdown",
   "id": "6f18e40f",
   "metadata": {},
   "source": [
    "^ → inicio de la cadena.\n",
    "\n",
    "[\\w\\.-]+ → letras, números, guiones o puntos (nombre de usuario).\n",
    "\n",
    "@ → símbolo arroba obligatorio.\n",
    "\n",
    "[\\w\\.-]+ → dominio (ejemplo: gmail, empresa).\n",
    "\n",
    "\\. → punto.\n",
    "\n",
    "\\w{2,} → extensión con al menos 2 caracteres (ej: .com, .co, .org).\n",
    "\n",
    "$ → fin de la cadena."
   ]
  },
  {
   "cell_type": "code",
   "execution_count": 14,
   "id": "bf80d299",
   "metadata": {},
   "outputs": [
    {
     "name": "stdout",
     "output_type": "stream",
     "text": [
      "3001234567 True\n",
      "3229876543 True\n",
      "1234567890 False\n"
     ]
    }
   ],
   "source": [
    "celular_regex = r'^(3\\d{9})$'\n",
    "\n",
    "# Ejemplo de uso\n",
    "telefonos = [\"3001234567\", \"3229876543\", \"1234567890\"]\n",
    "for t in telefonos:\n",
    "    print(t, bool(re.match(celular_regex, t)))\n"
   ]
  },
  {
   "cell_type": "markdown",
   "id": "c3e54ae8",
   "metadata": {},
   "source": [
    "^ → inicio.\n",
    "\n",
    "3 → el celular colombiano empieza con 3.\n",
    "\n",
    "\\d{9} → exactamente 9 dígitos más (para total de 10).\n",
    "\n",
    "$ → fin de la cadena."
   ]
  },
  {
   "cell_type": "markdown",
   "id": "51679bb9",
   "metadata": {},
   "source": [
    "## Ejemplo 11: Flag `IGNORECASE`"
   ]
  },
  {
   "cell_type": "code",
   "execution_count": 15,
   "id": "2b3ebffc",
   "metadata": {},
   "outputs": [
    {
     "name": "stdout",
     "output_type": "stream",
     "text": [
      "IGNORECASE: True\n"
     ]
    }
   ],
   "source": [
    "texto = 'Linea1\\nLinea2 Palabra\\nlinea3'\n",
    "print('IGNORECASE:', bool(re.search(r'palabra', texto, re.I)))"
   ]
  },
  {
   "cell_type": "code",
   "execution_count": 17,
   "id": "1365c821",
   "metadata": {},
   "outputs": [],
   "source": [
    "#EJERCICIO\n",
    "texto = \"\"\"\n",
    "Nombre: Ana Gómez | Correo: ana.gomez@empresa.co | Cel: 300-123-4567\n",
    "Nombre: Carlos Perez | Correo: carlos@mail | Cel: 3229876543\n",
    "Nombre: María Lopez | Correo: maria.lopez@dominio.com | Cel: 315 555 4444\n",
    "Nombre: Juan Ramírez | Correo: juan.ramirez@EXAMPLE.ORG | Cel: +57 3007778888\n",
    "\"\"\""
   ]
  },
  {
   "cell_type": "markdown",
   "id": "9ce60a01",
   "metadata": {},
   "source": [
    "Tareas\n",
    "\n",
    "Correos válidos:\n",
    "Encuentra solo los correos electrónicos válidos (ignorar carlos@mail porque no tiene dominio correcto).\n",
    "\n",
    "Celulares válidos:\n",
    "Extrae celulares colombianos (10 dígitos, empiezan en 3).\n",
    "\n",
    "Acepta separadores - o espacio.\n",
    "\n",
    "Acepta el prefijo opcional +57.\n",
    "\n",
    "Devuelve el número normalizado en formato 3XXXXXXXXX.\n",
    "\n",
    "Nombres:\n",
    "Captura los nombres y normalízalos a Title Case (Ana Gómez, Carlos Perez, etc.)."
   ]
  },
  {
   "cell_type": "code",
   "execution_count": 18,
   "id": "a39eceee",
   "metadata": {},
   "outputs": [
    {
     "name": "stdout",
     "output_type": "stream",
     "text": [
      "Correos válidos: ['ana.gomez@empresa.co', 'maria.lopez@dominio.com', 'juan.ramirez@EXAMPLE.ORG']\n",
      "Celulares normalizados: ['3001234567', '3229876543', '3155554444', '3007778888']\n",
      "Nombres: ['Ana Gómez', 'Carlos Perez', 'María Lopez', 'Juan Ramírez']\n"
     ]
    }
   ],
   "source": [
    "import re\n",
    "\n",
    "# 1) Correos válidos\n",
    "correo_re = r'[\\w\\.-]+@[\\w\\.-]+\\.\\w{2,}'\n",
    "correos = re.findall(correo_re, texto, flags=re.I)\n",
    "\n",
    "# 2) Celulares (normalizados)\n",
    "cel_re = r'(?:\\+57\\s*)?(3\\d{2})[-\\s]?(\\d{3})[-\\s]?(\\d{4})'\n",
    "celulares_raw = re.findall(cel_re, texto)\n",
    "celulares = [\"\".join(grupo) for grupo in celulares_raw]\n",
    "\n",
    "# 3) Nombres (captura)\n",
    "nombres_raw = re.findall(r'Nombre:\\s*([^|]+)\\|', texto)\n",
    "nombres = [n.strip().title() for n in nombres_raw]\n",
    "\n",
    "print(\"Correos válidos:\", correos)\n",
    "print(\"Celulares normalizados:\", celulares)\n",
    "print(\"Nombres:\", nombres)\n"
   ]
  },
  {
   "cell_type": "markdown",
   "id": "2d75689b",
   "metadata": {},
   "source": [
    "Supongamos que tenemos un texto con contactos mezclados (correos y celulares).\n",
    "Queremos:\n",
    "\n",
    "Usar expresiones regulares para encontrar todos los correos y celulares.\n",
    "\n",
    "Guardar cada coincidencia en una lista simplemente ligada.\n",
    "\n",
    "Recorrer la lista e imprimir los datos."
   ]
  },
  {
   "cell_type": "code",
   "execution_count": 19,
   "id": "2270fc82",
   "metadata": {},
   "outputs": [
    {
     "name": "stdout",
     "output_type": "stream",
     "text": [
      "\n",
      "=== MENÚ ===\n",
      "1) Agregar CORREO (valida con regex)\n",
      "2) Agregar CELULAR (valida con regex)\n",
      "3) Listar nodos\n",
      "0) Salir\n",
      "❌ Correo inválido según la regex.\n",
      "\n",
      "=== MENÚ ===\n",
      "1) Agregar CORREO (valida con regex)\n",
      "2) Agregar CELULAR (valida con regex)\n",
      "3) Listar nodos\n",
      "0) Salir\n",
      "Opción inválida.\n",
      "\n",
      "=== MENÚ ===\n",
      "1) Agregar CORREO (valida con regex)\n",
      "2) Agregar CELULAR (valida con regex)\n",
      "3) Listar nodos\n",
      "0) Salir\n",
      "Opción inválida.\n",
      "\n",
      "=== MENÚ ===\n",
      "1) Agregar CORREO (valida con regex)\n",
      "2) Agregar CELULAR (valida con regex)\n",
      "3) Listar nodos\n",
      "0) Salir\n",
      "Opción inválida.\n",
      "\n",
      "=== MENÚ ===\n",
      "1) Agregar CORREO (valida con regex)\n",
      "2) Agregar CELULAR (valida con regex)\n",
      "3) Listar nodos\n",
      "0) Salir\n",
      "Opción inválida.\n",
      "\n",
      "=== MENÚ ===\n",
      "1) Agregar CORREO (valida con regex)\n",
      "2) Agregar CELULAR (valida con regex)\n",
      "3) Listar nodos\n",
      "0) Salir\n",
      "Opción inválida.\n",
      "\n",
      "=== MENÚ ===\n",
      "1) Agregar CORREO (valida con regex)\n",
      "2) Agregar CELULAR (valida con regex)\n",
      "3) Listar nodos\n",
      "0) Salir\n",
      "Opción inválida.\n",
      "\n",
      "=== MENÚ ===\n",
      "1) Agregar CORREO (valida con regex)\n",
      "2) Agregar CELULAR (valida con regex)\n",
      "3) Listar nodos\n",
      "0) Salir\n",
      "Opción inválida.\n",
      "\n",
      "=== MENÚ ===\n",
      "1) Agregar CORREO (valida con regex)\n",
      "2) Agregar CELULAR (valida con regex)\n",
      "3) Listar nodos\n",
      "0) Salir\n",
      "Opción inválida.\n",
      "\n",
      "=== MENÚ ===\n",
      "1) Agregar CORREO (valida con regex)\n",
      "2) Agregar CELULAR (valida con regex)\n",
      "3) Listar nodos\n",
      "0) Salir\n",
      "Opción inválida.\n",
      "\n",
      "=== MENÚ ===\n",
      "1) Agregar CORREO (valida con regex)\n",
      "2) Agregar CELULAR (valida con regex)\n",
      "3) Listar nodos\n",
      "0) Salir\n",
      "Opción inválida.\n",
      "\n",
      "=== MENÚ ===\n",
      "1) Agregar CORREO (valida con regex)\n",
      "2) Agregar CELULAR (valida con regex)\n",
      "3) Listar nodos\n",
      "0) Salir\n",
      "Adiós 👋\n"
     ]
    }
   ],
   "source": [
    "import re\n",
    "\n",
    "# ========= Lista simplemente ligada =========\n",
    "class Nodo:\n",
    "    def __init__(self, dato: str):\n",
    "        self.dato = dato\n",
    "        self.sig = None\n",
    "\n",
    "class ListaSimple:\n",
    "    def __init__(self):\n",
    "        self.cabeza = None\n",
    "\n",
    "    def insertar(self, dato: str):\n",
    "        nuevo = Nodo(dato)\n",
    "        if not self.cabeza:\n",
    "            self.cabeza = nuevo\n",
    "            return\n",
    "        actual = self.cabeza\n",
    "        while actual.sig:\n",
    "            actual = actual.sig\n",
    "        actual.sig = nuevo\n",
    "\n",
    "    def listar(self):\n",
    "        if not self.cabeza:\n",
    "            print(\"Lista vacía.\")\n",
    "            return\n",
    "        i, actual = 1, self.cabeza\n",
    "        while actual:\n",
    "            print(f\"{i:02d}. {actual.dato}\")\n",
    "            i += 1\n",
    "            actual = actual.sig\n",
    "\n",
    "# ========= Regex sencillas =========\n",
    "# Correo (simple y práctica)\n",
    "CORREO_RE = r'^[\\w\\.-]+@[\\w\\.-]+\\.\\w{2,}$'\n",
    "# Celular Colombia: exactamente 10 dígitos y empieza en 3 (formato simple, sin separadores)\n",
    "CELULAR_RE = r'^3\\d{9}$'\n",
    "\n",
    "def menu():\n",
    "    lista = ListaSimple()\n",
    "\n",
    "    while True:\n",
    "        print(\"\\n=== MENÚ ===\")\n",
    "        print(\"1) Agregar CORREO (valida con regex)\")\n",
    "        print(\"2) Agregar CELULAR (valida con regex)\")\n",
    "        print(\"3) Listar nodos\")\n",
    "        print(\"0) Salir\")\n",
    "        op = input(\"Opción: \").strip()\n",
    "\n",
    "        if op == \"1\":\n",
    "            correo = input(\"Correo: \").strip()\n",
    "            if re.fullmatch(CORREO_RE, correo, flags=re.I):\n",
    "                lista.insertar(f\"Correo: {correo}\")\n",
    "                print(\"✅ Agregado.\")\n",
    "            else:\n",
    "                print(\"❌ Correo inválido según la regex.\")\n",
    "\n",
    "        elif op == \"2\":\n",
    "            cel = input(\"Celular (10 dígitos, inicia en 3): \").strip()\n",
    "            if re.fullmatch(CELULAR_RE, cel):\n",
    "                lista.insertar(f\"Celular: {cel}\")\n",
    "                print(\"✅ Agregado.\")\n",
    "            else:\n",
    "                print(\"❌ Celular inválido según la regex.\")\n",
    "\n",
    "        elif op == \"3\":\n",
    "            lista.listar()\n",
    "\n",
    "        elif op == \"0\":\n",
    "            print(\"Adiós 👋\")\n",
    "            break\n",
    "\n",
    "        else:\n",
    "            print(\"Opción inválida.\")\n",
    "\n",
    "if __name__ == \"__main__\":\n",
    "    menu()\n"
   ]
  }
 ],
 "metadata": {
  "kernelspec": {
   "display_name": "Python 3",
   "language": "python",
   "name": "python3"
  },
  "language_info": {
   "codemirror_mode": {
    "name": "ipython",
    "version": 3
   },
   "file_extension": ".py",
   "mimetype": "text/x-python",
   "name": "python",
   "nbconvert_exporter": "python",
   "pygments_lexer": "ipython3",
   "version": "3.13.3"
  }
 },
 "nbformat": 4,
 "nbformat_minor": 5
}
