{
 "cells": [
  {
   "cell_type": "markdown",
   "metadata": {},
   "source": [
    "# Introducción a las Expresiones Regulares en Python con el Módulo `re`\n",
    "\n",
    "* **Autor:** Gemini\n",
    "* **Audiencia:** Estudiantes de Ingeniería Informática\n",
    "* **Objetivo:** Proporcionar una comprensión sólida y práctica de las expresiones regulares (regex) en Python, desde los conceptos fundamentales hasta técnicas avanzadas, y demostrar sus aplicaciones en el campo de la ingeniería."
   ]
  },
  {
   "cell_type": "markdown",
   "metadata": {},
   "source": [
    "## ¿Qué son las Expresiones Regulares?\n",
    "\n",
    "Una **expresión regular** (o \"regex\") es una secuencia de caracteres que define un patrón de búsqueda. En esencia, son un lenguaje formal para la especificación de patrones de texto. Piense en ellas como una versión sumamente avanzada de la funcionalidad \"Buscar y Reemplazar\" que se encuentra en los editores de texto, pero con la capacidad de definir patrones complejos en lugar de texto literal.\n",
    "\n",
    "En Python, la funcionalidad de las expresiones regulares está contenida principalmente en el módulo `re`."
   ]
  },
  {
   "cell_type": "code",
   "execution_count": null,
   "metadata": {},
   "outputs": [],
   "source": [
    "import re"
   ]
  },
  {
   "cell_type": "markdown",
   "metadata": {},
   "source": [
    "**Nota importante sobre las Cadenas Raw (Raw Strings):**\n",
    "Se recomienda encarecidamente utilizar la notación de cadena `raw` de Python (prefijo `r\"...\"`) para los patrones de regex. Esto evita que Python interprete secuencias de escape como `\\n` (nueva línea) antes de que la cadena sea pasada al motor de regex, lo cual es una fuente común de errores."
   ]
  },
  {
   "cell_type": "markdown",
   "metadata": {},
   "source": [
    "---\n",
    "\n",
    "## 1. Fundamentos: Coincidencias Literales y Metacaracteres Básicos\n",
    "\n",
    "Comenzamos con la forma más simple de un patrón: la coincidencia de caracteres literales. Sin embargo, el poder de las regex reside en los **metacaracteres**, que son caracteres con un significado especial.\n",
    "\n",
    "| Concepto | Símbolo | Descripción |\n",
    "| :--- | :--- | :--- |\n",
    "| **Coincidencia Literal** | `a`, `X`, `7` | Cualquier carácter sin significado especial coincide consigo mismo. |\n",
    "| **Cualquier Carácter** | `.` | Coincide con cualquier carácter, excepto una nueva línea. |\n",
    "| **Ancla de Inicio** | `^` | Coincide con el inicio de la cadena de texto. |\n",
    "| **Ancla de Fin** | `$` | Coincide con el final de la cadena de texto. |"
   ]
  },
  {
   "cell_type": "markdown",
   "metadata": {},
   "source": [
    "### Ejemplos Prácticos\n",
    "\n",
    "La función `re.search(patron, texto)` busca un patrón en cualquier parte de un texto y devuelve un objeto `Match` si lo encuentra, o `None` en caso contrario."
   ]
  },
  {
   "cell_type": "code",
   "execution_count": null,
   "metadata": {},
   "outputs": [],
   "source": [
    "texto_ejemplo = \"El procesamiento de señales es una disciplina fundamental en la ingeniería.\"\n",
    "\n",
    "# 1. Coincidencia literal\n",
    "patron_literal = r\"señales\"\n",
    "coincidencia = re.search(patron_literal, texto_ejemplo)\n",
    "if coincidencia:\n",
    "    print(f\"Se encontró '{coincidencia.group(0)}' en la posición: {coincidencia.start()}\")\n",
    "\n",
    "# 2. Uso del metacaracter '.' para encontrar 'es' seguido de cualquier caracter y luego 'una'\n",
    "patron_punto = r\"es .una\"\n",
    "coincidencia = re.search(patron_punto, texto_ejemplo)\n",
    "if coincidencia:\n",
    "    print(f\"Coincidencia con '.': '{coincidencia.group(0)}'\")\n",
    "\n",
    "# 3. Uso del ancla de inicio '^'\n",
    "patron_inicio = r\"^El\"\n",
    "coincidencia = re.search(patron_inicio, texto_ejemplo)\n",
    "if coincidencia:\n",
    "    print(f\"La cadena comienza con '{coincidencia.group(0)}'.\")\n",
    "\n",
    "# 4. Uso del ancla de fin '$'\n",
    "patron_fin = r\"ingeniería\\.$\" # Escapamos el punto para que coincida con un punto literal\n",
    "coincidencia = re.search(patron_fin, texto_ejemplo)\n",
    "if coincidencia:\n",
    "    print(f\"La cadena termina con '{coincidencia.group(0)}'.\")"
   ]
  },
  {
   "cell_type": "markdown",
   "metadata": {},
   "source": [
    "---\n",
    "\n",
    "## 2. Cuantificadores: Especificando Repeticiones\n",
    "\n",
    "Los cuantificadores permiten especificar el número de veces que un carácter, grupo o clase de carácter debe aparecer para que se produzca una coincidencia.\n",
    "\n",
    "| Concepto | Símbolo | Descripción |\n",
    "| :--- | :--- | :--- |\n",
    "| **Cero o más** | `*` | El elemento anterior aparece 0 o más veces. |\n",
    "| **Una o más** | `+` | El elemento anterior aparece 1 o más veces. |\n",
    "| **Cero o una** | `?` | El elemento anterior aparece 0 o 1 vez (lo hace opcional). |\n",
    "| **Cantidad Exacta** | `{n}` | El elemento anterior aparece exactamente `n` veces. |\n",
    "| **Rango de Cantidad**| `{n,m}`| El elemento anterior aparece entre `n` y `m` veces. |"
   ]
  },
  {
   "cell_type": "markdown",
   "metadata": {},
   "source": [
    "### Ejemplos Prácticos"
   ]
  },
  {
   "cell_type": "code",
   "execution_count": null,
   "metadata": {},
   "outputs": [],
   "source": [
    "texto_logs = \"Error 500. Error 404. Status 200 OK. Código 401. Error 503.\"\n",
    "\n",
    "# 1. Encontrar la palabra \"Error\" seguida de uno o más espacios y 3 dígitos.\n",
    "# \\d es un atajo para un dígito, lo veremos en la siguiente sección.\n",
    "patron_errores = r\"Error\\s+\\d{3}\" # \\s+ es uno o más espacios en blanco\n",
    "coincidencias = re.findall(patron_errores, texto_logs)\n",
    "print(f\"Errores encontrados: {coincidencias}\")\n",
    "\n",
    "# 2. Encontrar un archivo de imagen que puede ser .jpg o .jpeg\n",
    "texto_archivos = \"imagen1.jpeg, foto_perfil.jpg, documento.pdf\"\n",
    "patron_jpeg = r\"\\w+\\.jpe?g\" # La 'e' es opcional\n",
    "imagenes = re.findall(patron_jpeg, texto_archivos)\n",
    "print(f\"Archivos de imagen encontrados: {imagenes}\")\n",
    "\n",
    "# 3. Encontrar números binarios de 4 a 8 dígitos\n",
    "texto_binario = \"El dato es 101101. El siguiente es 1101. El último es 1011101001.\"\n",
    "patron_binario = r\"\\b[01]{4,8}\\b\" # \\b es un límite de palabra\n",
    "numeros_validos = re.findall(patron_binario, texto_binario)\n",
    "print(f\"Números binarios válidos: {numeros_validos}\")"
   ]
  },
  {
   "cell_type": "markdown",
   "metadata": {},
   "source": [
    "---\n",
    "\n",
    "## 3. Clases de Caracteres y Secuencias Especiales\n",
    "\n",
    "Las clases o conjuntos de caracteres nos permiten definir un grupo de caracteres que pueden coincidir en una posición determinada.\n",
    "\n",
    "| Concepto | Símbolo | Descripción |\n",
    "| :--- | :--- | :--- |\n",
    "| **Conjunto de Caracteres** | `[abc]` | Coincide con cualquiera de los caracteres dentro de los corchetes (a, b, o c). |\n",
    "| **Rango de Caracteres** | `[a-z]`, `[0-9]` | Coincide con cualquier carácter dentro del rango especificado. |\n",
    "| **Conjunto Negado** | `[^abc]` | Coincide con cualquier carácter que **no** esté en el conjunto. |\n",
    "| **Dígito** | `\\d` | Equivalente a `[0-9]`. |\n",
    "| **No Dígito** | `\\D` | Equivalente a `[^0-9]`. |\n",
    "| **Carácter de Palabra** | `\\w` | Alfanumérico más guion bajo. Equivalente a `[a-zA-Z0-9_]`. |\n",
    "| **No Palabra** | `\\W` | Caracteres que no son de palabra. Equivalente a `[^a-zA-Z0-9_]`.|\n",
    "| **Espacio en Blanco**| `\\s` | Coincide con espacios, tabulaciones, nuevas líneas. |\n",
    "| **No Espacio en Blanco**| `\\S` | Coincide con cualquier carácter que no sea un espacio en blanco. |\n",
    "| **Límite de Palabra** | `\\b` | Coincide con una posición de límite de palabra (no consume caracteres). |"
   ]
  },
  {
   "cell_type": "markdown",
   "metadata": {},
   "source": [
    "### Ejemplos Prácticos"
   ]
  },
  {
   "cell_type": "code",
   "execution_count": null,
   "metadata": {},
   "outputs": [],
   "source": [
    "texto_mixto = \"ID del componente: AX-345-B. Siguiente ID: CZ-991-A. Final.\"\n",
    "\n",
    "# 1. Encontrar todos los IDs que siguen el patrón LETRA-LETRA-NUM-NUM-NUM-LETRA\n",
    "patron_id = r\"\\b[A-Z]{2}-\\d{3}-[A-Z]\\b\"\n",
    "ids_encontrados = re.findall(patron_id, texto_mixto)\n",
    "print(f\"IDs de componentes encontrados: {ids_encontrados}\")\n",
    "\n",
    "# 2. Extraer todas las palabras (secuencias de caracteres de palabra)\n",
    "palabras = re.findall(r\"\\w+\", texto_mixto)\n",
    "print(f\"Palabras extraídas: {palabras}\")\n",
    "\n",
    "# 3. Extraer solo los números de los IDs\n",
    "numeros = re.findall(r\"-\\d{3}-\", texto_mixto)\n",
    "print(f\"Números extraídos (con guiones): {numeros}\")"
   ]
  },
  {
   "cell_type": "markdown",
   "metadata": {},
   "source": [
    "---\n",
    "\n",
    "## 4. Agrupación y Captura: Extracción de Información Estructurada\n",
    "\n",
    "Los paréntesis `()` son metacaracteres con una doble función: agrupar una parte del patrón y capturar el texto que coincide con esa parte para su uso posterior.\n",
    "\n",
    "| Concepto | Símbolo | Descripción |\n",
    "| :--- | :--- | :--- |\n",
    "| **Grupo de Captura** | `(patron)` | Agrupa `patron` y captura el texto coincidente en un grupo. |\n",
    "| **Referencia Inversa** | `\\1`, `\\2` | Coincide con el texto capturado por el grupo 1, 2, etc. |\n",
    "| **Grupo Sin Captura** | `(?:patron)` | Agrupa `patron` pero no captura el texto coincidente. Útil para la organización. |"
   ]
  },
  {
   "cell_type": "markdown",
   "metadata": {},
   "source": [
    "### Ejemplos Prácticos"
   ]
  },
  {
   "cell_type": "code",
   "execution_count": null,
   "metadata": {},
   "outputs": [],
   "source": [
    "log_entry = '192.168.1.1 - - [19/Sep/2025:15:33:01 +0000] \"GET /api/v1/users HTTP/1.1\" 200 56'\n",
    "\n",
    "# 1. Extraer la dirección IP, la fecha y el código de estado\n",
    "patron_log = r'(\\d{1,3}\\.\\d{1,3}\\.\\d{1,3}\\.\\d{1,3}).*?\\[(.*?)\\].*?\" \\d{3} '\n",
    "coincidencia = re.search(patron_log, log_entry)\n",
    "\n",
    "if coincidencia:\n",
    "    ip = coincidencia.group(1)\n",
    "    timestamp = coincidencia.group(2)\n",
    "    print(f\"Dirección IP: {ip}\")\n",
    "    print(f\"Timestamp: {timestamp}\")\n",
    "\n",
    "# 2. Encontrar palabras repetidas consecutivamente\n",
    "texto_repetido = \"Es necesario planificar la la implementación del del sistema.\"\n",
    "patron_repetidas = r\"\\b(\\w+)\\s+\\1\\b\"\n",
    "palabras_repetidas = re.findall(patron_repetidas, texto_repetido)\n",
    "print(f\"Palabras repetidas encontradas: {palabras_repetidas}\")"
   ]
  },
  {
   "cell_type": "markdown",
   "metadata": {},
   "source": [
    "---\n",
    "\n",
    "## 5. Funciones Principales del Módulo `re`\n",
    "\n",
    "Hasta ahora hemos utilizado `re.search` y `re.findall`. El módulo `re` ofrece otras funciones vitales.\n",
    "\n",
    "| Función | Descripción |\n",
    "| :--- | :--- |\n",
    "| `re.search(p, s)`| Escanea `s` buscando la primera ubicación donde `p` produce una coincidencia. |\n",
    "| `re.match(p, s)` | Si cero o más caracteres **al principio de `s`** coinciden con `p`. |\n",
    "| `re.findall(p, s)`| Devuelve una lista de todas las coincidencias no superpuestas de `p` en `s`. |\n",
    "| `re.finditer(p, s)`| Devuelve un iterador que produce objetos `Match` para cada coincidencia. |\n",
    "| `re.sub(p, r, s)`| Reemplaza las coincidencias de `p` en `s` con el reemplazo `r`. |\n",
    "| `re.split(p, s)` | Divide la cadena `s` por las ocurrencias del patrón `p`. |"
   ]
  },
  {
   "cell_type": "markdown",
   "metadata": {},
   "source": [
    "### Ejemplos Prácticos"
   ]
  },
  {
   "cell_type": "code",
   "execution_count": null,
   "metadata": {},
   "outputs": [],
   "source": [
    "# Diferencia entre match y search\n",
    "texto = \"email: usuario@dominio.com\"\n",
    "patron_email = r\"usuario\"\n",
    "\n",
    "print(f\"search: {re.search(patron_email, texto)}\")\n",
    "print(f\"match: {re.match(patron_email, texto)}\") # Devuelve None porque no está al inicio\n",
    "\n",
    "# Uso de re.sub para anonimizar datos\n",
    "texto_sensible = \"El usuario juan.perez@email.com envió una solicitud. Contactar a maria.gomez@email.com\"\n",
    "patron_email_completo = r\"[\\w\\.-]+@[\\w\\.-]+\"\n",
    "texto_anonimizado = re.sub(patron_email_completo, \"[EMAIL_CENSURADO]\", texto_sensible)\n",
    "print(f\"Texto anonimizado: {texto_anonimizado}\")\n",
    "\n",
    "# Uso de re.split para dividir por múltiples delimitadores\n",
    "texto_delimitadores = \"item1,item2;item3 item4\"\n",
    "items = re.split(r\"[,;\\s]+\", texto_delimitadores)\n",
    "print(f\"Items separados: {items}\")"
   ]
  },
  {
   "cell_type": "markdown",
   "metadata": {},
   "source": [
    "---\n",
    "\n",
    "## 6. Búsquedas Avanzadas: *Lookarounds*\n",
    "\n",
    "Los *lookarounds* son aserciones de ancho cero. Permiten verificar la existencia de un patrón antes (*lookbehind*) o después (*lookahead*) de la posición actual, sin que ese patrón forme parte de la coincidencia final.\n",
    "\n",
    "| Concepto | Símbolo | Descripción |\n",
    "| :--- | :--- | :--- |\n",
    "| **Lookahead Positivo**| `(?=patron)` | La expresión principal coincide solo si es seguida por `patron`. |\n",
    "| **Lookahead Negativo**| `(?!patron)` | La expresión principal coincide solo si **no** es seguida por `patron`. |\n",
    "| **Lookbehind Positivo**| `(?<=patron)`| La expresión principal coincide solo si es precedida por `patron`. |\n",
    "| **Lookbehind Negativo**| `(?<!patron)`| La expresión principal coincide solo si **no** es precedida por `patron`.|"
   ]
  },
  {
   "cell_type": "markdown",
   "metadata": {},
   "source": [
    "### Ejemplos Prácticos"
   ]
  },
  {
   "cell_type": "code",
   "execution_count": null,
   "metadata": {},
   "outputs": [],
   "source": [
    "# 1. Extraer el monto numérico solo si está precedido por el símbolo de dólar (lookbehind)\n",
    "texto_financiero = \"El total es $1500. El ID es 1500.\"\n",
    "patron_dolares = r\"(?<=\\$)\\d+\"\n",
    "montos = re.findall(patron_dolares, texto_financiero)\n",
    "print(f\"Montos en dólares: {montos}\")\n",
    "\n",
    "# 2. Validar una contraseña: debe tener al menos 8 caracteres, una letra mayúscula y un número (lookahead)\n",
    "# Este patrón utiliza múltiples lookaheads para verificar condiciones simultáneas\n",
    "patron_pwd = r\"^(?=.*[A-Z])(?=.*\\d).{8,}\"\n",
    "\n",
    "print(f\"Password123: {'Válida' if re.search(patron_pwd, 'Password123') else 'Inválida'}\")\n",
    "print(f\"password123: {'Válida' if re.search(patron_pwd, 'password123') else 'Inválida'}\")\n",
    "print(f\"Pass: {'Válida' if re.search(patron_pwd, 'Pass') else 'Inválida'}\")"
   ]
  },
  {
   "cell_type": "markdown",
   "metadata": {},
   "source": [
    "---\n",
    "\n",
    "## 7. Principales Aplicaciones en Ingeniería Informática\n",
    "\n",
    "Las expresiones regulares son una herramienta transversal en múltiples dominios de la ingeniería de software y sistemas:\n",
    "\n",
    "* **Validación de Datos:**\n",
    "    * Verificar que la entrada del usuario se ajuste a un formato específico (correos electrónicos, números de teléfono, códigos postales, matrículas).\n",
    "    * Validar la complejidad de las contraseñas.\n",
    "\n",
    "* **Análisis y Procesamiento de Ficheros de Log (*Parsing*):**\n",
    "    * Extraer información crítica como direcciones IP, fechas, códigos de estado HTTP, y mensajes de error de logs de servidores web, aplicaciones o sistemas operativos.\n",
    "\n",
    "* ***Web Scraping*:**\n",
    "    * Extraer datos estructurados (enlaces, precios, nombres de productos, correos) del código fuente HTML de páginas web.\n",
    "    * *Advertencia: Para HTML/XML complejos, es preferible usar librerías de parsing como BeautifulSoup o lxml, pero regex es útil para tareas rápidas y específicas.*\n",
    "\n",
    "* **Limpieza y Transformación de Datos (Data Cleaning):**\n",
    "    * Estandarizar formatos de datos (ej. fechas de `DD/MM/AAAA` a `AAAA-MM-DD`).\n",
    "    * Eliminar caracteres no deseados, espacios extra, o código HTML de un texto.\n",
    "    * Anonimizar datos sensibles reemplazando patrones específicos.\n",
    "\n",
    "* **Desarrollo de Compiladores y Editores de Código:**\n",
    "    * Componentes de *lexing* (análisis léxico) utilizan regex para identificar los *tokens* del lenguaje (palabras clave, identificadores, operadores).\n",
    "    * Implementar el resaltado de sintaxis (*syntax highlighting*) en editores de código."
   ]
  },
  {
   "cell_type": "markdown",
   "metadata": {},
   "source": [
    "---\n",
    "\n",
    "## 8. Ejercicios de Refuerzo\n",
    "\n",
    "A continuación se presentan algunos problemas para aplicar los conceptos aprendidos."
   ]
  },
  {
   "cell_type": "markdown",
   "metadata": {},
   "source": [
    "### Ejercicio 1: Validación de un RUC ecuatoriano\n",
    "Un RUC (Registro Único de Contribuyentes) para una persona natural en Ecuador consta de 10 dígitos, donde los dos primeros corresponden a un código de provincia (entre 01 y 24), y el tercer dígito es menor a 6. Escriba un patrón de regex que valide esta estructura."
   ]
  },
  {
   "cell_type": "code",
   "execution_count": null,
   "metadata": {},
   "outputs": [],
   "source": [
    "texto_ruc = \"RUCs a verificar: 1712345678, 0098765432, 2512345678, 1776543210\"\n",
    "# Solución esperada: un patrón que capture '1712345678' pero no los otros.\n",
    "# ... Escriba su código aquí ...\n",
    "patron_ruc = r\"\\b(0[1-9]|1[0-9]|2[0-4])[0-5]\\d{7}\\b\"\n",
    "rucs_validos = re.findall(patron_ruc, texto_ruc)\n",
    "print(f\"RUCs válidos encontrados: {rucs_validos}\")"
   ]
  },
  {
   "cell_type": "markdown",
   "metadata": {},
   "source": [
    "### Ejercicio 2: Extracción de URLs de un texto\n",
    "Dado un bloque de texto, extraiga todas las URLs completas (tanto `http` como `https`) que terminen en `.com`, `.org` o `.net`."
   ]
  },
  {
   "cell_type": "code",
   "execution_count": null,
   "metadata": {},
   "outputs": [],
   "source": [
    "texto_web = \"\"\"\n",
    "Visite nuestro sitio principal en http://www.miempresa.com para más información.\n",
    "También puede consultar nuestros proyectos en https://proyectos.miempresa.org.\n",
    "No olvide el portal de noticias en http://noticias-globales.net/ultima-hora.\n",
    "Contacto: info@miempresa.com\n",
    "\"\"\"\n",
    "# Solución esperada: una lista con las tres URLs.\n",
    "# ... Escriba su código aquí ...\n",
    "patron_url = r\"https?://[\\w\\.-]+\\.(com|org|net)[/\\w\\.-]*\"\n",
    "urls = re.findall(patron_url, texto_web)\n",
    "print(f\"URLs encontradas: {urls}\")"
   ]
  },
  {
   "cell_type": "markdown",
   "metadata": {},
   "source": [
    "### Ejercicio 3: Parseo de Datos de un Sensor\n",
    "Un sensor envía datos en una cadena con el formato `ID=[id];TEMP=[temp_C];HUM=[hum%];TS=[timestamp]`. El ID es alfanumérico, la temperatura es un número (posiblemente decimal), la humedad es un entero, y el timestamp es un entero (epoch). Extraiga los valores de temperatura y humedad de las siguientes cadenas."
   ]
  },
  {
   "cell_type": "code",
   "execution_count": null,
   "metadata": {},
   "outputs": [],
   "source": [
    "data_stream = [\n",
    "    \"ID=SensorA1;TEMP=25.5;HUM=60;TS=1663614600\",\n",
    "    \"ID=SensorB2;TEMP=22.1;HUM=65;TS=1663614605\",\n",
    "    \"ID=SensorC3;TEMP=28;HUM=55;TS=1663614610\",\n",
    "]\n",
    "# Solución esperada: una lista de tuplas, ej: [('25.5', '60'), ('22.1', '65'), ...]\n",
    "# ... Escriba su código aquí ...\n",
    "patron_sensor = r\"TEMP=([\\d\\.]+);HUM=(\\d+)\"\n",
    "datos_sensores = []\n",
    "for entry in data_stream:\n",
    "    match = re.search(patron_sensor, entry)\n",
    "    if match:\n",
    "        datos_sensores.append((match.group(1), match.group(2)))\n",
    "print(f\"Datos de Temperatura y Humedad: {datos_sensores}\")"
   ]
  }
 ],
 "metadata": {
  "kernelspec": {
   "display_name": "Python 3",
   "language": "python",
   "name": "python3"
  },
  "language_info": {
   "codemirror_mode": {
    "name": "ipython",
    "version": 3
   },
   "file_extension": ".py",
   "mimetype": "text/x-python",
   "name": "python",
   "nbconvert_exporter": "python",
   "pygments_lexer": "ipython3",
   "version": "3.9.7"
  }
 },
 "nbformat": 4,
 "nbformat_minor": 2
}
