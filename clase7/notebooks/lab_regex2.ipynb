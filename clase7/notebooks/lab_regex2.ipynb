{
 "cells": [
  {
   "cell_type": "markdown",
   "metadata": {},
   "source": [
    "# Laboratorio Guiado: Expresiones Regulares (Regex) en Python\n",
    "\n",
    "¡Bienvenido! En este laboratorio, aprenderás los fundamentos de las expresiones regulares y cómo utilizarlas en Python a través del módulo `re`. Las expresiones regulares son una herramienta increíblemente poderosa para el procesamiento y la manipulación de texto."
   ]
  },
  {
   "cell_type": "markdown",
   "metadata": {},
   "source": [
    "## 1. ¿Qué son las Expresiones Regulares?\n",
    "\n",
    "Una **expresión regular** (o \"regex\") es una secuencia de caracteres que define un patrón de búsqueda. Se utilizan principalmente para dos propósitos:\n",
    "\n",
    "1.  **Validar si un texto cumple con un formato:** Por ejemplo, ¿este texto es un correo electrónico válido? ¿Es un número de teléfono?\n",
    "2.  **Encontrar y extraer información de un texto:** Por ejemplo, encontrar todos los correos electrónicos o números de teléfono dentro de un documento largo."
   ]
  },
  {
   "cell_type": "markdown",
   "metadata": {},
   "source": [
    "### Tabla Resumen (Cheatsheet)\n",
    "\n",
    "| Símbolo | Descripción                                       |\n",
    "| :------ | :------------------------------------------------ |\n",
    "| `.`     | Cualquier carácter (excepto nueva línea)          |\n",
    "| `\\d`    | Cualquier dígito (0-9)                           |\n",
    "| `\\D`    | Cualquier carácter que **no** sea un dígito      |\n",
    "| `\\w`    | Carácter alfanumérico (a-z, A-Z, 0-9, _)          |\n",
    "| `\\W`    | Carácter **no** alfanumérico                      |\n",
    "| `\\s`    | Espacio en blanco (espacio, tab, nueva línea)     |\n",
    "| `\\S`    | Carácter que **no** es un espacio en blanco       |\n",
    "| `^`     | Inicio de la cadena                               |\n",
    "| `$`     | Final de la cadena                                |\n",
    "| `*`     | Cero o más repeticiones                           |\n",
    "| `+`     | Una o más repeticiones                            |\n",
    "| `?`     | Cero o una repetición                             |\n",
    "| `{n}`   | Exactamente `n` repeticiones                      |\n",
    "| `{n,m}` | Entre `n` y `m` repeticiones                      |\n",
    "| `[...]` | Un conjunto de caracteres permitidos (ej: `[aeiou]`)| \n",
    "| `[^...]`| Cualquier carácter **excepto** los del conjunto   |\n",
    "| `A|B`   | Coincide con A o con B (operador OR)              |"
   ]
  },
  {
   "cell_type": "markdown",
   "metadata": {},
   "source": [
    "## 2. El Módulo `re` en Python\n",
    "\n",
    "Python nos proporciona el módulo `re` para trabajar con expresiones regulares. Lo primero que debemos hacer es importarlo."
   ]
  },
  {
   "cell_type": "code",
   "execution_count": null,
   "metadata": {},
   "outputs": [],
   "source": [
    "import re"
   ]
  },
  {
   "cell_type": "markdown",
   "metadata": {},
   "source": [
    "### Funciones Principales\n",
    "\n",
    "- `re.search()`: Busca la **primera** coincidencia en todo el texto.\n",
    "- `re.match()`: Busca una coincidencia solo al **principio** del texto.\n",
    "- `re.findall()`: Devuelve una **lista con todas** las coincidencias.\n",
    "- `re.split()`: Divide el texto usando el patrón como delimitador.\n",
    "- `re.sub()`: Sustituye las coincidencias por otro texto."
   ]
  },
  {
   "cell_type": "markdown",
   "metadata": {},
   "source": [
    "### Ejemplo 1: `re.search()` y cuantificadores"
   ]
  },
  {
   "cell_type": "code",
   "execution_count": null,
   "metadata": {},
   "outputs": [],
   "source": [
    "texto = \"Mi número de teléfono es 123-456-7890.\"\n",
    "patron = \"\\d{3}-\\d{3}-\\d{4}\" # \\d{3} significa \"exactamente 3 dígitos\"\n",
    "\n",
    "coincidencia = re.search(patron, texto)\n",
    "\n",
    "if coincidencia:\n",
    "    print(\"Número encontrado:\", coincidencia.group()) # .group() nos da el texto que coincidió\n",
    "else:\n",
    "    print(\"No se encontró ningún número.\")"
   ]
  },
  {
   "cell_type": "markdown",
   "metadata": {},
   "source": [
    "### Ejemplo 2: `re.findall()` para encontrar todos los correos"
   ]
  },
  {
   "cell_type": "code",
   "execution_count": null,
   "metadata": {},
   "outputs": [],
   "source": [
    "texto = \"Mis correos son persona1@email.com y amigo2@dominio.co. También puedes escribir a contacto@empresa.org.\"\n",
    "# Patrón para email: [caracteres]+@[caracteres]+.[caracteres]+\n",
    "# El punto '.' es un metacarácter, por lo que debemos escaparlo con '\\.' para que signifique un punto literal.\n",
    "patron_email = \"[\\w.]+@[\\w.]+\"\n",
    "\n",
    "correos_encontrados = re.findall(patron_email, texto)\n",
    "\n",
    "print(\"Se encontraron los siguientes correos:\", correos_encontrados)"
   ]
  },
  {
   "cell_type": "markdown",
   "metadata": {},
   "source": [
    "### Ejemplo 3: Conjuntos de caracteres `[]` y alternancia `|`"
   ]
  },
  {
   "cell_type": "code",
   "execution_count": null,
   "metadata": {},
   "outputs": [],
   "source": [
    "texto = \"Me gustan los colores azul, rojo y verde. Mi mascota es un gato.\"\n",
    "\n",
    "# Encontrar todas las vocales\n",
    "vocales = re.findall(\"[aeiou]\", texto)\n",
    "print(f\"Vocales encontradas: {len(vocales)}\")\n",
    "\n",
    "# Encontrar si menciona 'gato' o 'perro'\n",
    "mascota = re.search(\"gato|perro\", texto)\n",
    "if mascota:\n",
    "    print(f\"Mascota encontrada: {mascota.group()}\")"
   ]
  },
  {
   "cell_type": "markdown",
   "metadata": {},
   "source": [
    "### Ejemplo 4: Grupos de Captura `()` y `re.sub()`"
   ]
  },
  {
   "cell_type": "code",
   "execution_count": null,
   "metadata": {},
   "outputs": [],
   "source": [
    "texto = \"Juan Pérez, 15/03/1995\"\n",
    "# Queremos extraer día, mes y año por separado\n",
    "patron_fecha = \"(\\d{2})/(\\d{2})/(\\d{4})\"\n",
    "\n",
    "coincidencia = re.search(patron_fecha, texto)\n",
    "\n",
    "if coincidencia:\n",
    "    # group(0) o group() es toda la coincidencia\n",
    "    print(\"Día:\", coincidencia.group(1))\n",
    "    print(\"Mes:\", coincidencia.group(2))\n",
    "    print(\"Año:\", coincidencia.group(3))\n",
    "    \n",
    "    # Ahora vamos a usar los grupos para reemplazar y cambiar el formato\n",
    "    # \\3, \\2, \\1 hacen referencia a los grupos capturados\n",
    "    texto_formato_americano = re.sub(patron_fecha, \"\\2-\\1-\\3\", texto)\n",
    "    print(\"Fecha en formato americano:\", texto_formato_americano)"
   ]
  },
  {
   "cell_type": "markdown",
   "metadata": {},
   "source": [
    "### Ejemplo 5: Flags (Banderas)\n",
    "A veces queremos modificar el comportamiento de la búsqueda, por ejemplo, para que ignore mayúsculas y minúsculas."
   ]
  },
  {
   "cell_type": "code",
   "execution_count": null,
   "metadata": {},
   "outputs": [],
   "source": [
    "texto = \"Python es un gran lenguaje. Amo PYTHON.\"\n",
    "\n",
    "# Búsqueda normal (sensible a mayúsculas)\n",
    "coincidencias_normal = re.findall(\"python\", texto)\n",
    "print(\"Búsqueda normal:\", coincidencias_normal)\n",
    "\n",
    "# Búsqueda ignorando mayúsculas/minúsculas\n",
    "coincidencias_ignorecase = re.findall(\"python\", texto, re.IGNORECASE)\n",
    "print(\"Búsqueda con IGNORECASE:\", coincidencias_ignorecase)"
   ]
  },
  {
   "cell_type": "markdown",
   "metadata": {},
   "source": [
    "## 3. Ejercicios Prácticos\n",
    "\n",
    "¡Ahora es tu turno! Intenta resolver los siguientes problemas usando lo que has aprendido."
   ]
  },
  {
   "cell_type": "markdown",
   "metadata": {},
   "source": [
    "### Ejercicio 1: Extraer todos los números de un texto\n",
    "\n",
    "Dado el siguiente texto, utiliza `re.findall()` para crear una lista que contenga todos los números presentes (tanto enteros como decimales).\n",
    "\n",
    "**Salida Esperada:** `['19.99', '150', '1030']`"
   ]
  },
  {
   "cell_type": "code",
   "execution_count": null,
   "metadata": {},
   "outputs": [],
   "source": [
    "texto_ej1 = \"El producto cuesta 19.99 dólares y tenemos 150 unidades en stock. El pedido número 1030 ha sido enviado.\"\n",
    "\n",
    "# Tu código aquí\n",
    "# Pista: un número es uno o más dígitos, opcionalmente seguido de un punto y más dígitos. `\\d+\\.?\\d*`\n",
    "numeros = re.findall(\"\\d+\\.?\\d*\", texto_ej1)\n",
    "\n",
    "print(numeros)\n",
    "\n",
    "# --- Solución ---\n",
    "# patron = \"\\\\d+\\\\.?\\\\d*\"\n",
    "# numeros = re.findall(patron, texto_ej1)\n",
    "# print(numeros)"
   ]
  },
  {
   "cell_type": "markdown",
   "metadata": {},
   "source": [
    "### Ejercicio 2: Validar un código postal\n",
    "\n",
    "Escribe una función `validar_codigo_postal(codigo)` que devuelva `True` si el código postal tiene exactamente 5 dígitos y `False` en caso contrario. Usa `re.match()` combinado con `^` y `$` para asegurar que toda la cadena coincida."
   ]
  },
  {
   "cell_type": "code",
   "execution_count": null,
   "metadata": {},
   "outputs": [],
   "source": [
    "def validar_codigo_postal(codigo):\n",
    "    # Tu código aquí\n",
    "    # Pista: El patrón debe asegurar que solo haya 5 dígitos desde el inicio (^) hasta el final ($) del texto.\n",
    "    patron = \"^\\d{5}$\"\n",
    "    if re.match(patron, str(codigo)):\n",
    "        return True\n",
    "    return False\n",
    "\n",
    "# Pruebas\n",
    "print(f\"'12345' es válido: {validar_codigo_postal('12345')} (Esperado: True)\")\n",
    "print(f\"'1234' es válido: {validar_codigo_postal('1234')} (Esperado: False)\")\n",
    "print(f\"'123456' es válido: {validar_codigo_postal('123456')} (Esperado: False)\")\n",
    "print(f\"'abcde' es válido: {validar_codigo_postal('abcde')} (Esperado: False)\")"
   ]
  },
  {
   "cell_type": "markdown",
   "metadata": {},
   "source": [
    "### Ejercicio 3: Extraer hashtags de un texto\n",
    "\n",
    "Encuentra y extrae todos los hashtags de un texto. Un hashtag empieza con `#` y es seguido por uno o más caracteres alfanuméricos.\n",
    "\n",
    "**Salida Esperada:** `['#Python', '#dev', '#coding101']`"
   ]
  },
  {
   "cell_type": "code",
   "execution_count": null,
   "metadata": {},
   "outputs": [],
   "source": [
    "texto_ej3 = \"Me encanta programar en #Python! Es mi lenguaje favorito. #dev #coding101\"\n",
    "\n",
    "# Tu código aquí\n",
    "# Pista: El patrón debe buscar un '#' seguido de uno o más caracteres alfanuméricos (\\w+).\n",
    "hashtags = re.findall(\"#\\w+\", texto_ej3)\n",
    "\n",
    "print(\"Hashtags encontrados:\", hashtags)\n",
    "\n",
    "# --- Solución ---\n",
    "# patron = \"#\\\\w+\"\n",
    "# hashtags = re.findall(patron, texto_ej3)\n",
    "# print(\"Hashtags encontrados:\", hashtags)"
   ]
  },
  {
   "cell_type": "markdown",
   "metadata": {},
   "source": [
    "### Ejercicio 4: Analizar una URL\n",
    "\n",
    "Dada una URL, extráe el protocolo (http, https, ftp), el dominio (ej. www.google.com) y la ruta (/search). Utiliza grupos de captura `()` para separar cada parte.\n",
    "\n",
    "**Salida Esperada para la primera URL:** `Protocolo: https, Dominio: www.google.com, Ruta: /search`"
   ]
  },
  {
   "cell_type": "code",
   "execution_count": null,
   "metadata": {},
   "outputs": [],
   "source": [
    "url_texto = \"Visita https://www.google.com/search para más información. También puedes ir a ftp://fileserver.net/downloads.\"\n",
    "\n",
    "# Tu código aquí\n",
    "# Pista: El patrón podría ser algo como (https?)://([^/]+)(/.*)?\n",
    "# (https?) -> 'http' opcionalmente seguido de 's'\n",
    "# ([^/]+) -> Dominio: uno o más caracteres que no sean '/'\n",
    "# (.*) -> Ruta: cualquier caracter, cero o más veces\n",
    "patron_url = \"(https?|ftp)://([^/]+)(.*)\"\n",
    "\n",
    "urls_encontradas = re.findall(patron_url, url_texto)\n",
    "\n",
    "for url in urls_encontradas:\n",
    "    protocolo, dominio, ruta = url\n",
    "    if not ruta:\n",
    "        ruta = \"/\"\n",
    "    print(f\"Protocolo: {protocolo}, Dominio: {dominio}, Ruta: {ruta}\")"
   ]
  }
 ],
 "metadata": {
  "kernelspec": {
   "display_name": "Python 3",
   "language": "python",
   "name": "python3"
  },
  "language_info": {
   "codemirror_mode": {
    "name": "ipython",
    "version": 3
   },
   "file_extension": ".py",
   "mimetype": "text/x-python",
   "name": "python",
   "nbconvert_exporter": "python",
   "pygments_lexer": "ipython3",
   "version": "3.9.7"
  }
 },
 "nbformat": 4,
 "nbformat_minor": 4
}
