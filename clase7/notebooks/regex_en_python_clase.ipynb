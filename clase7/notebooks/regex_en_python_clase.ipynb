{
 "cells": [
  {
   "cell_type": "markdown",
   "id": "55e46ff9",
   "metadata": {},
   "source": [
    "# Uso de Expresiones Regulares en Python\n",
    "Manejo del módulo `re`"
   ]
  },
  {
   "cell_type": "code",
   "execution_count": null,
   "id": "a818e029",
   "metadata": {},
   "outputs": [],
   "source": [
    "import re"
   ]
  },
  {
   "cell_type": "markdown",
   "id": "3f079ca1",
   "metadata": {},
   "source": [
    "## Funciones principales del módulo `re`"
   ]
  },
  {
   "cell_type": "code",
   "execution_count": null,
   "id": "c1f07855",
   "metadata": {},
   "outputs": [],
   "source": [
    "# match vs search\n",
    "print(re.match(r'\\d+', '123abc'))\n",
    "print(re.search(r'\\d+', 'abc123'))"
   ]
  },
  {
   "cell_type": "code",
   "execution_count": null,
   "id": "2729730b",
   "metadata": {},
   "outputs": [],
   "source": [
    "# findall y finditer\n",
    "texto = 'Hay 3 gatos y 12 perros'\n",
    "print(re.findall(r'\\d+', texto))\n",
    "for m in re.finditer(r'\\d+', texto):\n",
    "    print(m.group(), m.start())"
   ]
  },
  {
   "cell_type": "code",
   "execution_count": null,
   "id": "bc58c719",
   "metadata": {},
   "outputs": [],
   "source": [
    "# sub y split\n",
    "print(re.sub(r'\\d+', '#', 'Casa 123 Calle 456'))\n",
    "print(re.split(r'\\s+', 'Palabra1   Palabra2 Palabra3'))"
   ]
  },
  {
   "cell_type": "code",
   "execution_count": null,
   "id": "1c44f33c",
   "metadata": {},
   "outputs": [],
   "source": [
    "# Agrupamiento\n",
    "m = re.search(r'Nombre: (\\w+), Edad: (\\d+)', 'Nombre: Juan, Edad: 30')\n",
    "print(m.group(1), m.group(2))"
   ]
  },
  {
   "cell_type": "code",
   "execution_count": null,
   "id": "9f51ec9c",
   "metadata": {},
   "outputs": [],
   "source": [
    "# Compilación de patrones\n",
    "patron = re.compile(r'\\b\\w{4,}\\b')\n",
    "print(patron.findall('Este texto tiene palabras variadas'))"
   ]
  },
  {
   "cell_type": "code",
   "execution_count": null,
   "id": "6227c5c6",
   "metadata": {},
   "outputs": [],
   "source": [
    "# Flags\n",
    "print(re.findall(r'python', 'Python PYTHON', re.IGNORECASE))"
   ]
  },
  {
   "cell_type": "code",
   "execution_count": null,
   "id": "e12e6ada",
   "metadata": {},
   "outputs": [],
   "source": [
    "# Validación de correo\n",
    "email = 'contacto@udea.edu.co'\n",
    "if re.match(r'^[\\w\\.-]+@[\\w\\.-]+\\.\\w+$', email):\n",
    "    print('Correo válido')"
   ]
  },
  {
   "cell_type": "code",
   "execution_count": null,
   "id": "4defc02d",
   "metadata": {},
   "outputs": [],
   "source": [
    "# Extracción avanzada\n",
    "texto = 'ID: 302, Usuario: dmunera, Nivel: Avanzado'\n",
    "m = re.search(r'ID: (\\d+), Usuario: (\\w+), Nivel: (\\w+)', texto)\n",
    "print(m.groups())"
   ]
  }
 ],
 "metadata": {},
 "nbformat": 4,
 "nbformat_minor": 5
}
