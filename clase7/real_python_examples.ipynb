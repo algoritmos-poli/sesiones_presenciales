{
 "cells": [
  {
   "cell_type": "code",
   "execution_count": 2,
   "id": "bb6c07fe",
   "metadata": {},
   "outputs": [],
   "source": [
    "import re"
   ]
  },
  {
   "cell_type": "markdown",
   "id": "e34af9d1",
   "metadata": {},
   "source": [
    "First Pattern-Matching Example"
   ]
  },
  {
   "cell_type": "code",
   "execution_count": 3,
   "id": "a5d60c04",
   "metadata": {},
   "outputs": [
    {
     "data": {
      "text/plain": [
       "<re.Match object; span=(3, 6), match='123'>"
      ]
     },
     "execution_count": 3,
     "metadata": {},
     "output_type": "execute_result"
    }
   ],
   "source": [
    "s = 'foo123bar'\n",
    "re.search('123', s)"
   ]
  },
  {
   "cell_type": "code",
   "execution_count": 4,
   "id": "c2f953af",
   "metadata": {},
   "outputs": [
    {
     "name": "stdout",
     "output_type": "stream",
     "text": [
      "Found a match.\n"
     ]
    }
   ],
   "source": [
    "if re.search('123', s):\n",
    "    print('Found a match.')\n",
    "else:\n",
    "    print('No match.')"
   ]
  },
  {
   "cell_type": "markdown",
   "id": "8ea7aa3f",
   "metadata": {},
   "source": [
    "## Python Regex Metacharacters\n"
   ]
  },
  {
   "cell_type": "code",
   "execution_count": 18,
   "id": "9bdd7e8a",
   "metadata": {},
   "outputs": [
    {
     "name": "stdout",
     "output_type": "stream",
     "text": [
      "<re.Match object; span=(3, 6), match='123'>\n",
      "<re.Match object; span=(3, 6), match='456'>\n",
      "<re.Match object; span=(0, 3), match='234'>\n",
      "<re.Match object; span=(3, 6), match='678'>\n",
      "None\n"
     ]
    }
   ],
   "source": [
    "s = 'foo123bar'\n",
    "print(re.search('[0-9][0-9][0-9]', s))\n",
    "print(re.search('[0-9][0-9][0-9]', 'foo456bar'))\n",
    "print(re.search('[0-9][0-9][0-9]', '234baz'))\n",
    "print(re.search('[0-9][0-9][0-9]', 'qux678'))\n",
    "print(re.search('[0-9][0-9][0-9]', '12foo34'))"
   ]
  },
  {
   "cell_type": "code",
   "execution_count": 19,
   "id": "b40c2175",
   "metadata": {},
   "outputs": [
    {
     "name": "stdout",
     "output_type": "stream",
     "text": [
      "<re.Match object; span=(3, 6), match='123'>\n",
      "None\n"
     ]
    }
   ],
   "source": [
    "s = 'foo123bar'\n",
    "print(re.search('1.3', s))\n",
    "s = 'foo13bar'\n",
    "print(re.search('1.3', s))"
   ]
  },
  {
   "cell_type": "markdown",
   "id": "4ecc3cf6",
   "metadata": {},
   "source": [
    "Metacharacters That Match a Single Character\n"
   ]
  },
  {
   "cell_type": "markdown",
   "id": "02600992",
   "metadata": {},
   "source": [
    "[]"
   ]
  },
  {
   "cell_type": "code",
   "execution_count": 24,
   "id": "eb4955a6",
   "metadata": {},
   "outputs": [
    {
     "name": "stdout",
     "output_type": "stream",
     "text": [
      "<re.Match object; span=(3, 6), match='bar'>\n",
      "<re.Match object; span=(3, 6), match='baz'>\n",
      "<re.Match object; span=(3, 4), match='b'>\n",
      "<re.Match object; span=(3, 5), match='12'>\n",
      "<re.Match object; span=(4, 5), match='a'>\n",
      "<re.Match object; span=(5, 6), match='f'>\n",
      "<re.Match object; span=(3, 4), match='^'>\n",
      "<re.Match object; span=(3, 4), match='-'>\n",
      "<re.Match object; span=(3, 4), match='-'>\n",
      "<re.Match object; span=(3, 4), match='-'>\n"
     ]
    },
    {
     "name": "stderr",
     "output_type": "stream",
     "text": [
      "<>:10: SyntaxWarning: invalid escape sequence '\\-'\n",
      "<>:10: SyntaxWarning: invalid escape sequence '\\-'\n",
      "C:\\Users\\Usuario\\AppData\\Local\\Temp\\ipykernel_18796\\2541224199.py:10: SyntaxWarning: invalid escape sequence '\\-'\n",
      "  print(re.search('[ab\\-c]', '123-456'))\n"
     ]
    }
   ],
   "source": [
    "print(re.search('ba[artz]', 'foobarqux'))\n",
    "print(re.search('ba[artz]', 'foobazqux'))\n",
    "print(re.search('[a-z]', 'FOObar'))\n",
    "print(re.search('[0-9][0-9]', 'foo123bar'))\n",
    "print(re.search('[0-9a-fA-F]', '--- a0 ---'))\n",
    "print(re.search('[^0-9]', '12345foo'))\n",
    "print(re.search('[#:^]', 'foo^bar:baz#qux'))\n",
    "print(re.search('[-abc]', '123-456'))\n",
    "print(re.search('[abc-]', '123-456'))\n",
    "print(re.search('[ab\\-c]', '123-456'))"
   ]
  },
  {
   "cell_type": "markdown",
   "id": "dfa0a33c",
   "metadata": {},
   "source": [
    "## Referencias\n",
    "\n",
    "* https://realpython.com/regex-python/\n",
    "* https://realpython.com/regex-python-part-2/"
   ]
  }
 ],
 "metadata": {
  "kernelspec": {
   "display_name": "base",
   "language": "python",
   "name": "python3"
  },
  "language_info": {
   "codemirror_mode": {
    "name": "ipython",
    "version": 3
   },
   "file_extension": ".py",
   "mimetype": "text/x-python",
   "name": "python",
   "nbconvert_exporter": "python",
   "pygments_lexer": "ipython3",
   "version": "3.12.7"
  }
 },
 "nbformat": 4,
 "nbformat_minor": 5
}
