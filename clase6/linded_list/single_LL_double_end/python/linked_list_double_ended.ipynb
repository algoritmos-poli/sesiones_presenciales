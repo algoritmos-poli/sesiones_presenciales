{
 "cells": [
  {
   "cell_type": "markdown",
   "id": "157f4d0b",
   "metadata": {},
   "source": [
    "[![Open In Colab](https://colab.research.google.com/assets/colab-badge.svg)](https://colab.research.google.com/github/algoritmos-poli/sesiones_presenciales/blob/main/clase6/linded_list/single_LL_double_end/python/linked_list_double_ended.ipynb)"
   ]
  },
  {
   "cell_type": "markdown",
   "id": "bae93cc4",
   "metadata": {},
   "source": [
    "# Lista enlazada"
   ]
  },
  {
   "cell_type": "markdown",
   "id": "f3a337dc",
   "metadata": {},
   "source": [
    "## 1. Introducción\n",
    "\n",
    "Una lista enlazada (**Linked list**) es una estructura de datos dinamica que consiste en una secuencia de registros donde cada elemento contiene un **link** al proximo registro de la secuencia. Las listas enlazadas pueden ser Listas simplemente enlazadas, Listas doblemente enlazadas o listas circulares. En este caso veremos la lista enlazada simple de doble extremo."
   ]
  },
  {
   "cell_type": "markdown",
   "id": "33528209",
   "metadata": {},
   "source": [
    "## 2. Lista enlazada simple de doble extremo\n",
    "\n",
    "Como su nombre lo dice, la **lista enlazada simple de doble estremo** es una lista enlazada simple la cual tiene dos referencias una en el nodo inicial y otra en el nodo final tal y como se muestra en la siguiente figura. \n",
    "\n",
    "<div align=\"center\">\n",
    "  <figure>\n",
    "    <img src=\"linked_list_doble_link_1.png\" alt=\"Ejemplo lista enlazada de doble extremo\">    \n",
    "  </figure>\n",
    "  <figcaption><em>Lista enlazada simple de doble extremo.</em></figcaption>\n",
    "</div>"
   ]
  },
  {
   "cell_type": "markdown",
   "id": "d79d3a5e",
   "metadata": {},
   "source": [
    "## 3. Estructuras asociadas a una lista enlazada simple de doble extremo\n",
    "\n",
    "\n",
    "<div align=\"center\">\n",
    "  <figure>\n",
    "    <img src=\"uml_clases.png\" alt=\"Diagrama de clases\">    \n",
    "  </figure>\n",
    "  <figcaption><em>Lista enlazada simple.</em></figcaption>\n",
    "</div>"
   ]
  },
  {
   "cell_type": "markdown",
   "id": "cff646d5",
   "metadata": {},
   "source": [
    "### 3.1. Nodo (`Node`)\n",
    "\n",
    "Un nodo (`Node`) es la estructura fundamental que compone a una lista. La siguiente figura muestra la representación de un nodo:\n",
    "\n",
    "<div align=\"center\">\n",
    "  <figure>\n",
    "    <img src=\"node.png\" alt=\"Nodo\">    \n",
    "  </figure>\n",
    "  <figcaption><em>Nodo.</em></figcaption>\n",
    "</div>\n",
    "\n",
    "Un dodo esta compuesto por dos miembros:\n",
    "* **`data`**: Miembro del nodo en el que se almacena el contenido (payload) del nodo. \n",
    "* **`next`**: Este es el link (referencia) que apunta al proximo nodo de la lista. "
   ]
  },
  {
   "cell_type": "code",
   "execution_count": 3,
   "id": "70e80854",
   "metadata": {},
   "outputs": [],
   "source": [
    "class Node:\n",
    "    def __init__(self, data=0):\n",
    "        self.data = data\n",
    "        self.next = None\n",
    "\n",
    "    def __str__(self):\n",
    "        return f\"[{self.data}]\""
   ]
  },
  {
   "cell_type": "markdown",
   "id": "9a193802",
   "metadata": {},
   "source": [
    "### 3.2. Lista enlazada simple\n",
    "\n",
    "Como se menciono con anterioridad, una lista enlazada es una secuencia de nodos unimos mediante links. Esta lista tiene una referencia al primer nodo conocida como `head` y otra al ultimo conocida como `tail`.\n",
    "\n",
    "<div align=\"center\">\n",
    "  <figure>\n",
    "    <img src=\"linked_list_doble_link_0.png\" alt=\"Lista enlazada inicial\">    \n",
    "  </figure>\n",
    "  <figcaption><em>Lista enlazada de doble extremo inicial.</em></figcaption>\n",
    "</div>\n",
    "\n",
    "Cuando se crea una lista enlazada, la referencias `head` y `tail` se inicializa en `None` (`Null` en java). Con esto se indica, que la lista inicialmente se encuentra vacia.\n",
    "\n",
    "<div align=\"center\">\n",
    "  <figure>\n",
    "    <img src=\"linked_list_doble_link_1.png\" alt=\"Lista enlazada con algunos nodos\">    \n",
    "  </figure>\n",
    "  <figcaption><em>Lista enlazada con algunos nodos.</em></figcaption>\n",
    "</div>\n",
    "\n",
    " Luego, conforme se va modificando la lista (ya sea al agregar o eliminar nodos), la referencias `head` y `tail` se deben actualizar para que siempre apunten a los nodos inicial y final de la lista enlazada.\n",
    "\n",
    "Para modificar el estado de una lista enlazada simple de doble terminal, se emplean los siguientes metodos solo que en estos, ademas de actualizar el `head`, tambien se debe actualizar el `tail`:\n",
    "\n",
    "|`class LinkedList`|Descripción|\n",
    "|---|---|\n",
    "|`LinkedList()`|Inicializa la lista enlazada|\n",
    "|`L.add_first(value)`| Agrega un nuevo nodo cuyo dato es `value` al inicio de la lista enlazada|\n",
    "|`L.add_last(value)`| Agrega un nuevo nodo cuyo dato es `value` al final de la lista enlazada|\n",
    "|`L.add_after(prev_node, value)`| Agrega un nuevo nodo de dato  `value` despues del nodo `prev_node`|\n",
    "|`L.remove(value) -> bool`| Elimina el nodo cuyo dato es `value` retornando `true` si la operacióin fue exitosa o `false` en caso contrario|\n",
    "|`L.get(value) -> Node`| Devuelve la referencia al nodo de la lista cuyo dato es `value`. Si no encuentra el valor retorna `None`|\n",
    "|`L.clear(value)`| Devuelve la referencia al nodo de la lista cuyo dato es `value`. Si no encuentra el valor retorna `None`|\n",
    "|`L.contains(value) -> bool`| Devuelve la `true` si el nodo con dato `value` se encuentra en la lista enlazada o `false` en caso contrario|\n",
    "|`L.size(value) -> int`| Devuelve el tamaño de la lista enlazada|\n",
    "|`L._str_() -> str`| Imprime el contenido de la lista enlazada|\n",
    "\n",
    "A continuación se muestra el codigo de la clase enlazada simple `LinkedList` implementado en python."
   ]
  },
  {
   "cell_type": "code",
   "execution_count": 4,
   "id": "eb6706a9",
   "metadata": {},
   "outputs": [],
   "source": [
    "class LinkedList:\n",
    "    def __init__(self):\n",
    "        self.head = None\n",
    "        self.tail = None\n",
    "\n",
    "    def add_first(self, value):\n",
    "        new_node = Node(value)\n",
    "        if self.head is None:\n",
    "            self.head = new_node\n",
    "            self.tail = new_node\n",
    "        else:\n",
    "            new_node.next = self.head\n",
    "            self.head = new_node\n",
    "\n",
    "    def add_last(self, value):\n",
    "        new_node = Node(value)\n",
    "        if self.head is None:\n",
    "            self.head = new_node\n",
    "            self.tail = new_node\n",
    "        else:\n",
    "            self.tail.next = new_node\n",
    "            self.tail = new_node\n",
    "\n",
    "    def add_after(self, prev_node, value):\n",
    "        if prev_node is None:\n",
    "            return # Previous node cannot be None\n",
    "        new_node = Node(value)\n",
    "        new_node.next = prev_node.next\n",
    "        prev_node.next = new_node\n",
    "        if new_node.next == None:  # update tail if new node is added at the end\n",
    "            self.tail = new_node\n",
    " \n",
    "    def remove(self, value):\n",
    "        if self.head is None:\n",
    "            return False\n",
    "\n",
    "        # If the head node is the one to be removed\n",
    "        if self.head.data == value:\n",
    "            if self.head == self.tail:  # Only one node in the list\n",
    "                self.head = None\n",
    "                self.tail = None\n",
    "            else:\n",
    "                self.head = self.head.next\n",
    "            return True\n",
    "\n",
    "        current = self.head\n",
    "        while current.next:\n",
    "            if current.next.data == value:\n",
    "                if current.next == self.tail:  # If the tail node is to be removed\n",
    "                    self.tail = current\n",
    "                current.next = current.next.next\n",
    "                return True\n",
    "            current = current.next\n",
    "        return False  # Node not found\n",
    "\n",
    "    def get(self, value):\n",
    "        current = self.head\n",
    "        while current:\n",
    "            if current.data == value:\n",
    "                return current\n",
    "            current = current.next\n",
    "        return None  # Node not found\n",
    "    \n",
    "    def clear(self):\n",
    "        self.head = None\n",
    "        self.tail = None\n",
    "\n",
    "    def contains(self, value):\n",
    "        return self.get(value) is not None\n",
    "\n",
    "    def size(self):\n",
    "        count = 0\n",
    "        current = self.head\n",
    "        while current:\n",
    "            count += 1\n",
    "            current = current.next\n",
    "        return count\n",
    "    \n",
    "    def __str__(self):\n",
    "        nodes = []\n",
    "        current = self.head\n",
    "        while current:\n",
    "            nodes.append(str(current))\n",
    "            current = current.next\n",
    "        return \" -> \".join(nodes) if nodes else \"Empty List\""
   ]
  },
  {
   "cell_type": "markdown",
   "id": "85f03ef9",
   "metadata": {},
   "source": [
    "## 4. Uso de la lista enlazada\n",
    "\n",
    "A continuación se muestra un ejemplo donde se emplean las clases anteriormente definidas."
   ]
  },
  {
   "cell_type": "code",
   "execution_count": 5,
   "id": "9fd176fb",
   "metadata": {},
   "outputs": [
    {
     "name": "stdout",
     "output_type": "stream",
     "text": [
      "[5] -> [10] -> [15]\n",
      "[5] -> [10] -> [12] -> [15]\n",
      "[10] -> [12] -> [15]\n",
      "Size: 3\n",
      "Contains 12: True\n",
      "Empty List\n"
     ]
    }
   ],
   "source": [
    "ll = LinkedList()\n",
    "ll.add_last(10)\n",
    "ll.add_first(5)\n",
    "ll.add_last(15)\n",
    "print(ll)  # Output: [5] -> [10] -> [15]\n",
    "ll.add_after(ll.get(10), 12)\n",
    "print(ll)  # Output: [5] -> [10] -> [12] -> [15]\n",
    "ll.remove(5)\n",
    "print(ll)  # Output: [10] -> [12] -> [15]\n",
    "print(\"Size:\", ll.size())  # Output: Size: 3\n",
    "print(\"Contains 12:\", ll.contains(12))  # Output: Contains 12: True\n",
    "ll.clear()\n",
    "print(ll)  # Output: Empty List   "
   ]
  },
  {
   "cell_type": "markdown",
   "id": "f455dc40",
   "metadata": {},
   "source": [
    "## 5. Referencias\n",
    "\n",
    "Estas notas se basan en las siguientes 2 fuentes de consulta:\n",
    "* Notas de clase.\n",
    "* Apuntes de la profesora Luisa Restrepo sobre listas enlazadas ([link](https://github.com/LuisaRestrepo/MisionTIC2022-Ciclo1/blob/main/Semana5/Semana5-1.Listas%20Ligadas.ipynb)).\n",
    "* https://github.com/arminnorouzi/data_structure_and_algorithms\n",
    "* https://github.com/aish21/Algorithms-and-Data-Structures?tab=readme-ov-file\n",
    "* https://github.com/frahlg/courses/tree/master/1DV501\n",
    "* https://homepage.lnu.se/staff/jlnmsi/python/2020/lab1eng.html\n",
    "* https://www.cs.usfca.edu/~galles/visualization/"
   ]
  }
 ],
 "metadata": {
  "kernelspec": {
   "display_name": "base",
   "language": "python",
   "name": "python3"
  },
  "language_info": {
   "codemirror_mode": {
    "name": "ipython",
    "version": 3
   },
   "file_extension": ".py",
   "mimetype": "text/x-python",
   "name": "python",
   "nbconvert_exporter": "python",
   "pygments_lexer": "ipython3",
   "version": "3.12.7"
  }
 },
 "nbformat": 4,
 "nbformat_minor": 5
}
