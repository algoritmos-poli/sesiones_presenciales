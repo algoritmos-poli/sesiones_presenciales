{
 "cells": [
  {
   "cell_type": "markdown",
   "id": "157f4d0b",
   "metadata": {},
   "source": [
    "[![Open In Colab](https://colab.research.google.com/assets/colab-badge.svg)](https://colab.research.google.com/github/algoritmos-poli/sesiones_presenciales/blob/main/clase6/linded_list/single_LL_double_end/python/linked_list_double_ended.ipynb)"
   ]
  },
  {
   "cell_type": "markdown",
   "id": "bae93cc4",
   "metadata": {},
   "source": [
    "# Lista enlazada doble\n",
    "\n",
    "**En construcción...**\n",
    "\n",
    "Disculpe las molestias causadas."
   ]
  }
 ],
 "metadata": {
  "kernelspec": {
   "display_name": "base",
   "language": "python",
   "name": "python3"
  },
  "language_info": {
   "codemirror_mode": {
    "name": "ipython",
    "version": 3
   },
   "file_extension": ".py",
   "mimetype": "text/x-python",
   "name": "python",
   "nbconvert_exporter": "python",
   "pygments_lexer": "ipython3",
   "version": "3.12.7"
  }
 },
 "nbformat": 4,
 "nbformat_minor": 5
}
