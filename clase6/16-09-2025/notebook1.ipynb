{
 "cells": [
  {
   "cell_type": "markdown",
   "id": "c7a7be79-df34-4268-9c04-58eddb136652",
   "metadata": {},
   "source": [
    "# Practica de laboratorio"
   ]
  },
  {
   "cell_type": "markdown",
   "id": "5d3e3242-28b4-4add-8439-1bbaa531a822",
   "metadata": {},
   "source": [
    "## Problemas\n",
    "\n",
    "Hacer un programa en python que pida la edad en años y devuelva la edad en dias\n",
    "\n",
    "**Solucion**:"
   ]
  },
  {
   "cell_type": "code",
   "execution_count": 12,
   "id": "4631171d-b8f0-43d1-9285-bfc144956c72",
   "metadata": {},
   "outputs": [
    {
     "name": "stdin",
     "output_type": "stream",
     "text": [
      "Digite la edad:  10\n"
     ]
    },
    {
     "name": "stdout",
     "output_type": "stream",
     "text": [
      "Usted tiene 3650 dias\n"
     ]
    }
   ],
   "source": [
    "# Solucion\n",
    "edad = int(input(\"Digite la edad: \"))\n",
    "edad_dias = 365*edad\n",
    "# print(\"Usted tiene\",edad_dias,\"dias\")\n",
    "print(\"Usted tiene \" + str(edad_dias) + \" dias\")"
   ]
  },
  {
   "cell_type": "markdown",
   "id": "f1472a9b-c7c1-46a7-aef3-301461f6aeb6",
   "metadata": {},
   "source": [
    "Hacer un programa que determine si un numero es par"
   ]
  },
  {
   "cell_type": "code",
   "execution_count": 16,
   "id": "7ff085f9-83a0-436b-ac9e-e6342d645c85",
   "metadata": {},
   "outputs": [
    {
     "name": "stdin",
     "output_type": "stream",
     "text": [
      "Digite el numero:  23\n"
     ]
    },
    {
     "name": "stdout",
     "output_type": "stream",
     "text": [
      "23 es un numero impar\n"
     ]
    }
   ],
   "source": [
    "# Solucion\n",
    "n = int(input(\"Digite el numero: \"))\n",
    "if n%2 == 0:\n",
    "    print(str(n) + \" es un numero par\")\n",
    "else:\n",
    "    print(str(n) + \" es un numero impar\")\n",
    "\n",
    "\n"
   ]
  },
  {
   "cell_type": "code",
   "execution_count": null,
   "id": "6c1fe9d6-ca6b-426f-bd5f-85b6a6d6d70e",
   "metadata": {},
   "outputs": [],
   "source": []
  }
 ],
 "metadata": {
  "kernelspec": {
   "display_name": "Python 3 (ipykernel)",
   "language": "python",
   "name": "python3"
  },
  "language_info": {
   "codemirror_mode": {
    "name": "ipython",
    "version": 3
   },
   "file_extension": ".py",
   "mimetype": "text/x-python",
   "name": "python",
   "nbconvert_exporter": "python",
   "pygments_lexer": "ipython3",
   "version": "3.12.7"
  }
 },
 "nbformat": 4,
 "nbformat_minor": 5
}
