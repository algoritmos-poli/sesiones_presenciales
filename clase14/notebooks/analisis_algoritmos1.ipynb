{
 "cells": [
  {
   "cell_type": "markdown",
   "id": "6f9cbf4b",
   "metadata": {},
   "source": [
    "# Analisis de rendimiento"
   ]
  },
  {
   "cell_type": "markdown",
   "id": "5d1c224a",
   "metadata": {},
   "source": [
    "## Algoritmos"
   ]
  },
  {
   "cell_type": "code",
   "execution_count": 2,
   "id": "967c76d2",
   "metadata": {},
   "outputs": [],
   "source": [
    "def sum_squares_power(n):\n",
    "    total = 0.0\n",
    "    for i in range(1, n+1):\n",
    "        total += i**2\n",
    "    return total\n",
    "\n",
    "def sum_squares_multiply(n):\n",
    "    total = 0.0\n",
    "    for i in range(1, n+1):\n",
    "        total += i*i\n",
    "    return total"
   ]
  },
  {
   "cell_type": "markdown",
   "id": "2420a794",
   "metadata": {},
   "source": [
    "A continuación vamos a realizar una prueba sencilla."
   ]
  },
  {
   "cell_type": "code",
   "execution_count": 3,
   "id": "ba0bba6b",
   "metadata": {},
   "outputs": [
    {
     "name": "stdout",
     "output_type": "stream",
     "text": [
      "333833500.0\n",
      "333833500.0\n"
     ]
    }
   ],
   "source": [
    "print(sum_squares_power(1000))\n",
    "print(sum_squares_multiply(1000))"
   ]
  },
  {
   "cell_type": "markdown",
   "id": "61074594",
   "metadata": {},
   "source": [
    "## Medicion del desempeño"
   ]
  },
  {
   "cell_type": "markdown",
   "id": "d2454992",
   "metadata": {},
   "source": [
    "### Usado `%timeit` en celdas separadas para medir cada algoritmo."
   ]
  },
  {
   "cell_type": "code",
   "execution_count": null,
   "id": "213cbec6",
   "metadata": {},
   "outputs": [
    {
     "name": "stdout",
     "output_type": "stream",
     "text": [
      "2.18 s ± 46.6 ms per loop (mean ± std. dev. of 7 runs, 1 loop each)\n"
     ]
    }
   ],
   "source": [
    "# Mide el tiempo de sum_squares_power\n",
    "%timeit sum_squares_power(10000000)"
   ]
  },
  {
   "cell_type": "code",
   "execution_count": 5,
   "id": "7615f3f8",
   "metadata": {},
   "outputs": [
    {
     "name": "stdout",
     "output_type": "stream",
     "text": [
      "1.84 s ± 123 ms per loop (mean ± std. dev. of 7 runs, 1 loop each)\n"
     ]
    }
   ],
   "source": [
    "# Mide el tiempo de sum_squares_multiply\n",
    "%timeit sum_squares_multiply(10000000)"
   ]
  },
  {
   "cell_type": "markdown",
   "id": "df2e0e2a",
   "metadata": {},
   "source": [
    "### Usando la clase cronometro"
   ]
  },
  {
   "cell_type": "code",
   "execution_count": 7,
   "id": "28d3e09b",
   "metadata": {},
   "outputs": [],
   "source": [
    "import time\n",
    "import math\n",
    "\n",
    "### Clase Stopwatch\n",
    "class Stopwatch:\n",
    "    \"\"\"Mide el tiempo transcurrido usando el reloj monotónico de alta precisión.\"\"\"\n",
    "    def __init__(self):\n",
    "        # Usar perf_counter() para rendimiento\n",
    "        self._startTime = time.perf_counter()\n",
    "\n",
    "    def elapsedTime(self):\n",
    "        \"\"\"Retorna el tiempo transcurrido en segundos.\"\"\"\n",
    "        return time.perf_counter() - self._startTime"
   ]
  },
  {
   "cell_type": "code",
   "execution_count": 13,
   "id": "c7544f7c",
   "metadata": {},
   "outputs": [],
   "source": [
    "def time_algorithm(func, n):\n",
    "    \"\"\"Función auxiliar para cronometrar una ejecución.\"\"\"\n",
    "    watch = Stopwatch()\n",
    "    func(n) # Ejecuta la función (ej. sum_squares_power)\n",
    "    return watch.elapsedTime()"
   ]
  },
  {
   "cell_type": "code",
   "execution_count": 14,
   "id": "14ecaa55",
   "metadata": {},
   "outputs": [
    {
     "name": "stdout",
     "output_type": "stream",
     "text": [
      "--- Iniciando Prueba de Duplicación (i**2 vs i*i) ---\n",
      "           N |   Tiempo (i**2) |  Ratio |    Tiempo (i*i) |  Ratio\n",
      "------------------------------------------------------------------\n",
      "      100000 |        0.024987 |  N/A   |        0.021915 |  N/A  \n",
      "      200000 |        0.049968 |   2.00 |        0.040717 |   1.86\n",
      "      400000 |        0.099957 |   2.00 |        0.083039 |   2.04\n",
      "      800000 |        0.216894 |   2.17 |        0.180500 |   2.17\n",
      "     1600000 |        0.404745 |   1.87 |        0.331508 |   1.84\n",
      "     3200000 |        0.843782 |   2.08 |        0.582365 |   1.76\n",
      "     6400000 |        1.415707 |   1.68 |        1.104703 |   1.90\n",
      "    12800000 |        2.936429 |   2.07 |        2.513958 |   2.28\n",
      "    25600000 |        6.242142 |   2.13 |        4.943674 |   1.97\n",
      "    51200000 |       11.370990 |   1.82 |        9.491651 |   1.92\n"
     ]
    }
   ],
   "source": [
    "# --- 3. Script Principal del Test de Duplicación ---\n",
    "\n",
    "def run_comparison_test(start_N=100_000, max_N=100_000_000):\n",
    "    \n",
    "    print(\"--- Iniciando Prueba de Duplicación (i**2 vs i*i) ---\")\n",
    "    \n",
    "    # Encabezado de la tabla\n",
    "    header = f\"{'N':>12s} | {'Tiempo (i**2)':>15s} | {'Ratio':>6s} | {'Tiempo (i*i)':>15s} | {'Ratio':>6s}\"\n",
    "    print(header)\n",
    "    print(\"-\" * len(header))\n",
    "\n",
    "    n = start_N\n",
    "    prev_time_power = 0.0\n",
    "    prev_time_multiply = 0.0\n",
    "\n",
    "    while n <= max_N:\n",
    "        \n",
    "        # 1. Medir el tiempo de la versión con potencia (i**2)\n",
    "        time_power = time_algorithm(sum_squares_power, n)\n",
    "        \n",
    "        # 2. Medir el tiempo de la versión con multiplicación (i*i)\n",
    "        time_multiply = time_algorithm(sum_squares_multiply, n)\n",
    "\n",
    "        # 3. Calcular los ratios (ignorar el ruido inicial)\n",
    "        ratio_power_str = \"N/A\"\n",
    "        if prev_time_power > 0.000001: \n",
    "            ratio_power = time_power / prev_time_power\n",
    "            ratio_power_str = f\"{ratio_power:6.2f}\"\n",
    "        \n",
    "        ratio_multiply_str = \"N/A\"\n",
    "        if prev_time_multiply > 0.000001:\n",
    "            ratio_multiply = time_multiply / prev_time_multiply\n",
    "            ratio_multiply_str = f\"{ratio_multiply:6.2f}\"\n",
    "\n",
    "        # 4. Imprimir la fila de resultados\n",
    "        print(f\"{n:12d} | {time_power:15.6f} | {ratio_power_str:^6s} | {time_multiply:15.6f} | {ratio_multiply_str:^6s}\")\n",
    "\n",
    "        # 5. Preparar la siguiente iteración\n",
    "        prev_time_power = time_power\n",
    "        prev_time_multiply = time_multiply\n",
    "        n *= 2\n",
    "\n",
    "# --- 4. Ejecutar el Test ---\n",
    "run_comparison_test()"
   ]
  },
  {
   "cell_type": "markdown",
   "id": "ec1a89c4",
   "metadata": {},
   "source": [
    "## Refererencias\n",
    "\n",
    "1. https://algs4.cs.princeton.edu/14analysis/\n",
    "2. https://introcs.cs.princeton.edu/python/23recursion/\n",
    "3. https://www.cs.princeton.edu/courses/archive/spring21/cos226/lectures/study/14AnalysisOfAlgorithms.html"
   ]
  }
 ],
 "metadata": {
  "kernelspec": {
   "display_name": "base",
   "language": "python",
   "name": "python3"
  },
  "language_info": {
   "codemirror_mode": {
    "name": "ipython",
    "version": 3
   },
   "file_extension": ".py",
   "mimetype": "text/x-python",
   "name": "python",
   "nbconvert_exporter": "python",
   "pygments_lexer": "ipython3",
   "version": "3.12.7"
  }
 },
 "nbformat": 4,
 "nbformat_minor": 5
}
