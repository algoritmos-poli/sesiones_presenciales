{
 "cells": [
  {
   "cell_type": "markdown",
   "id": "6f9cbf4b",
   "metadata": {},
   "source": [
    "# Algoritmos de busqueda"
   ]
  },
  {
   "cell_type": "markdown",
   "id": "df9a7f1c",
   "metadata": {},
   "source": [
    "La busqueda es una operación **escencial** que consiste en encontrar un elemento dentro de una colección de datos."
   ]
  },
  {
   "cell_type": "markdown",
   "id": "5d1c224a",
   "metadata": {},
   "source": [
    "## Busqueda lineal\n",
    "\n",
    "Consiste en buscar elemento por elemento hasta encontrar lo que se busca. Para eso se recorre cada elemento de la colección de tal manera que si el elemento es encontrado el algoritmo de detiene retornando el resultado, pero si no el elgoairmo continia retornando el indice.\n",
    "\n",
    "Looping through each element\n",
    "\n",
    "Element found\n",
    "algorithm stops\n",
    "returns the result\n",
    "Element not found\n",
    "algorithm continues\n"
   ]
  },
  {
   "cell_type": "code",
   "execution_count": 2,
   "id": "967c76d2",
   "metadata": {},
   "outputs": [],
   "source": [
    "def linear_search(list, item):\n",
    "    \"\"\"Busca un ítem en una lista usando el algoritmo de búsqueda lineal. Este algoritmo revisa cada elemento en secuencia (de principio a fin)\n",
    "    hasta que encuentra una coincidencia.\n",
    "\n",
    "    Args:\n",
    "        list (list): La lista (o secuencia) en la que se va a buscar.\n",
    "        item (any): El valor que se desea encontrar.\n",
    "\n",
    "    Returns:\n",
    "        int: El índice de la *primera* ocurrencia del ítem en la lista.\n",
    "             Retorna -1 si el ítem no se encuentra.\n",
    "    \"\"\"\n",
    "    for i in range(len(list)):\n",
    "        if list[i] == item:\n",
    "            return i\n",
    "    return -1"
   ]
  },
  {
   "cell_type": "code",
   "execution_count": null,
   "id": "a60831ee",
   "metadata": {},
   "outputs": [],
   "source": [
    "def binary_search(sorted_list, item):\n",
    "    \"\"\"\n",
    "    Busca un ítem en una lista \"ordenada\" usando el algoritmo de búsqueda binaria.\n",
    "\n",
    "    Args:\n",
    "        sorted_list (list): La lista (o secuencia) en la que se va a buscar.\n",
    "                            Debe estar previamente ordenada.\n",
    "        item (any): El valor que se desea encontrar.\n",
    "\n",
    "    Returns:\n",
    "        int: El índice del ítem en la lista.\n",
    "             Retorna -1 si el ítem no se encuentra.\n",
    "    \"\"\"\n",
    "    low = 0\n",
    "    high = len(sorted_list) - 1\n",
    "    while low <= high:\n",
    "        mid = (low + high) // 2\n",
    "        guess = sorted_list[mid]\n",
    "        if guess == item:\n",
    "            return mid\n",
    "        if guess > item:\n",
    "            high = mid - 1\n",
    "        else:\n",
    "            low = mid + 1\n",
    "    return -1"
   ]
  },
  {
   "cell_type": "code",
   "execution_count": null,
   "id": "d3e73f15",
   "metadata": {},
   "outputs": [],
   "source": []
  },
  {
   "cell_type": "markdown",
   "id": "ec1a89c4",
   "metadata": {},
   "source": [
    "## Refererencias\n",
    "\n",
    "1. https://algs4.cs.princeton.edu/14analysis/\n",
    "2. https://introcs.cs.princeton.edu/python/23recursion/\n",
    "3. https://www.cs.princeton.edu/courses/archive/spring21/cos226/lectures/study/14AnalysisOfAlgorithms.html"
   ]
  }
 ],
 "metadata": {
  "kernelspec": {
   "display_name": "base",
   "language": "python",
   "name": "python3"
  },
  "language_info": {
   "codemirror_mode": {
    "name": "ipython",
    "version": 3
   },
   "file_extension": ".py",
   "mimetype": "text/x-python",
   "name": "python",
   "nbconvert_exporter": "python",
   "pygments_lexer": "ipython3",
   "version": "3.12.7"
  }
 },
 "nbformat": 4,
 "nbformat_minor": 5
}
