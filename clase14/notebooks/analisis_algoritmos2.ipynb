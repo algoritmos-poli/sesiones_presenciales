{
 "cells": [
  {
   "cell_type": "markdown",
   "id": "6f9cbf4b",
   "metadata": {},
   "source": [
    "# Algoritmos de busqueda"
   ]
  },
  {
   "cell_type": "markdown",
   "id": "df9a7f1c",
   "metadata": {},
   "source": [
    "La busqueda es una operación **escencial** que consiste en encontrar un elemento dentro de una colección de datos."
   ]
  },
  {
   "cell_type": "markdown",
   "id": "5d1c224a",
   "metadata": {},
   "source": [
    "## Busqueda lineal"
   ]
  },
  {
   "cell_type": "code",
   "execution_count": 2,
   "id": "967c76d2",
   "metadata": {},
   "outputs": [],
   "source": [
    "def linear_search(list, item):\n",
    "    \"\"\"Busca un ítem en una lista usando el algoritmo de búsqueda lineal. Este algoritmo revisa cada elemento en secuencia (de principio a fin)\n",
    "    hasta que encuentra una coincidencia.\n",
    "\n",
    "    Args:\n",
    "        list (list): La lista (o secuencia) en la que se va a buscar.\n",
    "        item (any): El valor que se desea encontrar.\n",
    "\n",
    "    Returns:\n",
    "        int: El índice de la *primera* ocurrencia del ítem en la lista.\n",
    "             Retorna -1 si el ítem no se encuentra.\n",
    "    \"\"\"\n",
    "    for i in range(len(list)):\n",
    "        if list[i] == item:\n",
    "            return i\n",
    "    return -1"
   ]
  },
  {
   "cell_type": "markdown",
   "id": "2420a794",
   "metadata": {},
   "source": [
    "A continuación vamos a realizar una prueba sencilla."
   ]
  },
  {
   "cell_type": "code",
   "execution_count": 5,
   "id": "1e01565e",
   "metadata": {},
   "outputs": [
    {
     "name": "stdout",
     "output_type": "stream",
     "text": [
      "3\n",
      "-1\n"
     ]
    }
   ],
   "source": [
    "L = [3, 5, 2, 4, 9, 6, 1, 8, 7]\n",
    "print(linear_search(L, 4))  # Salida: 3\n",
    "print(linear_search(L, 10)) # Salida: -1"
   ]
  },
  {
   "cell_type": "markdown",
   "id": "60c8a6e1",
   "metadata": {},
   "source": [
    "## Busqueda binaria"
   ]
  },
  {
   "cell_type": "code",
   "execution_count": 6,
   "id": "a60831ee",
   "metadata": {},
   "outputs": [],
   "source": [
    "def binary_search(sorted_list, item):\n",
    "    \"\"\"\n",
    "    Busca un ítem en una lista \"ordenada\" usando el algoritmo de búsqueda binaria.\n",
    "\n",
    "    Args:\n",
    "        sorted_list (list): La lista (o secuencia) en la que se va a buscar.\n",
    "                            Debe estar previamente ordenada.\n",
    "        item (any): El valor que se desea encontrar.\n",
    "\n",
    "    Returns:\n",
    "        int: El índice del ítem en la lista.\n",
    "             Retorna -1 si el ítem no se encuentra.\n",
    "    \"\"\"\n",
    "    low = 0\n",
    "    high = len(sorted_list) - 1\n",
    "    while low <= high:\n",
    "        mid = (low + high) // 2\n",
    "        guess = sorted_list[mid]\n",
    "        if guess == item:\n",
    "            return mid\n",
    "        if guess > item:\n",
    "            high = mid - 1\n",
    "        else:\n",
    "            low = mid + 1\n",
    "    return -1"
   ]
  },
  {
   "cell_type": "markdown",
   "id": "51f568aa",
   "metadata": {},
   "source": [
    "A continuación vamos a realizar una prueba sencilla."
   ]
  },
  {
   "cell_type": "code",
   "execution_count": 7,
   "id": "9c967ba3",
   "metadata": {},
   "outputs": [
    {
     "name": "stdout",
     "output_type": "stream",
     "text": [
      "3\n",
      "-1\n"
     ]
    }
   ],
   "source": [
    "L = [1, 2, 3, 4, 5, 6, 7, 8, 9]\n",
    "print(binary_search(L, 4))  # Salida: 3\n",
    "print(binary_search(L, 10)) # Salida: -1"
   ]
  },
  {
   "cell_type": "markdown",
   "id": "61074594",
   "metadata": {},
   "source": [
    "## Medicion del desempeño"
   ]
  },
  {
   "cell_type": "markdown",
   "id": "a7cfa0ed",
   "metadata": {},
   "source": [
    "### 1. Peparar los datos\n",
    "Se emplea un $N$ grande y un escenario de \"peor caso\".\n",
    "* $N = 1000000$\n",
    "* $item = -1$ (Valor que no esta)"
   ]
  },
  {
   "cell_type": "code",
   "execution_count": 8,
   "id": "d3e73f15",
   "metadata": {},
   "outputs": [],
   "source": [
    "# N = 1 millón de elementos\n",
    "N = 1_000_000 \n",
    "\n",
    "# 'data' es una lista ordenada de 0 a 999,999\n",
    "data = list(range(N))\n",
    "\n",
    "# El objetivo es -1 (sabemos que no está en la lista)\n",
    "target = -1"
   ]
  },
  {
   "cell_type": "markdown",
   "id": "d2454992",
   "metadata": {},
   "source": [
    "### Ejecutar el Test de Rendimiento\n",
    "\n",
    "Use `%timeit` en celdas separadas para medir cada algoritmo."
   ]
  },
  {
   "cell_type": "code",
   "execution_count": 10,
   "id": "213cbec6",
   "metadata": {},
   "outputs": [
    {
     "name": "stdout",
     "output_type": "stream",
     "text": [
      "97.9 ms ± 15 ms per loop (mean ± std. dev. of 7 runs, 10 loops each)\n"
     ]
    }
   ],
   "source": [
    "# Mide el tiempo de linear_search\n",
    "%timeit linear_search(data, target)"
   ]
  },
  {
   "cell_type": "code",
   "execution_count": 11,
   "id": "7615f3f8",
   "metadata": {},
   "outputs": [
    {
     "name": "stdout",
     "output_type": "stream",
     "text": [
      "5.63 μs ± 737 ns per loop (mean ± std. dev. of 7 runs, 100,000 loops each)\n"
     ]
    }
   ],
   "source": [
    "# Mide el tiempo de binary_search\n",
    "%timeit binary_search(data, target)"
   ]
  },
  {
   "cell_type": "markdown",
   "id": "f2ab5906",
   "metadata": {},
   "source": [
    "### Analisis de resultados\n",
    "\n",
    "Para N = 1000000:\n",
    "* **Lineal**: 97.9ms\n",
    "* **Binaria**: 5.63us\n",
    "* **Comparacion**:\n",
    "  \n",
    "  $$\n",
    "  \\frac{T_L}{T_B} = \\frac{97.9m}{5.63} = 1702381.88\n",
    "  $$\n"
   ]
  },
  {
   "cell_type": "markdown",
   "id": "6b90b2e2",
   "metadata": {},
   "source": [
    "**La Prueba de Duplicación**: Repitamos el procedimiento duplicando la cantidad de datos."
   ]
  },
  {
   "cell_type": "code",
   "execution_count": 13,
   "id": "9e23f0b4",
   "metadata": {},
   "outputs": [],
   "source": [
    "# N = 2 millón de elementos\n",
    "N = 2_000_000 \n",
    "\n",
    "# 'data' es una lista ordenada de 0 a 1,999,999\n",
    "data = list(range(N))\n",
    "\n",
    "# El objetivo es -1 (sabemos que no está en la lista)\n",
    "target = -1"
   ]
  },
  {
   "cell_type": "code",
   "execution_count": 18,
   "id": "439cb53c",
   "metadata": {},
   "outputs": [
    {
     "name": "stdout",
     "output_type": "stream",
     "text": [
      "155 ms ± 28.4 ms per loop (mean ± std. dev. of 7 runs, 1 loop each)\n"
     ]
    }
   ],
   "source": [
    "# Mide el tiempo de linear_search\n",
    "%timeit linear_search(data, target)"
   ]
  },
  {
   "cell_type": "code",
   "execution_count": 19,
   "id": "92653a4e",
   "metadata": {},
   "outputs": [
    {
     "name": "stdout",
     "output_type": "stream",
     "text": [
      "4.65 μs ± 482 ns per loop (mean ± std. dev. of 7 runs, 100,000 loops each)\n"
     ]
    }
   ],
   "source": [
    "# Mide el tiempo de binary_search\n",
    "%timeit binary_search(data, target)"
   ]
  },
  {
   "cell_type": "markdown",
   "id": "43aef7b6",
   "metadata": {},
   "source": [
    "Para N = 2000000 tenemos los siguientes tiempos:\n",
    "* **Lineal**: 155ms\n",
    "* **Binaria**: 4.55us"
   ]
  },
  {
   "cell_type": "markdown",
   "id": "df2e0e2a",
   "metadata": {},
   "source": [
    "## Prueba de duplicación para varios valores"
   ]
  },
  {
   "cell_type": "code",
   "execution_count": null,
   "id": "28d3e09b",
   "metadata": {},
   "outputs": [],
   "source": [
    "import time\n",
    "import math\n",
    "\n",
    "### Clase Stopwatch\n",
    "class Stopwatch:\n",
    "    \"\"\"Mide el tiempo transcurrido usando el reloj monotónico de alta precisión.\"\"\"\n",
    "    def __init__(self):\n",
    "        # Usar perf_counter() para rendimiento\n",
    "        self._startTime = time.perf_counter()\n",
    "\n",
    "    def elapsedTime(self):\n",
    "        \"\"\"Retorna el tiempo transcurrido en segundos.\"\"\"\n",
    "        return time.perf_counter() - self._startTime"
   ]
  },
  {
   "cell_type": "code",
   "execution_count": 22,
   "id": "d19497c6",
   "metadata": {},
   "outputs": [],
   "source": [
    "# --- Script Principal del Test ---\n",
    "\n",
    "def run_doubling_test(algorithm_to_test, start_N=1000, max_N=100_000_000):\n",
    "    \"\"\"\n",
    "    Ejecuta el test de duplicación para un algoritmo de búsqueda dado.\n",
    "    \"\"\"\n",
    "    print(f\"--- Iniciando Prueba de Duplicación para: {algorithm_to_test.__name__} ---\")\n",
    "    print(f\"{'N':>12s} | {'Tiempo (s)':>15s} | {'Ratio':>10s}\")\n",
    "    print(\"-\" * 41)\n",
    "    \n",
    "    N = start_N\n",
    "    tiempo_previo = 0.0\n",
    "\n",
    "    while N <= max_N:\n",
    "        \n",
    "        # 1. Preparar los datos (lista ordenada de 0 a N-1)\n",
    "        # Se genera CADA vez para medir la creación si es relevante\n",
    "        # o para evitar problemas de caché.\n",
    "        datos = list(range(N))\n",
    "        \n",
    "        # 2. Definir el PEOR CASO (ítem que no existe)\n",
    "        objetivo_peor_caso = -1 \n",
    "        \n",
    "        # 3. Medir el tiempo de ejecución\n",
    "        watch = Stopwatch()\n",
    "        \n",
    "        # ¡Ejecutamos el algoritmo!\n",
    "        algorithm_to_test(datos, objetivo_peor_caso)\n",
    "        \n",
    "        tiempo_actual = watch.elapsedTime()\n",
    "        \n",
    "        # 4. Calcular el Ratio (si es posible)\n",
    "        ratio_str = \"N/A\"\n",
    "        # Solo calculamos el ratio si el tiempo previo es medible (no es ruido)\n",
    "        if tiempo_previo > 0.000001: \n",
    "            ratio = tiempo_actual / tiempo_previo\n",
    "            ratio_str = f\"{ratio:10.2f}\"\n",
    "        \n",
    "        # 5. Imprimir la tabla\n",
    "        print(f\"{N:12d} | {tiempo_actual:15.6f} | {ratio_str}\")\n",
    "        \n",
    "        # 6. Duplicar N para la siguiente iteración\n",
    "        N = N * 2\n",
    "        tiempo_previo = tiempo_actual\n",
    "        \n",
    "        # Si el tiempo es demasiado largo, parar (seguro para O(N^2) o O(N^3))\n",
    "        if tiempo_actual > 10.0: # 10 segundos\n",
    "            print(\"El tiempo de ejecución es demasiado largo, deteniendo prueba.\")\n",
    "            break"
   ]
  },
  {
   "cell_type": "code",
   "execution_count": 23,
   "id": "1937ef41",
   "metadata": {},
   "outputs": [
    {
     "name": "stdout",
     "output_type": "stream",
     "text": [
      "--- Iniciando Prueba de Duplicación para: linear_search ---\n",
      "           N |      Tiempo (s) |      Ratio\n",
      "-----------------------------------------\n",
      "      100000 |        0.018146 | N/A\n",
      "      200000 |        0.039432 |       2.17\n",
      "      400000 |        0.049308 |       1.25\n",
      "      800000 |        0.086888 |       1.76\n",
      "     1600000 |        0.185581 |       2.14\n",
      "     3200000 |        0.272488 |       1.47\n",
      "     6400000 |        0.619268 |       2.27\n",
      "    12800000 |        1.163509 |       1.88\n",
      "    25600000 |        2.787359 |       2.40\n",
      "    51200000 |        5.007819 |       1.80\n"
     ]
    }
   ],
   "source": [
    "# Prueba 1: Linear Search (O(N))\n",
    "run_doubling_test(linear_search, start_N=100_000, max_N=100_000_000)"
   ]
  },
  {
   "cell_type": "code",
   "execution_count": 26,
   "id": "af1bcc50",
   "metadata": {},
   "outputs": [
    {
     "name": "stdout",
     "output_type": "stream",
     "text": [
      "--- Iniciando Prueba de Duplicación para: binary_search ---\n",
      "           N |      Tiempo (s) |      Ratio\n",
      "-----------------------------------------\n",
      "      100000 |        0.000021 | N/A\n",
      "      200000 |        0.000023 |       1.13\n",
      "      400000 |        0.000026 |       1.09\n",
      "      800000 |        0.000023 |       0.90\n",
      "     1600000 |        0.000026 |       1.12\n",
      "     3200000 |        0.000027 |       1.03\n",
      "     6400000 |        0.000023 |       0.86\n",
      "    12800000 |        0.000020 |       0.88\n",
      "    25600000 |        0.000029 |       1.45\n",
      "    51200000 |        0.000022 |       0.76\n"
     ]
    }
   ],
   "source": [
    "# Prueba 2: Binary Search (O(log N))\n",
    "# (¡Necesitamos Ns mucho más grandes para esta!)\n",
    "run_doubling_test(binary_search, start_N=100_000, max_N=100_000_000)"
   ]
  },
  {
   "cell_type": "markdown",
   "id": "ec1a89c4",
   "metadata": {},
   "source": [
    "## Refererencias\n",
    "\n",
    "1. https://algs4.cs.princeton.edu/14analysis/\n",
    "2. https://introcs.cs.princeton.edu/python/23recursion/\n",
    "3. https://www.cs.princeton.edu/courses/archive/spring21/cos226/lectures/study/14AnalysisOfAlgorithms.html"
   ]
  }
 ],
 "metadata": {
  "kernelspec": {
   "display_name": "base",
   "language": "python",
   "name": "python3"
  },
  "language_info": {
   "codemirror_mode": {
    "name": "ipython",
    "version": 3
   },
   "file_extension": ".py",
   "mimetype": "text/x-python",
   "name": "python",
   "nbconvert_exporter": "python",
   "pygments_lexer": "ipython3",
   "version": "3.12.7"
  }
 },
 "nbformat": 4,
 "nbformat_minor": 5
}
