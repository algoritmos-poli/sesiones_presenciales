{
 "cells": [
  {
   "cell_type": "markdown",
   "id": "2dd8c22a",
   "metadata": {},
   "source": [
    "# Recursividad en Python"
   ]
  },
  {
   "cell_type": "markdown",
   "id": "c56ba902",
   "metadata": {},
   "source": [
    "## Conceptos teóricos clave"
   ]
  },
  {
   "cell_type": "markdown",
   "id": "5ef05604",
   "metadata": {},
   "source": [
    "\n",
    "### 1. Definición de Recursividad\n",
    "\n",
    "La recursividad es una técnica de programación donde una función se llama a sí misma para resolver un problema. La idea central es dividir un problema complejo en subproblemas más pequeños y manejables, que son versiones a menor escala del problema original. \n",
    "\n",
    "Toda función recursiva debe tener dos componentes cruciales:\n",
    "\n",
    "1.  **Caso Base:** La condición que detiene la recursión. Es la versión más simple posible del problema, que puede resolverse directamente sin más llamadas recursivas.\n",
    "2.  **Caso Recursivo:** La parte de la función que se llama a sí misma, pero con una entrada que la acerca progresivamente al caso base.\n",
    "\n",
    "El patrón general empleado para una función recursiva se muestra a continuación:\n",
    "\n",
    "```python\n",
    "def funcion_recursiva(parametro):\n",
    "    if condicion_base:\n",
    "        return resultado_base\n",
    "    else:\n",
    "        return funcion_recursiva(parametro_reducido)\n",
    "```\n",
    "\n",
    "### 2. Visualización del Proceso: La Pila de Llamadas (Call Stack)\n",
    "\n",
    "Supongamos que deseamos calcular el factorial de un numero como el cual se define como la multiplicación de todos los números enteros desde 1 hasta $n$: \n",
    "\n",
    "$$n! = \\prod_{k=1}^{n} k = n \\cdot (n-1) \\cdot (n-2) \\cdots 2 \\cdot 1$$\n",
    "\n",
    "Teniendo en cuenta que $0!=1$, tenemos que el factorial puede estar dado por la siguiente función:\n",
    "\n",
    "$$n! = \\begin{cases} 1 & \\text{si } n = 0 \\\\ n \\cdot (n-1)! & \\text{si } n > 0 \\end{cases}$$\n",
    "\n",
    "Si empleamos el patrón general para la función factorial llegamos al siguiente fragmento de código:"
   ]
  },
  {
   "cell_type": "code",
   "execution_count": 2,
   "id": "a843084f",
   "metadata": {},
   "outputs": [],
   "source": [
    "# Return the factorial for the specified number\n",
    "def factorial(n):\n",
    "  if n == 0: # Base case\n",
    "    return 1\n",
    "  else:\n",
    "    return n * factorial(n - 1) # Recursive call"
   ]
  },
  {
   "cell_type": "markdown",
   "id": "7925e652",
   "metadata": {},
   "source": [
    "Supongamos que deseamos obtener el factorial de un numero cualquiera, para ello invocamos la función `factorial` tal y como se muestra continuación:"
   ]
  },
  {
   "cell_type": "code",
   "execution_count": 3,
   "id": "b3c91213",
   "metadata": {},
   "outputs": [
    {
     "name": "stdout",
     "output_type": "stream",
     "text": [
      "The factorial of 5 is 120\n"
     ]
    }
   ],
   "source": [
    "n = eval(input(\"Enter a number to compute its factorial: \"))\n",
    "result = factorial(n)\n",
    "print(f\"The factorial of {n} is {result}\")"
   ]
  },
  {
   "cell_type": "markdown",
   "id": "4bb36b58",
   "metadata": {},
   "source": [
    "Por ejemplo, la siguiente imagen muestra la traza de ejecución (o **trace**) de la función recursiva que calcula el factorial de 4:\n",
    "\n",
    "<p style=\"text-align:center;\">\n",
    "  <img src=\"./images/factorial_call_stack1.png\" alt=\"call stack\">\n",
    "</p>\n",
    "\n",
    "Cuando una función recursiva como esta es llamada, Python crea un \"marco\" (frame) en la Pila de Llamadas que contiene sus variables locales y el punto de retorno. En la recursión, se apilan múltiples marcos, uno por cada llamada. El proceso funciona como una pila de platos: el último en entrar es el primero en salir (LIFO) tal y como se muestra en la siguiente figura:\n",
    "\n",
    "<p style=\"text-align:center;\">\n",
    "  <img src=\"./images/factorial_call_stack2.png\" alt=\"call stack\">\n",
    "</p>\n",
    "\n",
    "En el siguiente [enlace](https://pythontutor.com/render.html#code=%23%20Return%20the%20factorial%20for%20the%20specified%20number%0Adef%20factorial%28n%29%3A%0A%20%20if%20n%20%3D%3D%200%3A%20%23%20Base%20case%0A%20%20%20%20return%201%0A%20%20else%3A%0A%20%20%20%20return%20n%20*%20factorial%28n%20-%201%29%20%23%20Recursive%20call%0A%20%20%20%20%0An%20%3D%20eval%28input%28%22Enter%20a%20number%20to%20compute%20its%20factorial%3A%20%22%29%29%0Aresult%20%3D%20factorial%28n%29%0Aprint%28f%22The%20factorial%20of%20%7Bn%7D%20is%20%7Bresult%7D%22%29&cumulative=false&curInstr=0&heapPrimitives=nevernest&mode=display&origin=opt-frontend.js&py=3&rawInputLstJSON=%5B%5D&textReferences=false) se encuentra la simulación para entender el concepto."
   ]
  },
  {
   "cell_type": "markdown",
   "id": "05ca1885",
   "metadata": {},
   "source": [
    "### 3. Ventajas y Desventajas de la Recursión\n",
    "\n",
    "A continuación, se muestran las ventajas y desventajas de la recursividad:\n",
    "\n",
    "**Ventajas:**\n",
    "* **Elegancia y Legibilidad:** El código suele ser más limpio y cercano a la definición matemática del problema.\n",
    "* **Manejo de Estructuras Recursivas:** Ideal para trabajar con estructuras de datos como árboles y grafos.\n",
    "\n",
    "**Desventajas:**\n",
    "* **Consumo de Memoria:** Cada llamada recursiva consume memoria en la pila. Un número muy alto de llamadas puede causar un `RecursionError` (desbordamiento de pila o *stack overflow*).\n",
    "* **Ineficiencia:** Puede ser más lenta que su contraparte iterativa debido a la sobrecarga de las llamadas a funciones. A veces, recalcula los mismos valores múltiples veces (como sucede en casos como el calculo de un numero Fibonacci)."
   ]
  },
  {
   "cell_type": "markdown",
   "id": "a8ad8c7e",
   "metadata": {},
   "source": [
    "### 4. Comparación con Soluciones Iterativas\n",
    "\n",
    "Toda función recursiva puede ser reescrita de forma iterativa usando bucles (`for`, `while`).\n",
    "\n",
    "| Característica | Recursión | Iteración |\n",
    "|---|---|---|\n",
    "| **Lógica** | Se basa en un caso base y un caso recursivo | Usa bucles y contadores |\n",
    "| **Estado** | Gestionado implícitamente en la pila de llamadas | Gestionado explícitamente con variables |\n",
    "| **Memoria** | Puede ser alta (riesgo de *stack overflow*) | Constante y controlada |\n",
    "| **Complejidad**| A veces más simple de escribir y leer | Puede requerir lógica más compleja para el estado|"
   ]
  },
  {
   "cell_type": "markdown",
   "id": "af995ca2",
   "metadata": {},
   "source": [
    "## Ejemplos ilustrativos\n",
    "\n",
    "A continuación se muestran algunos ejemplos de funciones recursivas"
   ]
  },
  {
   "cell_type": "markdown",
   "id": "4ad81a72",
   "metadata": {},
   "source": [
    "### Ejemplo 1: Cuenta Regresiva\n",
    "\n",
    "Este es uno de los ejemplos más sencillos. Simplemente queremos imprimir números desde `n` hasta `0`.\n",
    "\n",
    "* **Problema:** Contar hacia atrás desde `n`.\n",
    "* **Analisis**:\n",
    "  * **Caso Base:** Si `n` es menor que 0, nos detenemos.\n",
    "  * **Caso Recursivo:** Imprimir el número actual `n`, y luego llamar a la misma función con `n-1`.\n",
    "\n",
    "> **Simulación**: <br>\n",
    "> La simulación se puede realizar siguiendo el siguiente [link](https://pythontutor.com/render.html#code=%23%20Base%20Case%3A%20the%20stopping%20condition.%0Adef%20countdown%28n%29%3A%0A%20%20%20%20if%20n%20%3C%200%3A%0A%20%20%20%20%20%20%20%20return%0A%20%20%20%20%0A%20%20%20%20%23%20Task%20for%20the%20current%20call.%0A%20%20%20%20print%28n%29%0A%20%20%20%20%0A%20%20%20%20%23%20Recursive%20Case%3A%20the%20function%20calls%20itself%20with%20a%20smaller%20problem.%0A%20%20%20%20countdown%28n%20-%201%29%0A%0A%23%20Let's%20test%20the%20function%0Acountdown%285%29&cumulative=false&curInstr=0&heapPrimitives=nevernest&mode=display&origin=opt-frontend.js&py=3&rawInputLstJSON=%5B%5D&textReferences=false)"
   ]
  },
  {
   "cell_type": "code",
   "execution_count": 4,
   "id": "d7c97676",
   "metadata": {},
   "outputs": [
    {
     "name": "stdout",
     "output_type": "stream",
     "text": [
      "5\n",
      "4\n",
      "3\n",
      "2\n",
      "1\n",
      "0\n"
     ]
    }
   ],
   "source": [
    "# Base Case: the stopping condition.\n",
    "def countdown(n):\n",
    "    if n < 0:\n",
    "        return\n",
    "    \n",
    "    # Task for the current call.\n",
    "    print(n)\n",
    "    \n",
    "    # Recursive Case: the function calls itself with a smaller problem.\n",
    "    countdown(n - 1)\n",
    "\n",
    "# Let's test the function\n",
    "countdown(5)"
   ]
  },
  {
   "cell_type": "markdown",
   "id": "09e453ab",
   "metadata": {},
   "source": [
    "### Ejemplo 2: El Factorial de un Número\n",
    "\n",
    "El factorial de un número `n` (escrito como `n!`) es el producto de todos los enteros positivos desde 1 hasta `n`. Por ejemplo, `4! = 4 * 3 * 2 * 1 = 24`.\n",
    "\n",
    "* **Problema:** Calcular $n!$.\n",
    "* **Analisis**:\n",
    "  * **Caso Base:** El factorial de 0 es 1. `0! = 1`. Aquí nos detenemos.\n",
    "  * **Caso Recursivo:** El factorial de `n` es `n` multiplicado por el factorial de `n-1`. Es decir, `n! = n * (n-1)!`.\n",
    "\n",
    "\n",
    "> **Simulación**: <br>\n",
    "> La simulación se puede realizar siguiendo el siguiente [link](https://pythontutor.com/render.html#code=def%20factorial%28n%29%3A%0A%20%20%20%20%23%20Base%20Case%0A%20%20%20%20if%20n%20%3D%3D%200%3A%0A%20%20%20%20%20%20%20%20return%201%0A%20%20%20%20%23%20Recursive%20Case%0A%20%20%20%20else%3A%0A%20%20%20%20%20%20%20%20return%20n%20*%20factorial%28n%20-%201%29%0A%0A%23%20Let's%20test%20the%20function%0Aresult%20%3D%20factorial%284%29%0Aprint%28f%22The%20factorial%20of%204%20is%3A%20%7Bresult%7D%22%29&cumulative=false&curInstr=0&heapPrimitives=nevernest&mode=display&origin=opt-frontend.js&py=3&rawInputLstJSON=%5B%5D&textReferences=false)"
   ]
  },
  {
   "cell_type": "code",
   "execution_count": 6,
   "id": "29dfb432",
   "metadata": {},
   "outputs": [
    {
     "name": "stdout",
     "output_type": "stream",
     "text": [
      "The factorial of 4 is: 24\n"
     ]
    }
   ],
   "source": [
    "def factorial(n):\n",
    "    # Base Case\n",
    "    if n == 0:\n",
    "        return 1\n",
    "    # Recursive Case\n",
    "    else:\n",
    "        return n * factorial(n - 1)\n",
    "\n",
    "# Let's test the function\n",
    "result = factorial(4)\n",
    "print(f\"The factorial of 4 is: {result}\")"
   ]
  },
  {
   "cell_type": "markdown",
   "id": "207028d6",
   "metadata": {},
   "source": [
    "### Ejemplo 3: Serie de Fibonacci\n",
    "\n",
    "La sucesión de Fibonacci es una secuencia infinita de números naturales, donde cada número es la suma de los dos anteriores, empezando por 0 y 1. Esto es: $F_n = F_{n-1} + F_{n-2}$, tal que $F_{0} = 0$ y $F_{1} = 0$. Lo cual expresado como una función por tramos puede verse de la siguiente manera:\n",
    "\n",
    "$$\n",
    "F_n = \\begin{cases} 0 & \\text{si } n = 0 \\\\ 1 & \\text{si } n = 1 \\\\ F_{n-1} + F_{n-2} & \\text{si } n > 1 \\end{cases}\n",
    "$$\n",
    "\n",
    "* **Problema:** Calcular $F_n$.\n",
    "* **Analisis**:\n",
    "  * **Caso Base:** `fib(0) = 0` y `fib(1) = 0`.\n",
    "  * **Caso Recursivo:** El termino `fib(index) = fib(index - 1) + fib(index - 2)`.\n",
    "\n",
    "\n",
    "> **Simulación**: <br>\n",
    "> La simulación se puede realizar siguiendo el siguiente [link](https://pythontutor.com/render.html#code=%23%20The%20function%20for%20finding%20the%20Fibonacci%20number%0Adef%20fib%28index%29%3A%0A%20%20if%20index%20%3D%3D%200%3A%20%23%20Base%20case%0A%20%20%20%20return%200%0A%20%20elif%20index%20%3D%3D%201%3A%20%23%20Base%20case%0A%20%20%20%20return%201%0A%20%20else%3A%20%23%20Reduction%20and%20recursive%20calls%0A%20%20%20%20return%20fib%28index%20-%201%29%20%2B%20fib%28index%20-%202%29%0A%0A%23%20Let's%20test%20the%20function%0An%20%3D%206%0Aresult%20%3D%20fib%28n%29%0Aprint%28f%22The%20Fibonacci%20number%20at%20index%20%7Bn%7D%20is%3A%20%7Bresult%7D%22%29&cumulative=false&curInstr=0&heapPrimitives=nevernest&mode=display&origin=opt-frontend.js&py=3&rawInputLstJSON=%5B%5D&textReferences=false)"
   ]
  },
  {
   "cell_type": "code",
   "execution_count": 9,
   "id": "f4d176fd",
   "metadata": {},
   "outputs": [
    {
     "name": "stdout",
     "output_type": "stream",
     "text": [
      "The Fibonacci number at index 4 is: 3\n"
     ]
    }
   ],
   "source": [
    "# The function for finding the Fibonacci number\n",
    "def fib(index):\n",
    "  if index == 0: # Base case\n",
    "    return 0\n",
    "  elif index == 1: # Base case\n",
    "    return 1\n",
    "  else: # Reduction and recursive calls\n",
    "    return fib(index - 1) + fib(index - 2)\n",
    "\n",
    "# Let's test the function\n",
    "n = 4\n",
    "result = fib(n)\n",
    "print(f\"The Fibonacci number at index {n} is: {result}\")"
   ]
  },
  {
   "cell_type": "markdown",
   "id": "1ee3d3dd",
   "metadata": {},
   "source": [
    "El siguiente diagrama de arbol muestra la traza de ejecución recursiva para calcular `fib(4)` (el cuarto número de Fibonacci):\n",
    "\n",
    "<p style=\"text-align:center;\">\n",
    "  <img src=\"./images/fib_call_stack3.png\" alt=\"call stack fibonacci\">\n",
    "</p>\n",
    "\n",
    "Note como en la figura anterior `fib(2)` se calcula dos veces (una vez en el Paso 2 y otra en el Paso 11). `fib(1)` se calcula tres veces, y `fib(0)` dos veces. Esta repetición de cálculos (llamada redundancia computacional) es lo que hace que esta implementación recursiva de Fibonacci sea muy lenta para números grandes tal y como se ilustra en la siguiente tabla:\n",
    "\n",
    "|n|Numero de llamadas recursivas|\n",
    "|---|---|\n",
    "|2|5|\n",
    "|3|9|\n",
    "|4|177|\n",
    "|10|21891|\n",
    "|20|2692537|\n",
    "|30|331160281|\n",
    "|40|2075316483|\n",
    "\n",
    "Por lo tanto, una implementación mas eficiente puede hacerse por medio del uso de ciclos."
   ]
  },
  {
   "cell_type": "markdown",
   "id": "c3fca82f",
   "metadata": {},
   "source": [
    "### Ejemplo 4: Suma recursiva de una lista\n",
    "\n",
    "\n",
    "¿Cómo podríamos sumar todos los números de una lista usando recursividad?\n",
    "\n",
    "* **Problema:** Sumar los elementos de `lista`.\n",
    "* **Caso Base:** Si la lista está vacía, la suma es 0.\n",
    "* **Caso Recursivo:** La suma de la lista es el **primer elemento** más la **suma del resto de la lista**.\n",
    "\n",
    "> **Simulación**: <br>\n",
    "> La simulación se puede realizar siguiendo el siguiente [link](https://pythontutor.com/render.html#code=def%20sum_list%28a_list%29%3A%0A%20%20%20%20%23%20Base%20Case%0A%20%20%20%20if%20not%20a_list%3A%20%20%23%20This%20is%20True%20if%20the%20list%20is%20empty%0A%20%20%20%20%20%20%20%20return%200%0A%20%20%20%20%23%20Recursive%20Case%0A%20%20%20%20else%3A%0A%20%20%20%20%20%20%20%20%23%20The%20first%20element%20%2B%20the%20sum%20of%20the%20rest%20of%20the%20list%0A%20%20%20%20%20%20%20%20%23%20a_list%5B1%3A%5D%20creates%20a%20new%20list%20with%20all%20elements%20except%20the%20first%20one%0A%20%20%20%20%20%20%20%20return%20a_list%5B0%5D%20%2B%20sum_list%28a_list%5B1%3A%5D%29%0A%0A%23%20Let's%20test%20the%20function%0Amy_list%20%3D%20%5B1,%202,%203,%204,%205%5D%0Atotal_sum%20%3D%20sum_list%28my_list%29%0Aprint%28f%22The%20sum%20of%20the%20elements%20in%20the%20list%20is%3A%20%7Btotal_sum%7D%22%29&cumulative=false&curInstr=0&heapPrimitives=nevernest&mode=display&origin=opt-frontend.js&py=3&rawInputLstJSON=%5B%5D&textReferences=false)"
   ]
  },
  {
   "cell_type": "code",
   "execution_count": 10,
   "id": "914e0350",
   "metadata": {},
   "outputs": [
    {
     "name": "stdout",
     "output_type": "stream",
     "text": [
      "The sum of the elements in the list is: 15\n"
     ]
    }
   ],
   "source": [
    "def sum_list(a_list):\n",
    "    # Base Case\n",
    "    if not a_list:  # This is True if the list is empty\n",
    "        return 0\n",
    "    # Recursive Case\n",
    "    else:\n",
    "        # The first element + the sum of the rest of the list\n",
    "        # a_list[1:] creates a new list with all elements except the first one\n",
    "        return a_list[0] + sum_list(a_list[1:])\n",
    "\n",
    "# Let's test the function\n",
    "my_list = [1, 2, 3, 4, 5]\n",
    "total_sum = sum_list(my_list)\n",
    "print(f\"The sum of the elements in the list is: {total_sum}\")"
   ]
  },
  {
   "cell_type": "markdown",
   "id": "1f4155aa",
   "metadata": {},
   "source": [
    "## Algunos casos de aplicacion"
   ]
  },
  {
   "cell_type": "markdown",
   "id": "db38f8a3",
   "metadata": {},
   "source": [
    "### Recorrido Recursivo de un Árbol Binario\n",
    "\n",
    "La recursividad es la forma más natural de recorrer árboles. Definamos una clase `Nodo` simple y los tres recorridos principales.\n",
    "\n",
    "> **Simulación**: <br>\n",
    "> La simulación se puede realizar siguiendo el siguiente [link](https://pythontutor.com/render.html#code=class%20Node%3A%0A%20%20%20%20def%20__init__%28self,%20value%29%3A%0A%20%20%20%20%20%20%20%20self.value%20%3D%20value%0A%20%20%20%20%20%20%20%20self.left%20%3D%20None%0A%20%20%20%20%20%20%20%20self.right%20%3D%20None%0A%0Adef%20preorder_traversal%28node%29%3A%0A%20%20%20%20if%20node%3A%0A%20%20%20%20%20%20%20%20print%28node.value,%20end%3D'%20'%29%0A%20%20%20%20%20%20%20%20preorder_traversal%28node.left%29%0A%20%20%20%20%20%20%20%20preorder_traversal%28node.right%29%0A%0Adef%20inorder_traversal%28node%29%3A%0A%20%20%20%20if%20node%3A%0A%20%20%20%20%20%20%20%20inorder_traversal%28node.left%29%0A%20%20%20%20%20%20%20%20print%28node.value,%20end%3D'%20'%29%0A%20%20%20%20%20%20%20%20inorder_traversal%28node.right%29%0A%0Adef%20postorder_traversal%28node%29%3A%0A%20%20%20%20if%20node%3A%0A%20%20%20%20%20%20%20%20postorder_traversal%28node.left%29%0A%20%20%20%20%20%20%20%20postorder_traversal%28node.right%29%0A%20%20%20%20%20%20%20%20print%28node.value,%20end%3D'%20'%29%0A%0A%23%20Creating%20an%20example%20tree%0Aroot%20%3D%20Node%281%29%0Aroot.left%20%3D%20Node%282%29%0Aroot.right%20%3D%20Node%283%29%0Aroot.left.left%20%3D%20Node%284%29%0Aroot.left.right%20%3D%20Node%285%29%0A%0Aprint%28%22Pre-order%20Traversal%20%28Root,%20Left,%20Right%29%3A%22%29%0Apreorder_traversal%28root%29%0Aprint%28%22%5Cn%22%29%0A%0Aprint%28%22In-order%20Traversal%20%28Left,%20Root,%20Right%29%3A%22%29%0Ainorder_traversal%28root%29%0Aprint%28%22%5Cn%22%29%0A%0Aprint%28%22Post-order%20Traversal%20%28Left,%20Right,%20Root%29%3A%22%29%0Apostorder_traversal%28root%29&cumulative=false&curInstr=0&heapPrimitives=nevernest&mode=display&origin=opt-frontend.js&py=3&rawInputLstJSON=%5B%5D&textReferences=false)"
   ]
  },
  {
   "cell_type": "code",
   "execution_count": 13,
   "id": "d14fb7f9",
   "metadata": {},
   "outputs": [],
   "source": [
    "class Node:\n",
    "    def __init__(self, value):\n",
    "        self.value = value\n",
    "        self.left = None\n",
    "        self.right = None\n",
    "\n",
    "def preorder_traversal(node):\n",
    "    if node:\n",
    "        print(node.value, end=' ')\n",
    "        preorder_traversal(node.left)\n",
    "        preorder_traversal(node.right)\n",
    "\n",
    "def inorder_traversal(node):\n",
    "    if node:\n",
    "        inorder_traversal(node.left)\n",
    "        print(node.value, end=' ')\n",
    "        inorder_traversal(node.right)\n",
    "\n",
    "def postorder_traversal(node):\n",
    "    if node:\n",
    "        postorder_traversal(node.left)\n",
    "        postorder_traversal(node.right)\n",
    "        print(node.value, end=' ')\n",
    "\n",
    "# Creating an example tree\n",
    "root = Node(1)\n",
    "root.left = Node(2)\n",
    "root.right = Node(3)\n",
    "root.left.left = Node(4)\n",
    "root.left.right = Node(5)"
   ]
  },
  {
   "cell_type": "markdown",
   "id": "e82b3d6a",
   "metadata": {},
   "source": [
    "El codigo anterior, define un arbol como el que se muestra en la siguiente figura:\n",
    "\n",
    "<p style=\"text-align:center;\">\n",
    "  <img src=\"./images/arbol.png\" alt=\"arbol\">\n",
    "</p>\n",
    "\n",
    "A continuación se hace cada uno de los diferentes recorridos para este arbol:"
   ]
  },
  {
   "cell_type": "code",
   "execution_count": 14,
   "id": "6e71548f",
   "metadata": {},
   "outputs": [
    {
     "name": "stdout",
     "output_type": "stream",
     "text": [
      "Pre-order Traversal (Root, Left, Right):\n",
      "1 2 4 5 3 \n",
      "\n",
      "In-order Traversal (Left, Root, Right):\n",
      "4 2 5 1 3 \n",
      "\n",
      "Post-order Traversal (Left, Right, Root):\n",
      "4 5 2 3 1 "
     ]
    }
   ],
   "source": [
    "print(\"Pre-order Traversal (Root, Left, Right):\")\n",
    "preorder_traversal(root)\n",
    "print(\"\\n\")\n",
    "\n",
    "print(\"In-order Traversal (Left, Root, Right):\")\n",
    "inorder_traversal(root)\n",
    "print(\"\\n\")\n",
    "\n",
    "print(\"Post-order Traversal (Left, Right, Root):\")\n",
    "postorder_traversal(root)"
   ]
  },
  {
   "cell_type": "markdown",
   "id": "6c980a88",
   "metadata": {},
   "source": [
    "### Torres de Hanói\n",
    "\n",
    "Un puzzle clásico cuya solución es increíblemente elegante con recursividad. El objetivo es mover `n` discos de una varilla de origen a una de destino, usando una varilla auxiliar, sin poner nunca un disco grande sobre uno pequeño. En la siguiente figura se ilustra el procedimiento para mover tres discos de la **torre A** a la **torre B**\n",
    "\n",
    "<p style=\"text-align:center;\">\n",
    "  <img src=\"./images/torres_hanoi.png\" alt=\"torres de Hanoi\">\n",
    "</p>\n",
    "\n",
    "A continuación se muestra el codigo que implementa la solución:"
   ]
  },
  {
   "cell_type": "code",
   "execution_count": 15,
   "id": "4af4e8d9",
   "metadata": {},
   "outputs": [
    {
     "name": "stdout",
     "output_type": "stream",
     "text": [
      "The moves are:\n",
      "Move disk 1 from A to B\n",
      "Move disk 2 from A to C\n",
      "Move disk 1 from B to C\n",
      "Move disk 3 from A to B\n",
      "Move disk 1 from C to A\n",
      "Move disk 2 from C to B\n",
      "Move disk 1 from A to B\n"
     ]
    }
   ],
   "source": [
    "def main():\n",
    "    n = int(input(\"Enter number of disks: \"))\n",
    "\n",
    "    # Find the solution recursively\n",
    "    print(\"The moves are:\")\n",
    "    moveDisks(n, 'A', 'B', 'C')\n",
    "\n",
    "# The function for finding the solution to move n disks\n",
    "#   from fromTower to toTower with auxTower \n",
    "def moveDisks(n, fromTower, toTower, auxTower):\n",
    "    if n == 1: # Stopping condition\n",
    "        print(\"Move disk\", n, \"from\", fromTower, \"to\", toTower)\n",
    "    else: \n",
    "        moveDisks(n - 1, fromTower, auxTower, toTower)\n",
    "        print(\"Move disk\", n, \"from\", fromTower, \"to\", toTower)\n",
    "        moveDisks(n - 1, auxTower, toTower, fromTower)\n",
    "\n",
    "main() # Call the main function"
   ]
  },
  {
   "cell_type": "markdown",
   "id": "8addcc0e",
   "metadata": {},
   "source": [
    "## Ejercicios de refuerzo\n",
    "\n",
    "Complete el código en las siguientes celdas y verifica tus resultados con los `assert`."
   ]
  },
  {
   "cell_type": "markdown",
   "id": "37a0705d",
   "metadata": {},
   "source": [
    "### Ejercicio 1: Calcular la Potencia de un Número\n",
    "\n",
    "Complete la función `power(base, exponent)`."
   ]
  },
  {
   "cell_type": "code",
   "execution_count": null,
   "id": "2f1f14e1",
   "metadata": {},
   "outputs": [],
   "source": [
    "def power(base, exponent):\n",
    "    # YOUR CODE HERE\n",
    "    pass # Replace this line with your code\n",
    "\n",
    "# Verification\n",
    "assert power(2, 3) == 8\n",
    "assert power(5, 2) == 25\n",
    "assert power(10, 0) == 1\n",
    "print(\"Exercise 1 completed successfully!\")"
   ]
  },
  {
   "cell_type": "markdown",
   "id": "00abef3d",
   "metadata": {},
   "source": [
    "### Ejercicio 2: Invertir una Cadena\n",
    "\n",
    "Complete la función `reverse_string(s)`."
   ]
  },
  {
   "cell_type": "code",
   "execution_count": null,
   "id": "6e6f322b",
   "metadata": {},
   "outputs": [],
   "source": [
    "# YOUR CODE HERE\n",
    "def reverse_string(s):\n",
    "    # YOUR CODE HERE\n",
    "    pass # Replace this line with your code\n",
    "\n",
    "# Verification\n",
    "assert reverse_string(\"hola\") == \"aloh\"\n",
    "assert reverse_string(\"python\") == \"nohtyp\"\n",
    "assert reverse_string(\"a\") == \"a\"\n",
    "print(\"Exercise 2 completed successfully!\")"
   ]
  },
  {
   "cell_type": "markdown",
   "id": "e83698d4",
   "metadata": {},
   "source": [
    "### Ejercicio 3: Verificar si una Lista es Palíndroma\n",
    "\n",
    "Una lista es palíndroma si se lee igual de izquierda a derecha que de derecha a izquierda."
   ]
  },
  {
   "cell_type": "code",
   "execution_count": null,
   "id": "7e5dafa2",
   "metadata": {},
   "outputs": [],
   "source": [
    "# YOUR CODE HERE\n",
    "def reverse_string(s):\n",
    "    # YOUR CODE HERE\n",
    "    pass # Replace this line with your code\n",
    "\n",
    "# Verification\n",
    "assert reverse_string(\"hola\") == \"aloh\"\n",
    "assert reverse_string(\"python\") == \"nohtyp\"\n",
    "assert reverse_string(\"a\") == \"a\"\n",
    "print(\"Exercise 2 completed successfully!\")"
   ]
  },
  {
   "cell_type": "markdown",
   "id": "9c192d6e",
   "metadata": {},
   "source": [
    "### Ejercicio 4: Contar Ocurrencias en una Lista\n",
    "\n",
    "Escriba una función recursiva `count_element(a_list, element)` que cuente cuántas veces aparece `element` en `a_lista`."
   ]
  },
  {
   "cell_type": "code",
   "execution_count": null,
   "id": "fcfe596f",
   "metadata": {},
   "outputs": [],
   "source": [
    "# YOUR CODE HERE\n",
    "def count_element(a_list, element):\n",
    "    # YOUR CODE HERE\n",
    "    pass # Replace this line with your code\n",
    "\n",
    "# Verification\n",
    "my_list = [1, 2, 5, 2, 3, 2, 4]\n",
    "\n",
    "# The print statements are now 'assert' statements\n",
    "assert count_element(my_list, 2) == 3\n",
    "assert count_element(my_list, 5) == 1\n",
    "\n",
    "print(\"All tests passed successfully!\")"
   ]
  },
  {
   "cell_type": "markdown",
   "id": "ef0cc2ff",
   "metadata": {},
   "source": [
    "## Conclusión\n",
    "\n",
    "- La recursividad es una herramienta poderosa para problemas con **estructura repetitiva** o **jerárquica**.\n",
    "- Asegúrese siempre de tener un **caso base** y de **reducir el problema** en cada llamada.\n",
    "- Evalúe cuándo preferir una solución **iterativa** por eficiencia o restricciones de pila.\n",
    "\n",
    "> **Tarea sugerida:** <br>\n",
    "> Implemente y analice una versión recursiva e iterativa de `factorial` y compare tiempos con `timeit`."
   ]
  }
 ],
 "metadata": {
  "kernelspec": {
   "display_name": "base",
   "language": "python",
   "name": "python3"
  },
  "language_info": {
   "codemirror_mode": {
    "name": "ipython",
    "version": 3
   },
   "file_extension": ".py",
   "mimetype": "text/x-python",
   "name": "python",
   "nbconvert_exporter": "python",
   "pygments_lexer": "ipython3",
   "version": "3.12.7"
  }
 },
 "nbformat": 4,
 "nbformat_minor": 5
}
