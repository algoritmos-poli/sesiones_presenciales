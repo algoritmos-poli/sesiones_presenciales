{
 "cells": [
  {
   "cell_type": "markdown",
   "metadata": {},
   "source": [
    "[![Open In Colab](https://colab.research.google.com/assets/colab-badge.svg)](https://colab.research.google.com/github/algoritmos-poli/sesiones_presenciales/blob/main/clase8/csv-python.ipynb)   ![Built with AI](https://img.shields.io/badge/Built%20with-AI-blue.svg)"
   ]
  },
  {
   "cell_type": "markdown",
   "metadata": {},
   "source": [
    "# Manejo de Archivos CSV en Python"
   ]
  },
  {
   "cell_type": "markdown",
   "metadata": {},
   "source": [
    "## Tabla de Contenidos\n",
    "\n",
    "- [¿Qué es un Archivo CSV?](#qué-es-un-archivo-csv)\n",
    "- [Procesamiento de Archivos CSV en Python: El Módulo `csv`](#procesamiento-de-archivos-csv-en-python-el-módulo-csv)\n",
    "- [Principales Funciones de Python para Procesar Archivos CSV](#principales-funciones-de-python-para-procesar-archivos-csv)\n",
    "- [0. Preparación: Creación de un Archivo de Ejemplo](#0-preparación-creación-de-un-archivo-de-ejemplo)\n",
    "- [1. Lectura de Archivos CSV](#1-lectura-de-archivos-csv)\n",
    "- [2. Escritura en Archivos CSV](#2-escritura-en-archivos-csv)\n",
    "- [3. Ejercicios Prácticos](#3-ejercicios-prácticos)"
   ]
  },
  {
   "cell_type": "markdown",
   "metadata": {},
   "source": [
    "## ¿Qué es un Archivo CSV? \n",
    "\n",
    "Un archivo **CSV** (del inglés *Comma-Separated Values*, o Valores Separados por Comas) es un formato de texto plano utilizado para almacenar datos en forma de tabla. Su simplicidad y compatibilidad lo convierten en uno de los formatos más populares para el intercambio de datos entre diferentes aplicaciones, como hojas de cálculo (Excel, Google Sheets) y bases de datos.\n",
    "\n",
    "**Características principales:**\n",
    "\n",
    "* Cada línea del archivo representa una **fila** de la tabla.\n",
    "* Dentro de una fila, las columnas se separan por un **delimitador**, que comúnmente es una coma (`,`).\n",
    "* La primera fila suele contener los **encabezados** (nombres de las columnas).\n",
    "\n",
    "Aunque el nombre sugiere comas, se puede usar cualquier carácter como delimitador (punto y coma `;`, tabulador `\\t`, etc.), lo que hace que el formato sea muy flexible."
   ]
  },
  {
   "cell_type": "markdown",
   "metadata": {},
   "source": [
    "## Procesamiento de Archivos CSV en Python: El Módulo `csv`\n",
    "\n",
    "Para manipular archivos CSV de manera eficiente y segura en Python, se utiliza el módulo incorporado `csv`. Este módulo interpreta los datos del archivo, gestionando automáticamente los delimitadores y el entrecomillado de los campos, lo que simplifica enormemente la lectura y escritura.\n",
    "\n",
    "El flujo de trabajo estándar sigue estos pasos:\n",
    "\n",
    "1.  **Importar el módulo**: Siempre se comienza con `import csv`.\n",
    "2.  **Abrir el archivo**: Se utiliza la declaración `with open('nombre_archivo.csv', mode='...') as archivo:` para abrir el archivo.\n",
    "    * El uso de `with` garantiza que el archivo se cierre automáticamente al finalizar, incluso si ocurren errores.\n",
    "    * El `mode` puede ser `'r'` para leer, `'w'` para escribir (sobrescribiendo el contenido) o `'a'` para añadir al final.\n",
    "    * Al escribir, es crucial incluir el parámetro `newline=''` para evitar que se inserten filas en blanco entre los datos.\n",
    "3.  **Crear un objeto Lector o Escritor**:\n",
    "    * Para leer, se crea un objeto `csv.reader` (devuelve listas) o `csv.DictReader` (devuelve diccionarios).\n",
    "    * Para escribir, se crea un objeto `csv.writer` (para escribir listas) o `csv.DictWriter` (para escribir diccionarios).\n",
    "4.  **Iterar y procesar**: Se utiliza un bucle para leer o escribir los datos fila por fila a través del objeto creado.\n",
    "\n",
    "Este proceso proporciona una capa de abstracción que nos permite trabajar con los datos de forma estructurada sin preocuparnos por los detalles de bajo nivel del formato del archivo."
   ]
  },
  {
   "cell_type": "markdown",
   "metadata": {},
   "source": [
    "## Principales Funciones de Python para Procesar Archivos CSV\n",
    "\n",
    "| **Función/Clase**       | **Descripción**                                                                                   | **Ejemplo de Uso**                          |\n",
    "|--------------------------|---------------------------------------------------------------------------------------------------|---------------------------------------------|\n",
    "| `csv.reader`            | Lee un archivo CSV y devuelve cada fila como una lista de cadenas.                                | `lector = csv.reader(archivo)`             |\n",
    "| `csv.DictReader`        | Lee un archivo CSV y devuelve cada fila como un diccionario, usando los encabezados como claves.  | `lector = csv.DictReader(archivo)`         |\n",
    "| `csv.writer`            | Escribe datos en un archivo CSV a partir de listas anidadas.                                      | `escritor = csv.writer(archivo)`           |\n",
    "| `csv.DictWriter`        | Escribe datos en un archivo CSV a partir de diccionarios, usando claves como encabezados.         | `escritor = csv.DictWriter(archivo)`       |\n",
    "| `writerow`              | Escribe una sola fila en un archivo CSV.                                                         | `escritor.writerow(['col1', 'col2'])`      |\n",
    "| `writerows`             | Escribe múltiples filas en un archivo CSV.                                                       | `escritor.writerows(lista_de_filas)`       |\n",
    "| `writeheader`           | Escribe los encabezados en un archivo CSV (usado con `DictWriter`).                               | `escritor.writeheader()`                   |\n",
    "\n",
    "Estas funciones y clases del módulo `csv` permiten manejar archivos CSV de manera eficiente y estructurada, ya sea para lectura o escritura."
   ]
  },
  {
   "cell_type": "markdown",
   "metadata": {},
   "source": [
    "## 0. Preparación: Creación de un Archivo de Ejemplo\n",
    "\n",
    "Para esta práctica, primero crearemos nuestro propio archivo CSV llamado `estudiantes.csv`. Este archivo contendrá información básica sobre estudiantes y sus calificaciones. Ejecute la siguiente celda para crearlo en su directorio de trabajo."
   ]
  },
  {
   "cell_type": "code",
   "execution_count": null,
   "metadata": {},
   "outputs": [],
   "source": [
    "import csv\n",
    "\n",
    "# Datos de ejemplo que escribiremos en el archivo\n",
    "datos_ejemplo = [\n",
    "    ['id', 'nombre', 'carrera', 'calificacion'],\n",
    "    ['101', 'Ana Torres', 'Ingeniería de Sistemas', '95'],\n",
    "    ['102', 'Luis Vera', 'Ciencia de Datos', '88'],\n",
    "    ['103', 'Sofía Castro', 'Ingeniería de Software', '100'],\n",
    "    ['104', 'Carlos Mora, Jr.', 'Ingeniería de Sistemas', '78']\n",
    "]\n",
    "\n",
    "# Nombre del archivo que vamos a crear\n",
    "nombre_archivo = 'estudiantes.csv'\n",
    "\n",
    "# Usamos 'with open' para escribir el archivo\n",
    "with open(nombre_archivo, mode='w', newline='', encoding='utf-8') as archivo_csv:\n",
    "    escritor_csv = csv.writer(archivo_csv)\n",
    "    escritor_csv.writerows(datos_ejemplo)\n",
    "\n",
    "print(f\"Archivo '{nombre_archivo}' creado exitosamente.\")"
   ]
  },
  {
   "cell_type": "markdown",
   "metadata": {},
   "source": [
    "## 1. Lectura de Archivos CSV\n",
    "\n",
    "Python ofrece el módulo `csv`, una herramienta robusta diseñada específicamente para manejar estos archivos, evitando problemas comunes como comas dentro de los datos.\n",
    "\n",
    "### Lectura con `csv.reader`\n",
    "El objeto `csv.reader` permite iterar sobre las filas del archivo, donde cada fila es representada como una **lista de cadenas de texto**."
   ]
  },
  {
   "cell_type": "code",
   "execution_count": null,
   "metadata": {},
   "outputs": [],
   "source": [
    "import csv\n",
    "\n",
    "with open('estudiantes.csv', mode='r', encoding='utf-8') as archivo_csv:\n",
    "    lector_csv = csv.reader(archivo_csv)\n",
    "    \n",
    "    # El objeto lector_csv es un iterador, podemos recorrerlo con un bucle\n",
    "    print(\"Leyendo el archivo fila por fila (cada fila es una lista):\")\n",
    "    for fila in lector_csv:\n",
    "        print(fila)"
   ]
  },
  {
   "cell_type": "markdown",
   "metadata": {},
   "source": [
    "### Lectura con `csv.DictReader` (Método Recomendado)\n",
    "Una forma más intuitiva de trabajar con datos tabulares es `csv.DictReader`. Este objeto también itera sobre las filas, pero representa cada una como un **diccionario**. Las llaves del diccionario son los encabezados de las columnas (la primera fila), lo que facilita el acceso a los datos por su nombre."
   ]
  },
  {
   "cell_type": "code",
   "execution_count": null,
   "metadata": {},
   "outputs": [],
   "source": [
    "import csv\n",
    "\n",
    "with open('estudiantes.csv', mode='r', encoding='utf-8') as archivo_csv:\n",
    "    lector_dict = csv.DictReader(archivo_csv)\n",
    "    \n",
    "    print(\"\\nLeyendo el archivo (cada fila es un diccionario):\")\n",
    "    for fila_dict in lector_dict:\n",
    "        # Ahora podemos acceder a los datos por el nombre de la columna\n",
    "        nombre = fila_dict['nombre']\n",
    "        calificacion = fila_dict['calificacion']\n",
    "        print(f\"Estudiante: {nombre}, Calificación: {calificacion}\")"
   ]
  },
  {
   "cell_type": "markdown",
   "metadata": {},
   "source": [
    "## 2. Escritura en Archivos CSV\n",
    "\n",
    "Para escribir datos, abrimos el archivo en modo escritura (`'w'`) y utilizamos `csv.writer` o `csv.DictWriter`.\n",
    "\n",
    "### Escritura con `csv.writer`\n",
    "Este método requiere que los datos estén en formato de **listas anidadas** (una lista de listas)."
   ]
  },
  {
   "cell_type": "code",
   "execution_count": null,
   "metadata": {},
   "outputs": [],
   "source": [
    "import csv\n",
    "\n",
    "# Datos de nuevos estudiantes para agregar\n",
    "nuevos_datos = [\n",
    "    ['105', 'Maria Paz', 'Ingeniería Industrial', '91'],\n",
    "    ['106', 'Juan Rios', 'Ciencia de Datos', '85']\n",
    "]\n",
    "\n",
    "# Escribimos en un nuevo archivo llamado 'estudiantes_actualizado.csv'\n",
    "with open('estudiantes_actualizado.csv', mode='w', newline='', encoding='utf-8') as archivo_csv:\n",
    "    escritor_csv = csv.writer(archivo_csv)\n",
    "    \n",
    "    # Escribimos el encabezado primero\n",
    "    escritor_csv.writerow(['id', 'nombre', 'carrera', 'calificacion'])\n",
    "    \n",
    "    # Escribimos todas las filas de datos\n",
    "    escritor_csv.writerows(nuevos_datos)\n",
    "\n",
    "print(\"Archivo 'estudiantes_actualizado.csv' escrito exitosamente.\")\n",
    "\n",
    "# Verificación (opcional): leemos el archivo que acabamos de crear\n",
    "print(\"\\nContenido del nuevo archivo:\")\n",
    "with open('estudiantes_actualizado.csv', mode='r', encoding='utf-8') as f:\n",
    "    print(f.read())"
   ]
  },
  {
   "cell_type": "markdown",
   "metadata": {},
   "source": [
    "## 3. Ejercicios Prácticos \n",
    "\n",
    "Es tu turno de aplicar lo aprendido.\n",
    "\n",
    "### Ejercicio 1: Calcular el Promedio\n",
    "Lee el archivo `estudiantes.csv` y calcula la calificación promedio de todos los estudiantes.\n",
    "\n",
    "**Pista:** Recuerda convertir la calificación (que es una cadena de texto) a un número (`int` o `float`) antes de sumarla."
   ]
  },
  {
   "cell_type": "code",
   "execution_count": null,
   "metadata": {},
   "outputs": [],
   "source": [
    "import csv\n",
    "\n",
    "total_calificaciones = 0\n",
    "numero_estudiantes = 0\n",
    "\n",
    "with open('estudiantes.csv', mode='r', encoding='utf-8') as archivo_csv:\n",
    "    lector_dict = csv.DictReader(archivo_csv)\n",
    "    \n",
    "    # Su código aquí\n",
    "    for fila in lector_dict:\n",
    "        total_calificaciones += int(fila['calificacion'])\n",
    "        numero_estudiantes += 1\n",
    "\n",
    "if numero_estudiantes > 0:\n",
    "    promedio = total_calificaciones / numero_estudiantes\n",
    "    print(f\"El promedio de calificación de los {numero_estudiantes} estudiantes es: {promedio:.2f}\")\n",
    "else:\n",
    "    print(\"No se encontraron estudiantes para calcular el promedio.\")\n",
    "\n",
    "# Salida Esperada: El promedio de calificación de los 4 estudiantes es: 90.25"
   ]
  },
  {
   "cell_type": "markdown",
   "metadata": {},
   "source": [
    "### Ejercicio 2: Filtrar Datos y Escribir un Nuevo Archivo\n",
    "Crea un nuevo archivo CSV llamado `estudiantes_destacados.csv` que contenga únicamente a los estudiantes del archivo `estudiantes.csv` cuya calificación sea **mayor o igual a 90**. El nuevo archivo debe tener los mismos encabezados."
   ]
  },
  {
   "cell_type": "code",
   "execution_count": null,
   "metadata": {},
   "outputs": [],
   "source": [
    "import csv\n",
    "\n",
    "estudiantes_destacados = []\n",
    "\n",
    "# Primero, leemos y filtramos los datos\n",
    "with open('estudiantes.csv', mode='r', encoding='utf-8') as archivo_lectura:\n",
    "    lector_dict = csv.DictReader(archivo_lectura)\n",
    "    \n",
    "    # Su código de lectura y filtrado aquí\n",
    "    for fila in lector_dict:\n",
    "        if int(fila['calificacion']) >= 90:\n",
    "            estudiantes_destacados.append(fila)\n",
    "\n",
    "# Ahora, escribimos los datos filtrados en un nuevo archivo\n",
    "nombre_archivo_nuevo = 'estudiantes_destacados.csv'\n",
    "encabezados = ['id', 'nombre', 'carrera', 'calificacion']\n",
    "\n",
    "if estudiantes_destacados:\n",
    "    with open(nombre_archivo_nuevo, mode='w', newline='', encoding='utf-8') as archivo_escritura:\n",
    "        escritor_dict = csv.DictWriter(archivo_escritura, fieldnames=encabezados)\n",
    "        \n",
    "        # Su código de escritura aquí\n",
    "        escritor_dict.writeheader()\n",
    "        escritor_dict.writerows(estudiantes_destacados)\n",
    "        \n",
    "    print(f\"Archivo '{nombre_archivo_nuevo}' creado con {len(estudiantes_destacados)} estudiantes destacados.\")\n",
    "else:\n",
    "    print(\"No se encontraron estudiantes destacados.\")\n",
    "\n",
    "# Salida Esperada: Archivo 'estudiantes_destacados.csv' creado con 3 estudiantes destacados."
   ]
  }
 ],
 "metadata": {
  "kernelspec": {
   "display_name": "Python 3",
   "language": "python",
   "name": "python3"
  },
  "language_info": {
   "codemirror_mode": {
    "name": "ipython",
    "version": 3
   },
   "file_extension": ".py",
   "mimetype": "text/x-python",
   "name": "python",
   "nbconvert_exporter": "python",
   "pygments_lexer": "ipython3",
   "version": "3.9.12"
  }
 },
 "nbformat": 4,
 "nbformat_minor": 4
}
