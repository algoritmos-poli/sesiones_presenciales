{
 "cells": [
  {
   "cell_type": "markdown",
   "id": "6f9cbf4b",
   "metadata": {},
   "source": []
  },
  {
   "cell_type": "markdown",
   "id": "ec1a89c4",
   "metadata": {},
   "source": [
    "## Refererencias\n",
    "\n",
    "1. https://algs4.cs.princeton.edu/14analysis/\n",
    "2. https://introcs.cs.princeton.edu/python/23recursion/\n",
    "3. https://www.cs.princeton.edu/courses/archive/spring21/cos226/lectures/study/14AnalysisOfAlgorithms.html"
   ]
  }
 ],
 "metadata": {
  "language_info": {
   "name": "python"
  }
 },
 "nbformat": 4,
 "nbformat_minor": 5
}
